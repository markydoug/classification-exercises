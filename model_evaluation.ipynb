{
 "cells": [
  {
   "cell_type": "code",
   "execution_count": 1,
   "id": "7f7abf09",
   "metadata": {},
   "outputs": [],
   "source": [
    "import pandas as pd\n",
    "import numpy as np\n",
    "import matplotlib.pyplot as plt\n",
    "import seaborn as sns\n",
    "import scipy.stats as stats\n",
    "from sklearn.model_selection import train_test_split\n",
    "import sklearn.metrics as metrics\n",
    "\n",
    "import acquire\n",
    "import prepare"
   ]
  },
  {
   "cell_type": "markdown",
   "id": "4d7dedad",
   "metadata": {},
   "source": [
    "## 2. Given the following confusion matrix, evaluate (by hand) the model's performance.\n",
    "\n",
    "|               | pred dog   | pred cat   |\n",
    "|:------------  |-----------:|-----------:|\n",
    "| actual dog    |         46 |         7  |\n",
    "| actual cat    |         13 |         34 |\n",
    "\n",
    "dog = positive class\n",
    "\n",
    "cat = negative class"
   ]
  },
  {
   "cell_type": "markdown",
   "id": "c8b64407",
   "metadata": {},
   "source": [
    "- **In the context of this problem, what is a false positive?**\n",
    "    - We predicted a dog, but it's a cat"
   ]
  },
  {
   "cell_type": "markdown",
   "id": "b43281e2",
   "metadata": {},
   "source": [
    "- **In the context of this problem, what is a false negative?**\n",
    "    - We predicted a cat, but it's a dog"
   ]
  },
  {
   "cell_type": "markdown",
   "id": "559c39bb",
   "metadata": {},
   "source": [
    "- **How would you describe this model?**"
   ]
  },
  {
   "cell_type": "code",
   "execution_count": 2,
   "id": "43792053",
   "metadata": {},
   "outputs": [
    {
     "name": "stdout",
     "output_type": "stream",
     "text": [
      "Dog-classifier (where 'dog' is the positive prediction)\n",
      "\n",
      "True Positives 46\n",
      "False Positives 13\n",
      "False Negatives 7\n",
      "True Negatives 34\n",
      "-------------\n",
      "Accuracy is 0.8\n",
      "Recall is 0.87\n",
      "Precision is 0.78\n"
     ]
    }
   ],
   "source": [
    "tp = 46\n",
    "tn = 34\n",
    "fp = 13\n",
    "fn = 7\n",
    "\n",
    "print(\"Dog-classifier (where 'dog' is the positive prediction)\\n\")\n",
    "\n",
    "print(\"True Positives\", tp)\n",
    "print(\"False Positives\", fp)\n",
    "print(\"False Negatives\", fn)\n",
    "print(\"True Negatives\", tn)\n",
    "\n",
    "print(\"-------------\")\n",
    "\n",
    "accuracy = (tp + tn) / (tp + tn + fp + fn)\n",
    "\n",
    "precision = tp / (tp + fp)\n",
    "\n",
    "recall = tp / (tp + fn)\n",
    "\n",
    "print(\"Accuracy is\", accuracy)\n",
    "print(\"Recall is\", round(recall,2))\n",
    "print(\"Precision is\", round(precision,2))"
   ]
  },
  {
   "cell_type": "markdown",
   "id": "e3fbb146",
   "metadata": {},
   "source": [
    "## 3. You are working as a datascientist working for Codeup Cody Creator (C3 for short), a rubber-duck manufacturing plant.\n",
    "\n",
    "Unfortunately, some of the rubber ducks that are produced will have defects. Your team has built several models that try to predict those defects, and the data from their predictions can be found here."
   ]
  },
  {
   "cell_type": "code",
   "execution_count": 3,
   "id": "712d3508",
   "metadata": {},
   "outputs": [
    {
     "data": {
      "text/html": [
       "<div>\n",
       "<style scoped>\n",
       "    .dataframe tbody tr th:only-of-type {\n",
       "        vertical-align: middle;\n",
       "    }\n",
       "\n",
       "    .dataframe tbody tr th {\n",
       "        vertical-align: top;\n",
       "    }\n",
       "\n",
       "    .dataframe thead th {\n",
       "        text-align: right;\n",
       "    }\n",
       "</style>\n",
       "<table border=\"1\" class=\"dataframe\">\n",
       "  <thead>\n",
       "    <tr style=\"text-align: right;\">\n",
       "      <th></th>\n",
       "      <th>actual</th>\n",
       "      <th>model1</th>\n",
       "      <th>model2</th>\n",
       "      <th>model3</th>\n",
       "    </tr>\n",
       "  </thead>\n",
       "  <tbody>\n",
       "    <tr>\n",
       "      <th>0</th>\n",
       "      <td>No Defect</td>\n",
       "      <td>No Defect</td>\n",
       "      <td>Defect</td>\n",
       "      <td>No Defect</td>\n",
       "    </tr>\n",
       "    <tr>\n",
       "      <th>1</th>\n",
       "      <td>No Defect</td>\n",
       "      <td>No Defect</td>\n",
       "      <td>Defect</td>\n",
       "      <td>Defect</td>\n",
       "    </tr>\n",
       "    <tr>\n",
       "      <th>2</th>\n",
       "      <td>No Defect</td>\n",
       "      <td>No Defect</td>\n",
       "      <td>Defect</td>\n",
       "      <td>No Defect</td>\n",
       "    </tr>\n",
       "    <tr>\n",
       "      <th>3</th>\n",
       "      <td>No Defect</td>\n",
       "      <td>Defect</td>\n",
       "      <td>Defect</td>\n",
       "      <td>Defect</td>\n",
       "    </tr>\n",
       "    <tr>\n",
       "      <th>4</th>\n",
       "      <td>No Defect</td>\n",
       "      <td>No Defect</td>\n",
       "      <td>Defect</td>\n",
       "      <td>No Defect</td>\n",
       "    </tr>\n",
       "  </tbody>\n",
       "</table>\n",
       "</div>"
      ],
      "text/plain": [
       "      actual     model1  model2     model3\n",
       "0  No Defect  No Defect  Defect  No Defect\n",
       "1  No Defect  No Defect  Defect     Defect\n",
       "2  No Defect  No Defect  Defect  No Defect\n",
       "3  No Defect     Defect  Defect     Defect\n",
       "4  No Defect  No Defect  Defect  No Defect"
      ]
     },
     "execution_count": 3,
     "metadata": {},
     "output_type": "execute_result"
    }
   ],
   "source": [
    "c3 = pd.read_csv('c3.csv')\n",
    "c3.head()"
   ]
  },
  {
   "cell_type": "code",
   "execution_count": 4,
   "id": "044fb474",
   "metadata": {},
   "outputs": [
    {
     "name": "stdout",
     "output_type": "stream",
     "text": [
      "<class 'pandas.core.frame.DataFrame'>\n",
      "RangeIndex: 200 entries, 0 to 199\n",
      "Data columns (total 4 columns):\n",
      " #   Column  Non-Null Count  Dtype \n",
      "---  ------  --------------  ----- \n",
      " 0   actual  200 non-null    object\n",
      " 1   model1  200 non-null    object\n",
      " 2   model2  200 non-null    object\n",
      " 3   model3  200 non-null    object\n",
      "dtypes: object(4)\n",
      "memory usage: 6.4+ KB\n"
     ]
    }
   ],
   "source": [
    "c3.info()"
   ]
  },
  {
   "cell_type": "code",
   "execution_count": 5,
   "id": "0c4e57d0",
   "metadata": {},
   "outputs": [
    {
     "data": {
      "text/plain": [
       "No Defect    184\n",
       "Defect        16\n",
       "Name: actual, dtype: int64"
      ]
     },
     "execution_count": 5,
     "metadata": {},
     "output_type": "execute_result"
    }
   ],
   "source": [
    "c3.actual.value_counts()"
   ]
  },
  {
   "cell_type": "markdown",
   "id": "e41eddf9",
   "metadata": {},
   "source": [
    "### Use the predictions dataset and pandas to help answer the following questions:\n",
    "\n",
    "- An internal team wants to investigate the cause of the manufacturing defects. They tell you that they want to identify as many of the ducks that have a defect as possible. Which evaluation metric would be appropriate here? \n",
    "\n",
    "    - **positive**: defects\n",
    "    - **negative**: no_defects\n",
    "\n",
    "    - ***True Negative***: Predicted no defect, and there was no defect\n",
    "    - ***False Positive***: Predicted a defect and there was no defect\n",
    "    - ***False Negative***: Predicted no defect, and there was a defect\n",
    "    - ***True Positive***: Predicted a defect, and there was a defect\n",
    " \n",
    "Since **false negatives** are more costy, so we should use the **recall metric**"
   ]
  },
  {
   "cell_type": "markdown",
   "id": "490be2b0",
   "metadata": {},
   "source": [
    "- Which model would be the best fit for this use case?\n"
   ]
  },
  {
   "cell_type": "code",
   "execution_count": 6,
   "id": "486e30bb",
   "metadata": {},
   "outputs": [],
   "source": [
    "c3['baseline'] = 'Defect'"
   ]
  },
  {
   "cell_type": "code",
   "execution_count": 7,
   "id": "fb282a35",
   "metadata": {},
   "outputs": [],
   "source": [
    "subset_recall = c3[c3.actual == 'Defect']"
   ]
  },
  {
   "cell_type": "code",
   "execution_count": 8,
   "id": "8488a235",
   "metadata": {
    "scrolled": true
   },
   "outputs": [
    {
     "name": "stdout",
     "output_type": "stream",
     "text": [
      "   model1 recall: 50.00%\n"
     ]
    }
   ],
   "source": [
    "model_recall = (subset_recall.model1 == subset_recall.actual).mean()\n",
    "\n",
    "print(f'   model1 recall: {model_recall:.2%}')"
   ]
  },
  {
   "cell_type": "code",
   "execution_count": 9,
   "id": "1dec8784",
   "metadata": {},
   "outputs": [
    {
     "name": "stdout",
     "output_type": "stream",
     "text": [
      "   model2 recall: 56.25%\n"
     ]
    }
   ],
   "source": [
    "model_recall = (subset_recall.model2 == subset_recall.actual).mean()\n",
    "\n",
    "print(f'   model2 recall: {model_recall:.2%}')"
   ]
  },
  {
   "cell_type": "code",
   "execution_count": 10,
   "id": "6be70d59",
   "metadata": {},
   "outputs": [
    {
     "name": "stdout",
     "output_type": "stream",
     "text": [
      "   model3 recall: 81.25%\n"
     ]
    }
   ],
   "source": [
    "model_recall = (subset_recall.model3 == subset_recall.actual).mean()\n",
    "\n",
    "print(f'   model3 recall: {model_recall:.2%}')"
   ]
  },
  {
   "cell_type": "markdown",
   "id": "2a949087",
   "metadata": {},
   "source": [
    "**Model 3** has the highest recall so they should use it because it would help them avoid false negatives."
   ]
  },
  {
   "cell_type": "markdown",
   "id": "8f65257a",
   "metadata": {},
   "source": [
    "#### Recently several stories in the local news have come out highlighting customers who received a rubber duck with a defect, and portraying C3 in a bad light. The PR team has decided to launch a program that gives customers with a defective duck a vacation to Hawaii. \n",
    "*They need you to predict which ducks will have defects, but tell you they really don't want to accidentally give out a vacation package when the duck really doesn't have a defect.*\n",
    "- Which evaluation metric would be appropriate here?\n",
    "    - Since **false positives** are more costy, so we should use the precision metric."
   ]
  },
  {
   "cell_type": "markdown",
   "id": "a71ae788",
   "metadata": {},
   "source": [
    "- Which model would be the best fit for this use case?"
   ]
  },
  {
   "cell_type": "code",
   "execution_count": 11,
   "id": "b04b4d94",
   "metadata": {},
   "outputs": [
    {
     "name": "stdout",
     "output_type": "stream",
     "text": [
      "model2 precision: 80.00%\n"
     ]
    }
   ],
   "source": [
    "subset = c3[c3.model1 == 'Defect']\n",
    "model_precision = (subset.model1 == subset.actual).mean()\n",
    "\n",
    "print(f'model2 precision: {model_precision:.2%}')"
   ]
  },
  {
   "cell_type": "code",
   "execution_count": 12,
   "id": "32acde08",
   "metadata": {},
   "outputs": [
    {
     "name": "stdout",
     "output_type": "stream",
     "text": [
      "model3 precision: 10.00%\n"
     ]
    }
   ],
   "source": [
    "subset = c3[c3.model2 == 'Defect']\n",
    "model_precision = (subset.model2 == subset.actual).mean()\n",
    "\n",
    "print(f'model3 precision: {model_precision:.2%}')"
   ]
  },
  {
   "cell_type": "code",
   "execution_count": 13,
   "id": "82ac1ee9",
   "metadata": {},
   "outputs": [
    {
     "name": "stdout",
     "output_type": "stream",
     "text": [
      "model precision: 13.13%\n"
     ]
    }
   ],
   "source": [
    "subset = c3[c3.model3 == 'Defect']\n",
    "model_precision = (subset.model3 == subset.actual).mean()\n",
    "\n",
    "print(f'model precision: {model_precision:.2%}')"
   ]
  },
  {
   "cell_type": "markdown",
   "id": "221194d9",
   "metadata": {},
   "source": [
    "**Model 1** has the highest precision so they should use it because it would help them avoid false positives."
   ]
  },
  {
   "cell_type": "markdown",
   "id": "03385bbc",
   "metadata": {},
   "source": [
    "## You are working as a data scientist for Gives You Paws ™, a subscription based service that shows you cute pictures of dogs or cats (or both for an additional fee).\n",
    "\n",
    "At Gives You Paws, anyone can upload pictures of their cats or dogs. The photos are then put through a two step process. First an automated algorithm tags pictures as either a cat or a dog (Phase I). Next, the photos that have been initially identified are put through another round of review, possibly with some human oversight, before being presented to the users (Phase II).\n",
    "\n",
    "Several models have already been developed with the data, and you can find their results here."
   ]
  },
  {
   "cell_type": "code",
   "execution_count": 14,
   "id": "f6353baf",
   "metadata": {},
   "outputs": [],
   "source": [
    "paws = pd.read_csv('gives_you_paws.csv')"
   ]
  },
  {
   "cell_type": "code",
   "execution_count": 15,
   "id": "898eae27",
   "metadata": {},
   "outputs": [
    {
     "data": {
      "text/html": [
       "<div>\n",
       "<style scoped>\n",
       "    .dataframe tbody tr th:only-of-type {\n",
       "        vertical-align: middle;\n",
       "    }\n",
       "\n",
       "    .dataframe tbody tr th {\n",
       "        vertical-align: top;\n",
       "    }\n",
       "\n",
       "    .dataframe thead th {\n",
       "        text-align: right;\n",
       "    }\n",
       "</style>\n",
       "<table border=\"1\" class=\"dataframe\">\n",
       "  <thead>\n",
       "    <tr style=\"text-align: right;\">\n",
       "      <th></th>\n",
       "      <th>actual</th>\n",
       "      <th>model1</th>\n",
       "      <th>model2</th>\n",
       "      <th>model3</th>\n",
       "      <th>model4</th>\n",
       "    </tr>\n",
       "  </thead>\n",
       "  <tbody>\n",
       "    <tr>\n",
       "      <th>0</th>\n",
       "      <td>cat</td>\n",
       "      <td>cat</td>\n",
       "      <td>dog</td>\n",
       "      <td>cat</td>\n",
       "      <td>dog</td>\n",
       "    </tr>\n",
       "    <tr>\n",
       "      <th>1</th>\n",
       "      <td>dog</td>\n",
       "      <td>dog</td>\n",
       "      <td>cat</td>\n",
       "      <td>cat</td>\n",
       "      <td>dog</td>\n",
       "    </tr>\n",
       "    <tr>\n",
       "      <th>2</th>\n",
       "      <td>dog</td>\n",
       "      <td>cat</td>\n",
       "      <td>cat</td>\n",
       "      <td>cat</td>\n",
       "      <td>dog</td>\n",
       "    </tr>\n",
       "    <tr>\n",
       "      <th>3</th>\n",
       "      <td>dog</td>\n",
       "      <td>dog</td>\n",
       "      <td>dog</td>\n",
       "      <td>cat</td>\n",
       "      <td>dog</td>\n",
       "    </tr>\n",
       "    <tr>\n",
       "      <th>4</th>\n",
       "      <td>cat</td>\n",
       "      <td>cat</td>\n",
       "      <td>cat</td>\n",
       "      <td>dog</td>\n",
       "      <td>dog</td>\n",
       "    </tr>\n",
       "  </tbody>\n",
       "</table>\n",
       "</div>"
      ],
      "text/plain": [
       "  actual model1 model2 model3 model4\n",
       "0    cat    cat    dog    cat    dog\n",
       "1    dog    dog    cat    cat    dog\n",
       "2    dog    cat    cat    cat    dog\n",
       "3    dog    dog    dog    cat    dog\n",
       "4    cat    cat    cat    dog    dog"
      ]
     },
     "execution_count": 15,
     "metadata": {},
     "output_type": "execute_result"
    }
   ],
   "source": [
    "paws.head()"
   ]
  },
  {
   "cell_type": "code",
   "execution_count": 16,
   "id": "968eca8b",
   "metadata": {},
   "outputs": [
    {
     "data": {
      "text/plain": [
       "dog    3254\n",
       "cat    1746\n",
       "Name: actual, dtype: int64"
      ]
     },
     "execution_count": 16,
     "metadata": {},
     "output_type": "execute_result"
    }
   ],
   "source": [
    "paws.actual.value_counts()"
   ]
  },
  {
   "cell_type": "markdown",
   "id": "1d596867",
   "metadata": {},
   "source": [
    "Given this dataset, use pandas to create a baseline model (i.e. a model that just predicts the most common class) and answer the following questions:"
   ]
  },
  {
   "cell_type": "code",
   "execution_count": 17,
   "id": "585fcaf0",
   "metadata": {},
   "outputs": [],
   "source": [
    "paws['baseline'] = 'dog'"
   ]
  },
  {
   "cell_type": "code",
   "execution_count": 18,
   "id": "92e38fcb",
   "metadata": {},
   "outputs": [
    {
     "data": {
      "text/html": [
       "<div>\n",
       "<style scoped>\n",
       "    .dataframe tbody tr th:only-of-type {\n",
       "        vertical-align: middle;\n",
       "    }\n",
       "\n",
       "    .dataframe tbody tr th {\n",
       "        vertical-align: top;\n",
       "    }\n",
       "\n",
       "    .dataframe thead th {\n",
       "        text-align: right;\n",
       "    }\n",
       "</style>\n",
       "<table border=\"1\" class=\"dataframe\">\n",
       "  <thead>\n",
       "    <tr style=\"text-align: right;\">\n",
       "      <th></th>\n",
       "      <th>actual</th>\n",
       "      <th>model1</th>\n",
       "      <th>model2</th>\n",
       "      <th>model3</th>\n",
       "      <th>model4</th>\n",
       "      <th>baseline</th>\n",
       "    </tr>\n",
       "  </thead>\n",
       "  <tbody>\n",
       "    <tr>\n",
       "      <th>0</th>\n",
       "      <td>cat</td>\n",
       "      <td>cat</td>\n",
       "      <td>dog</td>\n",
       "      <td>cat</td>\n",
       "      <td>dog</td>\n",
       "      <td>dog</td>\n",
       "    </tr>\n",
       "    <tr>\n",
       "      <th>1</th>\n",
       "      <td>dog</td>\n",
       "      <td>dog</td>\n",
       "      <td>cat</td>\n",
       "      <td>cat</td>\n",
       "      <td>dog</td>\n",
       "      <td>dog</td>\n",
       "    </tr>\n",
       "    <tr>\n",
       "      <th>2</th>\n",
       "      <td>dog</td>\n",
       "      <td>cat</td>\n",
       "      <td>cat</td>\n",
       "      <td>cat</td>\n",
       "      <td>dog</td>\n",
       "      <td>dog</td>\n",
       "    </tr>\n",
       "    <tr>\n",
       "      <th>3</th>\n",
       "      <td>dog</td>\n",
       "      <td>dog</td>\n",
       "      <td>dog</td>\n",
       "      <td>cat</td>\n",
       "      <td>dog</td>\n",
       "      <td>dog</td>\n",
       "    </tr>\n",
       "    <tr>\n",
       "      <th>4</th>\n",
       "      <td>cat</td>\n",
       "      <td>cat</td>\n",
       "      <td>cat</td>\n",
       "      <td>dog</td>\n",
       "      <td>dog</td>\n",
       "      <td>dog</td>\n",
       "    </tr>\n",
       "  </tbody>\n",
       "</table>\n",
       "</div>"
      ],
      "text/plain": [
       "  actual model1 model2 model3 model4 baseline\n",
       "0    cat    cat    dog    cat    dog      dog\n",
       "1    dog    dog    cat    cat    dog      dog\n",
       "2    dog    cat    cat    cat    dog      dog\n",
       "3    dog    dog    dog    cat    dog      dog\n",
       "4    cat    cat    cat    dog    dog      dog"
      ]
     },
     "execution_count": 18,
     "metadata": {},
     "output_type": "execute_result"
    }
   ],
   "source": [
    "paws.head()"
   ]
  },
  {
   "cell_type": "markdown",
   "id": "c00adb89",
   "metadata": {},
   "source": [
    "a. In terms of accuracy, how do the various models compare to the baseline model? Are any of the models better than the baseline?"
   ]
  },
  {
   "cell_type": "markdown",
   "id": "7342a30a",
   "metadata": {},
   "source": [
    "***Accuracy***\n",
    "\n",
    "$\\LARGE\\frac{TP + TN}{TP + TN + FP + FN}$\n"
   ]
  },
  {
   "cell_type": "code",
   "execution_count": 19,
   "id": "5a5cffff",
   "metadata": {},
   "outputs": [
    {
     "name": "stdout",
     "output_type": "stream",
     "text": [
      " model 1 accuracy: 80.74%\n",
      " model 2 accuracy: 63.04%\n",
      " model 3 accuracy: 50.96%\n",
      " model 4 accuracy: 74.26%\n",
      "baseline accuracy: 65.08%\n"
     ]
    }
   ],
   "source": [
    "model1_accuracy = (paws.model1 == paws.actual).mean()\n",
    "model2_accuracy = (paws.model2 == paws.actual).mean()\n",
    "model3_accuracy = (paws.model3 == paws.actual).mean()\n",
    "model4_accuracy = (paws.model4 == paws.actual).mean()\n",
    "baseline_accuracy = (paws.baseline == paws.actual).mean()\n",
    "\n",
    "print(f' model 1 accuracy: {model1_accuracy:.2%}')\n",
    "print(f' model 2 accuracy: {model2_accuracy:.2%}')\n",
    "print(f' model 3 accuracy: {model3_accuracy:.2%}')\n",
    "print(f' model 4 accuracy: {model4_accuracy:.2%}')\n",
    "print(f'baseline accuracy: {baseline_accuracy:.2%}')\n"
   ]
  },
  {
   "cell_type": "markdown",
   "id": "2bdec3aa",
   "metadata": {},
   "source": [
    "- ***Model 2 is closest to the baseline accuracy***\n",
    "- Model 1  and 4 are actually better than baseline"
   ]
  },
  {
   "cell_type": "markdown",
   "id": "6c6ed99f",
   "metadata": {},
   "source": [
    "b. Suppose you are working on a team that solely deals with dog pictures. Which of these models would you recommend?\n",
    "- **positive**: dog\n",
    "- **negative**: cat\n",
    "\n",
    "- ***True Negative***: Predicted a cat, and it was a cat\n",
    "- ***False Positive***: Predicted a dog and it was a cat\n",
    "- ***False Negative***: Predicted a cat, and it was a dog\n",
    "- ***True Positive***: Predicted a dog, and it was a dog\n",
    "\n",
    "**False negative** would be most costly, we use recall metric."
   ]
  },
  {
   "cell_type": "code",
   "execution_count": 20,
   "id": "b7d22440",
   "metadata": {},
   "outputs": [
    {
     "data": {
      "text/html": [
       "<div>\n",
       "<style scoped>\n",
       "    .dataframe tbody tr th:only-of-type {\n",
       "        vertical-align: middle;\n",
       "    }\n",
       "\n",
       "    .dataframe tbody tr th {\n",
       "        vertical-align: top;\n",
       "    }\n",
       "\n",
       "    .dataframe thead th {\n",
       "        text-align: right;\n",
       "    }\n",
       "</style>\n",
       "<table border=\"1\" class=\"dataframe\">\n",
       "  <thead>\n",
       "    <tr style=\"text-align: right;\">\n",
       "      <th></th>\n",
       "      <th>actual</th>\n",
       "      <th>model1</th>\n",
       "      <th>model2</th>\n",
       "      <th>model3</th>\n",
       "      <th>model4</th>\n",
       "      <th>baseline</th>\n",
       "    </tr>\n",
       "  </thead>\n",
       "  <tbody>\n",
       "    <tr>\n",
       "      <th>1</th>\n",
       "      <td>dog</td>\n",
       "      <td>dog</td>\n",
       "      <td>cat</td>\n",
       "      <td>cat</td>\n",
       "      <td>dog</td>\n",
       "      <td>dog</td>\n",
       "    </tr>\n",
       "    <tr>\n",
       "      <th>2</th>\n",
       "      <td>dog</td>\n",
       "      <td>cat</td>\n",
       "      <td>cat</td>\n",
       "      <td>cat</td>\n",
       "      <td>dog</td>\n",
       "      <td>dog</td>\n",
       "    </tr>\n",
       "    <tr>\n",
       "      <th>3</th>\n",
       "      <td>dog</td>\n",
       "      <td>dog</td>\n",
       "      <td>dog</td>\n",
       "      <td>cat</td>\n",
       "      <td>dog</td>\n",
       "      <td>dog</td>\n",
       "    </tr>\n",
       "    <tr>\n",
       "      <th>5</th>\n",
       "      <td>dog</td>\n",
       "      <td>dog</td>\n",
       "      <td>dog</td>\n",
       "      <td>dog</td>\n",
       "      <td>dog</td>\n",
       "      <td>dog</td>\n",
       "    </tr>\n",
       "    <tr>\n",
       "      <th>8</th>\n",
       "      <td>dog</td>\n",
       "      <td>dog</td>\n",
       "      <td>cat</td>\n",
       "      <td>dog</td>\n",
       "      <td>dog</td>\n",
       "      <td>dog</td>\n",
       "    </tr>\n",
       "  </tbody>\n",
       "</table>\n",
       "</div>"
      ],
      "text/plain": [
       "  actual model1 model2 model3 model4 baseline\n",
       "1    dog    dog    cat    cat    dog      dog\n",
       "2    dog    cat    cat    cat    dog      dog\n",
       "3    dog    dog    dog    cat    dog      dog\n",
       "5    dog    dog    dog    dog    dog      dog\n",
       "8    dog    dog    cat    dog    dog      dog"
      ]
     },
     "execution_count": 20,
     "metadata": {},
     "output_type": "execute_result"
    }
   ],
   "source": [
    "subset_recall = paws[paws.actual == 'dog']\n",
    "subset_recall.head()"
   ]
  },
  {
   "cell_type": "code",
   "execution_count": 21,
   "id": "7529dca0",
   "metadata": {},
   "outputs": [
    {
     "name": "stdout",
     "output_type": "stream",
     "text": [
      " model 1 recall: 80.33%\n",
      " model 2 recall: 49.08%\n",
      " model 3 recall: 50.86%\n",
      " model 4 recall: 95.57%\n",
      "baseline recall: 100.00%\n"
     ]
    }
   ],
   "source": [
    "model1_recall = (subset_recall.model1 == subset_recall.actual).mean()\n",
    "model2_recall = (subset_recall.model2 == subset_recall.actual).mean()\n",
    "model3_recall = (subset_recall.model3 == subset_recall.actual).mean()\n",
    "model4_recall = (subset_recall.model4 == subset_recall.actual).mean()\n",
    "baseline_recall = (subset_recall.baseline == subset_recall.actual).mean()\n",
    "\n",
    "print(f' model 1 recall: {model1_recall:.2%}')\n",
    "print(f' model 2 recall: {model2_recall:.2%}')\n",
    "print(f' model 3 recall: {model3_recall:.2%}')\n",
    "print(f' model 4 recall: {model4_recall:.2%}')\n",
    "print(f'baseline recall: {baseline_recall:.2%}')"
   ]
  },
  {
   "cell_type": "markdown",
   "id": "6ac9437f",
   "metadata": {},
   "source": [
    "**Model 4** has the highest recall so they should use it because it would help them avoid false negatives."
   ]
  },
  {
   "cell_type": "markdown",
   "id": "61c4fd22",
   "metadata": {},
   "source": [
    "c. Suppose you are working on a team that solely deals with cat pictures. Which of these models would you recommend?\n",
    "\n",
    "**False positive** would be most costly, we use precision metric."
   ]
  },
  {
   "cell_type": "code",
   "execution_count": 22,
   "id": "d4789c2d",
   "metadata": {},
   "outputs": [
    {
     "name": "stdout",
     "output_type": "stream",
     "text": [
      "model 1 precision: 68.98%\n",
      "model 2 precision: 48.41%\n",
      "model 3 precision: 35.83%\n",
      "model 4 precision: 80.72%\n"
     ]
    }
   ],
   "source": [
    "subset1 = paws[paws.model1 == 'cat']\n",
    "model1_precision = (subset1.model1 == subset1.actual).mean()\n",
    "print(f'model 1 precision: {model1_precision:.2%}')\n",
    "\n",
    "subset2 = paws[paws.model2 == 'cat']\n",
    "model2_precision = (subset2.model2 == subset2.actual).mean()\n",
    "print(f'model 2 precision: {model2_precision:.2%}')\n",
    "\n",
    "subset3 = paws[paws.model3 == 'cat']\n",
    "model3_precision = (subset3.model3 == subset3.actual).mean()\n",
    "print(f'model 3 precision: {model3_precision:.2%}')\n",
    "\n",
    "subset4 = paws[paws.model4 == 'cat']\n",
    "model4_precision = (subset4.model4 == subset4.actual).mean()\n",
    "print(f'model 4 precision: {model4_precision:.2%}')"
   ]
  },
  {
   "cell_type": "markdown",
   "id": "2bedfbca",
   "metadata": {},
   "source": [
    "**Model 4** has the highest precision so they should use it because it would help them avoid false positives."
   ]
  },
  {
   "cell_type": "markdown",
   "id": "557724d8",
   "metadata": {},
   "source": [
    "## 5. Follow the links below to read the documentation about each function, then apply those functions to the data from the previous problem.\n",
    "\n",
    "sklearn.metrics.accuracy_score https://scikit-learn.org/stable/modules/generated/sklearn.metrics.accuracy_score.html\n",
    "\n",
    "sklearn.metrics.precision_score https://scikit-learn.org/stable/modules/generated/sklearn.metrics.precision_score.html\n",
    "\n",
    "sklearn.metrics.recall_score https://scikit-learn.org/stable/modules/generated/sklearn.metrics.recall_score.html\n",
    "\n",
    "sklearn.metrics.classification_report https://scikit-learn.org/stable/modules/generated/sklearn.metrics.classification_report.html"
   ]
  },
  {
   "cell_type": "code",
   "execution_count": 23,
   "id": "2a873059",
   "metadata": {},
   "outputs": [
    {
     "data": {
      "text/plain": [
       "0.8074"
      ]
     },
     "execution_count": 23,
     "metadata": {},
     "output_type": "execute_result"
    }
   ],
   "source": [
    "metrics.accuracy_score(y_true=paws.actual, y_pred=paws.model1)"
   ]
  },
  {
   "cell_type": "markdown",
   "id": "dbf31332",
   "metadata": {},
   "source": [
    "^Returns accuracy score^"
   ]
  },
  {
   "cell_type": "code",
   "execution_count": 24,
   "id": "b1d8ea18",
   "metadata": {},
   "outputs": [
    {
     "data": {
      "text/plain": [
       "0.6897721764420747"
      ]
     },
     "execution_count": 24,
     "metadata": {},
     "output_type": "execute_result"
    }
   ],
   "source": [
    "metrics.precision_score(y_true=paws.actual, y_pred=paws.model1, pos_label='cat')"
   ]
  },
  {
   "cell_type": "markdown",
   "id": "9863d6da",
   "metadata": {},
   "source": [
    "^pos_label default is 1 so if you are working with strings you need to tell the function what your positive value is."
   ]
  },
  {
   "cell_type": "code",
   "execution_count": 25,
   "id": "0ec35f35",
   "metadata": {},
   "outputs": [
    {
     "data": {
      "text/plain": [
       "0.803318992009834"
      ]
     },
     "execution_count": 25,
     "metadata": {},
     "output_type": "execute_result"
    }
   ],
   "source": [
    "metrics.recall_score(y_true=paws.actual, y_pred=paws.model1, pos_label='dog')"
   ]
  },
  {
   "cell_type": "code",
   "execution_count": 26,
   "id": "365ffc81",
   "metadata": {},
   "outputs": [
    {
     "data": {
      "text/html": [
       "<div>\n",
       "<style scoped>\n",
       "    .dataframe tbody tr th:only-of-type {\n",
       "        vertical-align: middle;\n",
       "    }\n",
       "\n",
       "    .dataframe tbody tr th {\n",
       "        vertical-align: top;\n",
       "    }\n",
       "\n",
       "    .dataframe thead th {\n",
       "        text-align: right;\n",
       "    }\n",
       "</style>\n",
       "<table border=\"1\" class=\"dataframe\">\n",
       "  <thead>\n",
       "    <tr style=\"text-align: right;\">\n",
       "      <th></th>\n",
       "      <th>cat</th>\n",
       "      <th>dog</th>\n",
       "      <th>accuracy</th>\n",
       "      <th>macro avg</th>\n",
       "      <th>weighted avg</th>\n",
       "    </tr>\n",
       "  </thead>\n",
       "  <tbody>\n",
       "    <tr>\n",
       "      <th>precision</th>\n",
       "      <td>0.689772</td>\n",
       "      <td>0.890024</td>\n",
       "      <td>0.8074</td>\n",
       "      <td>0.789898</td>\n",
       "      <td>0.820096</td>\n",
       "    </tr>\n",
       "    <tr>\n",
       "      <th>recall</th>\n",
       "      <td>0.815006</td>\n",
       "      <td>0.803319</td>\n",
       "      <td>0.8074</td>\n",
       "      <td>0.809162</td>\n",
       "      <td>0.807400</td>\n",
       "    </tr>\n",
       "    <tr>\n",
       "      <th>f1-score</th>\n",
       "      <td>0.747178</td>\n",
       "      <td>0.844452</td>\n",
       "      <td>0.8074</td>\n",
       "      <td>0.795815</td>\n",
       "      <td>0.810484</td>\n",
       "    </tr>\n",
       "    <tr>\n",
       "      <th>support</th>\n",
       "      <td>1746.000000</td>\n",
       "      <td>3254.000000</td>\n",
       "      <td>0.8074</td>\n",
       "      <td>5000.000000</td>\n",
       "      <td>5000.000000</td>\n",
       "    </tr>\n",
       "  </tbody>\n",
       "</table>\n",
       "</div>"
      ],
      "text/plain": [
       "                   cat          dog  accuracy    macro avg  weighted avg\n",
       "precision     0.689772     0.890024    0.8074     0.789898      0.820096\n",
       "recall        0.815006     0.803319    0.8074     0.809162      0.807400\n",
       "f1-score      0.747178     0.844452    0.8074     0.795815      0.810484\n",
       "support    1746.000000  3254.000000    0.8074  5000.000000   5000.000000"
      ]
     },
     "execution_count": 26,
     "metadata": {},
     "output_type": "execute_result"
    }
   ],
   "source": [
    "pd.DataFrame(metrics.classification_report(y_true=paws.actual, y_pred=paws.model1, output_dict=True))"
   ]
  },
  {
   "cell_type": "markdown",
   "id": "f1c1cfb8",
   "metadata": {},
   "source": [
    "^Put all the data in one place"
   ]
  }
 ],
 "metadata": {
  "kernelspec": {
   "display_name": "Python 3 (ipykernel)",
   "language": "python",
   "name": "python3"
  },
  "language_info": {
   "codemirror_mode": {
    "name": "ipython",
    "version": 3
   },
   "file_extension": ".py",
   "mimetype": "text/x-python",
   "name": "python",
   "nbconvert_exporter": "python",
   "pygments_lexer": "ipython3",
   "version": "3.9.12"
  }
 },
 "nbformat": 4,
 "nbformat_minor": 5
}
