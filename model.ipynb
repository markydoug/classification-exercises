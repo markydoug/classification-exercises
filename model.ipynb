{
 "cells": [
  {
   "cell_type": "code",
   "execution_count": 10,
   "id": "2becd114",
   "metadata": {},
   "outputs": [],
   "source": [
    "import pandas as pd\n",
    "import numpy as np\n",
    "import matplotlib.pyplot as plt\n",
    "import seaborn as sns\n",
    "import scipy.stats as stats\n",
    "from sklearn.model_selection import train_test_split\n",
    "import sklearn.metrics as metrics\n",
    "from sklearn.tree import DecisionTreeClassifier, plot_tree\n",
    "\n",
    "import acquire\n",
    "import prepare"
   ]
  },
  {
   "cell_type": "markdown",
   "id": "73b4eb26",
   "metadata": {},
   "source": [
    "# Titanic"
   ]
  },
  {
   "cell_type": "markdown",
   "id": "aa93faf5",
   "metadata": {},
   "source": [
    "Using the titanic data, in your classification-exercises repository, create a notebook, model.ipynb where you will do the following:"
   ]
  },
  {
   "cell_type": "code",
   "execution_count": 34,
   "id": "21d338aa",
   "metadata": {},
   "outputs": [],
   "source": [
    "titanic_train, titanic_validate, titanic_test = prepare.train_validate_test_split(prepare.prep_titanic(acquire.get_titanic_data()), 'survived')"
   ]
  },
  {
   "cell_type": "markdown",
   "id": "04d3a8df",
   "metadata": {},
   "source": [
    "What is your baseline prediction? "
   ]
  },
  {
   "cell_type": "code",
   "execution_count": 35,
   "id": "cbdabe3a",
   "metadata": {},
   "outputs": [
    {
     "data": {
      "text/plain": [
       "0    307\n",
       "1    191\n",
       "Name: survived, dtype: int64"
      ]
     },
     "execution_count": 35,
     "metadata": {},
     "output_type": "execute_result"
    }
   ],
   "source": [
    "titanic_train.survived.value_counts()"
   ]
  },
  {
   "cell_type": "code",
   "execution_count": 36,
   "id": "fdb4a01f",
   "metadata": {},
   "outputs": [],
   "source": [
    "titanic_train['baseline_prediction'] = titanic_train.survived.value_counts().idxmax()"
   ]
  },
  {
   "cell_type": "code",
   "execution_count": 37,
   "id": "b8a50ecb",
   "metadata": {},
   "outputs": [
    {
     "data": {
      "text/html": [
       "<div>\n",
       "<style scoped>\n",
       "    .dataframe tbody tr th:only-of-type {\n",
       "        vertical-align: middle;\n",
       "    }\n",
       "\n",
       "    .dataframe tbody tr th {\n",
       "        vertical-align: top;\n",
       "    }\n",
       "\n",
       "    .dataframe thead th {\n",
       "        text-align: right;\n",
       "    }\n",
       "</style>\n",
       "<table border=\"1\" class=\"dataframe\">\n",
       "  <thead>\n",
       "    <tr style=\"text-align: right;\">\n",
       "      <th></th>\n",
       "      <th>survived</th>\n",
       "      <th>sex</th>\n",
       "      <th>sibsp</th>\n",
       "      <th>parch</th>\n",
       "      <th>fare</th>\n",
       "      <th>class</th>\n",
       "      <th>embark_town</th>\n",
       "      <th>alone</th>\n",
       "      <th>sex_male</th>\n",
       "      <th>class_Second</th>\n",
       "      <th>class_Third</th>\n",
       "      <th>embark_town_Queenstown</th>\n",
       "      <th>embark_town_Southampton</th>\n",
       "      <th>baseline_prediction</th>\n",
       "    </tr>\n",
       "  </thead>\n",
       "  <tbody>\n",
       "    <tr>\n",
       "      <th>301</th>\n",
       "      <td>1</td>\n",
       "      <td>male</td>\n",
       "      <td>2</td>\n",
       "      <td>0</td>\n",
       "      <td>23.2500</td>\n",
       "      <td>Third</td>\n",
       "      <td>Queenstown</td>\n",
       "      <td>0</td>\n",
       "      <td>1</td>\n",
       "      <td>0</td>\n",
       "      <td>1</td>\n",
       "      <td>1</td>\n",
       "      <td>0</td>\n",
       "      <td>0</td>\n",
       "    </tr>\n",
       "    <tr>\n",
       "      <th>290</th>\n",
       "      <td>1</td>\n",
       "      <td>female</td>\n",
       "      <td>0</td>\n",
       "      <td>0</td>\n",
       "      <td>78.8500</td>\n",
       "      <td>First</td>\n",
       "      <td>Southampton</td>\n",
       "      <td>1</td>\n",
       "      <td>0</td>\n",
       "      <td>0</td>\n",
       "      <td>0</td>\n",
       "      <td>0</td>\n",
       "      <td>1</td>\n",
       "      <td>0</td>\n",
       "    </tr>\n",
       "    <tr>\n",
       "      <th>779</th>\n",
       "      <td>1</td>\n",
       "      <td>female</td>\n",
       "      <td>0</td>\n",
       "      <td>1</td>\n",
       "      <td>211.3375</td>\n",
       "      <td>First</td>\n",
       "      <td>Southampton</td>\n",
       "      <td>0</td>\n",
       "      <td>0</td>\n",
       "      <td>0</td>\n",
       "      <td>0</td>\n",
       "      <td>0</td>\n",
       "      <td>1</td>\n",
       "      <td>0</td>\n",
       "    </tr>\n",
       "    <tr>\n",
       "      <th>356</th>\n",
       "      <td>1</td>\n",
       "      <td>female</td>\n",
       "      <td>0</td>\n",
       "      <td>1</td>\n",
       "      <td>55.0000</td>\n",
       "      <td>First</td>\n",
       "      <td>Southampton</td>\n",
       "      <td>0</td>\n",
       "      <td>0</td>\n",
       "      <td>0</td>\n",
       "      <td>0</td>\n",
       "      <td>0</td>\n",
       "      <td>1</td>\n",
       "      <td>0</td>\n",
       "    </tr>\n",
       "    <tr>\n",
       "      <th>147</th>\n",
       "      <td>0</td>\n",
       "      <td>female</td>\n",
       "      <td>2</td>\n",
       "      <td>2</td>\n",
       "      <td>34.3750</td>\n",
       "      <td>Third</td>\n",
       "      <td>Southampton</td>\n",
       "      <td>0</td>\n",
       "      <td>0</td>\n",
       "      <td>0</td>\n",
       "      <td>1</td>\n",
       "      <td>0</td>\n",
       "      <td>1</td>\n",
       "      <td>0</td>\n",
       "    </tr>\n",
       "  </tbody>\n",
       "</table>\n",
       "</div>"
      ],
      "text/plain": [
       "     survived     sex  sibsp  parch      fare  class  embark_town  alone  \\\n",
       "301         1    male      2      0   23.2500  Third   Queenstown      0   \n",
       "290         1  female      0      0   78.8500  First  Southampton      1   \n",
       "779         1  female      0      1  211.3375  First  Southampton      0   \n",
       "356         1  female      0      1   55.0000  First  Southampton      0   \n",
       "147         0  female      2      2   34.3750  Third  Southampton      0   \n",
       "\n",
       "     sex_male  class_Second  class_Third  embark_town_Queenstown  \\\n",
       "301         1             0            1                       1   \n",
       "290         0             0            0                       0   \n",
       "779         0             0            0                       0   \n",
       "356         0             0            0                       0   \n",
       "147         0             0            1                       0   \n",
       "\n",
       "     embark_town_Southampton  baseline_prediction  \n",
       "301                        0                    0  \n",
       "290                        1                    0  \n",
       "779                        1                    0  \n",
       "356                        1                    0  \n",
       "147                        1                    0  "
      ]
     },
     "execution_count": 37,
     "metadata": {},
     "output_type": "execute_result"
    }
   ],
   "source": [
    "titanic_train.head()"
   ]
  },
  {
   "cell_type": "markdown",
   "id": "2f3473b3",
   "metadata": {},
   "source": [
    "What is your baseline accuracy? *remember: your baseline prediction for a classification problem is predicting the most prevelant class in the training dataset (the mode). When you make those predictions, what is your accuracy? This is your baseline accuracy.*"
   ]
  },
  {
   "cell_type": "code",
   "execution_count": 38,
   "id": "28b82036",
   "metadata": {},
   "outputs": [
    {
     "name": "stdout",
     "output_type": "stream",
     "text": [
      "Baseline accuracy: 61.646586%\n"
     ]
    }
   ],
   "source": [
    "baseline_accuracy = metrics.accuracy_score(y_true=titanic_train.survived, y_pred=titanic_train.baseline_prediction)\n",
    "\n",
    "print(f'Baseline accuracy: {baseline_accuracy:%}')"
   ]
  },
  {
   "cell_type": "markdown",
   "id": "70d2bd89",
   "metadata": {},
   "source": [
    "Fit the decision tree classifier to your training sample and transform (i.e. make predictions on the training sample)"
   ]
  },
  {
   "cell_type": "code",
   "execution_count": 39,
   "id": "d686822a",
   "metadata": {},
   "outputs": [
    {
     "data": {
      "text/html": [
       "<div>\n",
       "<style scoped>\n",
       "    .dataframe tbody tr th:only-of-type {\n",
       "        vertical-align: middle;\n",
       "    }\n",
       "\n",
       "    .dataframe tbody tr th {\n",
       "        vertical-align: top;\n",
       "    }\n",
       "\n",
       "    .dataframe thead th {\n",
       "        text-align: right;\n",
       "    }\n",
       "</style>\n",
       "<table border=\"1\" class=\"dataframe\">\n",
       "  <thead>\n",
       "    <tr style=\"text-align: right;\">\n",
       "      <th></th>\n",
       "      <th>survived</th>\n",
       "      <th>sex</th>\n",
       "      <th>sibsp</th>\n",
       "      <th>parch</th>\n",
       "      <th>fare</th>\n",
       "      <th>class</th>\n",
       "      <th>embark_town</th>\n",
       "      <th>alone</th>\n",
       "      <th>sex_male</th>\n",
       "      <th>class_Second</th>\n",
       "      <th>class_Third</th>\n",
       "      <th>embark_town_Queenstown</th>\n",
       "      <th>embark_town_Southampton</th>\n",
       "      <th>baseline_prediction</th>\n",
       "    </tr>\n",
       "  </thead>\n",
       "  <tbody>\n",
       "    <tr>\n",
       "      <th>301</th>\n",
       "      <td>1</td>\n",
       "      <td>male</td>\n",
       "      <td>2</td>\n",
       "      <td>0</td>\n",
       "      <td>23.2500</td>\n",
       "      <td>Third</td>\n",
       "      <td>Queenstown</td>\n",
       "      <td>0</td>\n",
       "      <td>1</td>\n",
       "      <td>0</td>\n",
       "      <td>1</td>\n",
       "      <td>1</td>\n",
       "      <td>0</td>\n",
       "      <td>0</td>\n",
       "    </tr>\n",
       "    <tr>\n",
       "      <th>290</th>\n",
       "      <td>1</td>\n",
       "      <td>female</td>\n",
       "      <td>0</td>\n",
       "      <td>0</td>\n",
       "      <td>78.8500</td>\n",
       "      <td>First</td>\n",
       "      <td>Southampton</td>\n",
       "      <td>1</td>\n",
       "      <td>0</td>\n",
       "      <td>0</td>\n",
       "      <td>0</td>\n",
       "      <td>0</td>\n",
       "      <td>1</td>\n",
       "      <td>0</td>\n",
       "    </tr>\n",
       "    <tr>\n",
       "      <th>779</th>\n",
       "      <td>1</td>\n",
       "      <td>female</td>\n",
       "      <td>0</td>\n",
       "      <td>1</td>\n",
       "      <td>211.3375</td>\n",
       "      <td>First</td>\n",
       "      <td>Southampton</td>\n",
       "      <td>0</td>\n",
       "      <td>0</td>\n",
       "      <td>0</td>\n",
       "      <td>0</td>\n",
       "      <td>0</td>\n",
       "      <td>1</td>\n",
       "      <td>0</td>\n",
       "    </tr>\n",
       "    <tr>\n",
       "      <th>356</th>\n",
       "      <td>1</td>\n",
       "      <td>female</td>\n",
       "      <td>0</td>\n",
       "      <td>1</td>\n",
       "      <td>55.0000</td>\n",
       "      <td>First</td>\n",
       "      <td>Southampton</td>\n",
       "      <td>0</td>\n",
       "      <td>0</td>\n",
       "      <td>0</td>\n",
       "      <td>0</td>\n",
       "      <td>0</td>\n",
       "      <td>1</td>\n",
       "      <td>0</td>\n",
       "    </tr>\n",
       "    <tr>\n",
       "      <th>147</th>\n",
       "      <td>0</td>\n",
       "      <td>female</td>\n",
       "      <td>2</td>\n",
       "      <td>2</td>\n",
       "      <td>34.3750</td>\n",
       "      <td>Third</td>\n",
       "      <td>Southampton</td>\n",
       "      <td>0</td>\n",
       "      <td>0</td>\n",
       "      <td>0</td>\n",
       "      <td>1</td>\n",
       "      <td>0</td>\n",
       "      <td>1</td>\n",
       "      <td>0</td>\n",
       "    </tr>\n",
       "  </tbody>\n",
       "</table>\n",
       "</div>"
      ],
      "text/plain": [
       "     survived     sex  sibsp  parch      fare  class  embark_town  alone  \\\n",
       "301         1    male      2      0   23.2500  Third   Queenstown      0   \n",
       "290         1  female      0      0   78.8500  First  Southampton      1   \n",
       "779         1  female      0      1  211.3375  First  Southampton      0   \n",
       "356         1  female      0      1   55.0000  First  Southampton      0   \n",
       "147         0  female      2      2   34.3750  Third  Southampton      0   \n",
       "\n",
       "     sex_male  class_Second  class_Third  embark_town_Queenstown  \\\n",
       "301         1             0            1                       1   \n",
       "290         0             0            0                       0   \n",
       "779         0             0            0                       0   \n",
       "356         0             0            0                       0   \n",
       "147         0             0            1                       0   \n",
       "\n",
       "     embark_town_Southampton  baseline_prediction  \n",
       "301                        0                    0  \n",
       "290                        1                    0  \n",
       "779                        1                    0  \n",
       "356                        1                    0  \n",
       "147                        1                    0  "
      ]
     },
     "execution_count": 39,
     "metadata": {},
     "output_type": "execute_result"
    }
   ],
   "source": [
    "titanic_train.head()"
   ]
  },
  {
   "cell_type": "code",
   "execution_count": 40,
   "id": "e77145bb",
   "metadata": {},
   "outputs": [],
   "source": [
    "drop_columns = list(titanic_train.select_dtypes(include='object').columns)\n",
    "\n",
    "titanic_train.drop(columns=drop_columns, inplace=True)"
   ]
  },
  {
   "cell_type": "code",
   "execution_count": 41,
   "id": "87ec342e",
   "metadata": {},
   "outputs": [],
   "source": [
    "X_train = titanic_train.drop(columns=['survived'])\n",
    "y_train = titanic_train.survived"
   ]
  },
  {
   "cell_type": "code",
   "execution_count": 42,
   "id": "f6c16e45",
   "metadata": {},
   "outputs": [
    {
     "data": {
      "text/plain": [
       "DecisionTreeClassifier()"
      ]
     },
     "execution_count": 42,
     "metadata": {},
     "output_type": "execute_result"
    }
   ],
   "source": [
    "clf = DecisionTreeClassifier()\n",
    "\n",
    "clf.fit(X_train, y_train)"
   ]
  },
  {
   "cell_type": "code",
   "execution_count": 56,
   "id": "e40ca30b",
   "metadata": {},
   "outputs": [],
   "source": [
    "y_pred = clf.predict(X_train)"
   ]
  },
  {
   "cell_type": "markdown",
   "id": "c19039f0",
   "metadata": {},
   "source": [
    "Evaluate your in-sample results using the model score, confusion matrix, and classification report."
   ]
  },
  {
   "cell_type": "code",
   "execution_count": null,
   "id": "fa4e3e4c",
   "metadata": {},
   "outputs": [],
   "source": [
    "#model score\n",
    "clf.score(X_train, y_train)"
   ]
  },
  {
   "cell_type": "code",
   "execution_count": 41,
   "id": "59c0df64",
   "metadata": {},
   "outputs": [],
   "source": [
    "X_train = titanic_train.drop(columns=['survived'])\n",
    "y_train = titanic_train.survived"
   ]
  },
  {
   "cell_type": "code",
   "execution_count": 42,
   "id": "ed89a253",
   "metadata": {},
   "outputs": [
    {
     "data": {
      "text/plain": [
       "DecisionTreeClassifier()"
      ]
     },
     "execution_count": 42,
     "metadata": {},
     "output_type": "execute_result"
    }
   ],
   "source": [
    "clf = DecisionTreeClassifier()\n",
    "\n",
    "clf.fit(X_train, y_train)"
   ]
  },
  {
   "cell_type": "code",
   "execution_count": 56,
   "id": "4c97032c",
   "metadata": {},
   "outputs": [],
   "source": [
    "y_pred = clf.predict(X_train)"
   ]
  },
  {
   "cell_type": "markdown",
   "id": "aa25529c",
   "metadata": {},
   "source": [
    "Evaluate your in-sample results using the model score, confusion matrix, and classification report."
   ]
  },
  {
   "cell_type": "code",
   "execution_count": null,
   "id": "35caa940",
   "metadata": {},
   "outputs": [],
   "source": [
    "#model score\n",
    "clf.score(X_train, y_train)"
   ]
  },
  {
   "cell_type": "code",
   "execution_count": 47,
   "id": "da04129d",
   "metadata": {
    "scrolled": true
   },
   "outputs": [
    {
     "data": {
      "text/plain": [
       "array([[297,  10],\n",
       "       [ 21, 170]])"
      ]
     },
     "execution_count": 47,
     "metadata": {},
     "output_type": "execute_result"
    }
   ],
   "source": [
    "#confusion matrix\n",
    "metrics.confusion_matrix(y_train, y_pred)"
   ]
  },
  {
   "cell_type": "code",
   "execution_count": 49,
   "id": "0732d350",
   "metadata": {
    "scrolled": true
   },
   "outputs": [
    {
     "name": "stdout",
     "output_type": "stream",
     "text": [
      "              precision    recall  f1-score   support\n",
      "\n",
      "           0       0.93      0.97      0.95       307\n",
      "           1       0.94      0.89      0.92       191\n",
      "\n",
      "    accuracy                           0.94       498\n",
      "   macro avg       0.94      0.93      0.93       498\n",
      "weighted avg       0.94      0.94      0.94       498\n",
      "\n"
     ]
    }
   ],
   "source": [
    "#classification report\n",
    "print(metrics.classification_report(y_train, y_pred))"
   ]
  },
  {
   "cell_type": "code",
   "execution_count": 51,
   "id": "29a2a7d4",
   "metadata": {},
   "outputs": [
    {
     "name": "stdout",
     "output_type": "stream",
     "text": [
      "true positive rate: 0.8900523560209425\n",
      "false positive rate: 0.03257328990228013\n",
      "true negative rate: 0.9674267100977199\n",
      "false negative rate: 0.1099476439790576\n"
     ]
    }
   ],
   "source": [
    "tn = 297\n",
    "tp = 170\n",
    "fp = 10\n",
    "fn = 21\n",
    "\n",
    "tpr = recall = tp/ (tp + fn)\n",
    "print(f'true positive rate: {tpr}')\n",
    "fpr = fp / (fp + tn)\n",
    "print(f'false positive rate: {fpr}')\n",
    "tnr = tn / (tn + fp)\n",
    "print(f'true negative rate: {tnr}')\n",
    "fnr = fn / (fn + tp)\n",
    "print(f'false negative rate: {fnr}')"
   ]
  },
  {
   "cell_type": "markdown",
   "id": "a52b7d69",
   "metadata": {},
   "source": [
    "### Compute: \n",
    "- Accuracy: 0.94\n",
    "- precision: 0.94\n",
    "- recall: 0.89\n",
    "- f1-score:\n",
    "- support:"
   ]
  },
  {
   "cell_type": "markdown",
   "id": "e0655c54",
   "metadata": {},
   "source": [
    "Run through steps 2-4 using a different max_depth value."
   ]
  },
  {
   "cell_type": "code",
   "execution_count": 52,
   "id": "aaafc263",
   "metadata": {},
   "outputs": [
    {
     "data": {
      "text/plain": [
       "DecisionTreeClassifier(max_depth=6)"
      ]
     },
     "execution_count": 52,
     "metadata": {},
     "output_type": "execute_result"
    }
   ],
   "source": [
    "clf = DecisionTreeClassifier(max_depth = 6)\n",
    "\n",
    "clf.fit(X_train, y_train)"
   ]
  },
  {
   "cell_type": "code",
   "execution_count": 57,
   "id": "89eb6247",
   "metadata": {},
   "outputs": [],
   "source": [
    "y_pred = clf.predict(X_train)"
   ]
  },
  {
   "cell_type": "code",
   "execution_count": 58,
   "id": "1a13c73f",
   "metadata": {},
   "outputs": [
    {
     "data": {
      "text/plain": [
       "0.8614457831325302"
      ]
     },
     "execution_count": 58,
     "metadata": {},
     "output_type": "execute_result"
    }
   ],
   "source": [
    "#model score\n",
    "clf.score(X_train, y_train)"
   ]
  },
  {
   "cell_type": "code",
   "execution_count": 59,
   "id": "7940c55a",
   "metadata": {
    "scrolled": true
   },
   "outputs": [
    {
     "data": {
      "text/plain": [
       "array([[285,  22],\n",
       "       [ 47, 144]])"
      ]
     },
     "execution_count": 59,
     "metadata": {},
     "output_type": "execute_result"
    }
   ],
   "source": [
    "#confusion matrix\n",
    "metrics.confusion_matrix(y_train, y_pred)"
   ]
  },
  {
   "cell_type": "code",
   "execution_count": 60,
   "id": "8406a4e4",
   "metadata": {},
   "outputs": [
    {
     "name": "stdout",
     "output_type": "stream",
     "text": [
      "              precision    recall  f1-score   support\n",
      "\n",
      "           0       0.86      0.93      0.89       307\n",
      "           1       0.87      0.75      0.81       191\n",
      "\n",
      "    accuracy                           0.86       498\n",
      "   macro avg       0.86      0.84      0.85       498\n",
      "weighted avg       0.86      0.86      0.86       498\n",
      "\n"
     ]
    }
   ],
   "source": [
    "#classification report\n",
    "print(metrics.classification_report(y_train, y_pred))"
   ]
  },
  {
   "cell_type": "code",
   "execution_count": 61,
   "id": "f42f9a06",
   "metadata": {},
   "outputs": [
    {
     "name": "stdout",
     "output_type": "stream",
     "text": [
      "true positive rate: 0.7539267015706806\n",
      "false positive rate: 0.07166123778501629\n",
      "true negative rate: 0.9283387622149837\n",
      "false negative rate: 0.24607329842931938\n"
     ]
    }
   ],
   "source": [
    "tn = 285\n",
    "tp = 144\n",
    "fp = 22\n",
    "fn = 47\n",
    "\n",
    "tpr = recall = tp/ (tp + fn)\n",
    "print(f'true positive rate: {tpr}')\n",
    "fpr = fp / (fp + tn)\n",
    "print(f'false positive rate: {fpr}')\n",
    "tnr = tn / (tn + fp)\n",
    "print(f'true negative rate: {tnr}')\n",
    "fnr = fn / (fn + tp)\n",
    "print(f'false negative rate: {fnr}')"
   ]
  },
  {
   "cell_type": "markdown",
   "id": "d83a41f5",
   "metadata": {},
   "source": [
    "###### Compute: \n",
    "- Accuracy: 0.86\n",
    "- precision: 0.86\n",
    "- recall: 0.93\n",
    "- f1-score:\n",
    "- support:"
   ]
  },
  {
   "cell_type": "markdown",
   "id": "6099a187",
   "metadata": {},
   "source": [
    "Which model performs better on your in-sample data?\n",
    "\n",
    "Which model performs best on your out-of-sample data, the validate set?"
   ]
  },
  {
   "cell_type": "markdown",
   "id": "002a9e36",
   "metadata": {},
   "source": [
    "## Telco"
   ]
  },
  {
   "cell_type": "code",
   "execution_count": 62,
   "id": "1b453617",
   "metadata": {},
   "outputs": [
    {
     "name": "stderr",
     "output_type": "stream",
     "text": [
      "/Users/fostermark/codeup-data-science/classification-exercises/prepare.py:32: SettingWithCopyWarning: \n",
      "A value is trying to be set on a copy of a slice from a DataFrame.\n",
      "Try using .loc[row_indexer,col_indexer] = value instead\n",
      "\n",
      "See the caveats in the documentation: https://pandas.pydata.org/pandas-docs/stable/user_guide/indexing.html#returning-a-view-versus-a-copy\n",
      "  df.total_charges = df.total_charges.astype(float)\n"
     ]
    }
   ],
   "source": [
    "telco_train, telco_validate, telco_test = prepare.train_validate_test_split(prepare.prep_telco(acquire.get_telco_data()), 'churn')"
   ]
  },
  {
   "cell_type": "code",
   "execution_count": 63,
   "id": "92788c76",
   "metadata": {},
   "outputs": [
    {
     "data": {
      "text/plain": [
       "0    2891\n",
       "1    1046\n",
       "Name: churn_Yes, dtype: int64"
      ]
     },
     "execution_count": 63,
     "metadata": {},
     "output_type": "execute_result"
    }
   ],
   "source": [
    "telco_train.churn_Yes.value_counts()"
   ]
  },
  {
   "cell_type": "code",
   "execution_count": 64,
   "id": "e06fcc45",
   "metadata": {},
   "outputs": [],
   "source": [
    "telco_train['baseline_prediction'] = telco_train.churn_Yes.value_counts().idxmax()"
   ]
  },
  {
   "cell_type": "code",
   "execution_count": 65,
   "id": "7f6dda62",
   "metadata": {},
   "outputs": [
    {
     "data": {
      "text/html": [
       "<div>\n",
       "<style scoped>\n",
       "    .dataframe tbody tr th:only-of-type {\n",
       "        vertical-align: middle;\n",
       "    }\n",
       "\n",
       "    .dataframe tbody tr th {\n",
       "        vertical-align: top;\n",
       "    }\n",
       "\n",
       "    .dataframe thead th {\n",
       "        text-align: right;\n",
       "    }\n",
       "</style>\n",
       "<table border=\"1\" class=\"dataframe\">\n",
       "  <thead>\n",
       "    <tr style=\"text-align: right;\">\n",
       "      <th></th>\n",
       "      <th>gender</th>\n",
       "      <th>senior_citizen</th>\n",
       "      <th>partner</th>\n",
       "      <th>dependents</th>\n",
       "      <th>tenure</th>\n",
       "      <th>phone_service</th>\n",
       "      <th>multiple_lines</th>\n",
       "      <th>online_security</th>\n",
       "      <th>online_backup</th>\n",
       "      <th>device_protection</th>\n",
       "      <th>...</th>\n",
       "      <th>paperless_billing_Yes</th>\n",
       "      <th>churn_Yes</th>\n",
       "      <th>contract_type_One year</th>\n",
       "      <th>contract_type_Two year</th>\n",
       "      <th>internet_service_type_Fiber optic</th>\n",
       "      <th>internet_service_type_None</th>\n",
       "      <th>payment_type_Credit card (automatic)</th>\n",
       "      <th>payment_type_Electronic check</th>\n",
       "      <th>payment_type_Mailed check</th>\n",
       "      <th>baseline_prediction</th>\n",
       "    </tr>\n",
       "  </thead>\n",
       "  <tbody>\n",
       "    <tr>\n",
       "      <th>4491</th>\n",
       "      <td>Male</td>\n",
       "      <td>0</td>\n",
       "      <td>No</td>\n",
       "      <td>No</td>\n",
       "      <td>48</td>\n",
       "      <td>Yes</td>\n",
       "      <td>No</td>\n",
       "      <td>No</td>\n",
       "      <td>Yes</td>\n",
       "      <td>Yes</td>\n",
       "      <td>...</td>\n",
       "      <td>0</td>\n",
       "      <td>0</td>\n",
       "      <td>0</td>\n",
       "      <td>1</td>\n",
       "      <td>0</td>\n",
       "      <td>0</td>\n",
       "      <td>1</td>\n",
       "      <td>0</td>\n",
       "      <td>0</td>\n",
       "      <td>0</td>\n",
       "    </tr>\n",
       "    <tr>\n",
       "      <th>2346</th>\n",
       "      <td>Female</td>\n",
       "      <td>0</td>\n",
       "      <td>Yes</td>\n",
       "      <td>Yes</td>\n",
       "      <td>58</td>\n",
       "      <td>Yes</td>\n",
       "      <td>No</td>\n",
       "      <td>No internet service</td>\n",
       "      <td>No internet service</td>\n",
       "      <td>No internet service</td>\n",
       "      <td>...</td>\n",
       "      <td>1</td>\n",
       "      <td>0</td>\n",
       "      <td>0</td>\n",
       "      <td>1</td>\n",
       "      <td>0</td>\n",
       "      <td>1</td>\n",
       "      <td>0</td>\n",
       "      <td>0</td>\n",
       "      <td>1</td>\n",
       "      <td>0</td>\n",
       "    </tr>\n",
       "    <tr>\n",
       "      <th>770</th>\n",
       "      <td>Female</td>\n",
       "      <td>0</td>\n",
       "      <td>No</td>\n",
       "      <td>Yes</td>\n",
       "      <td>44</td>\n",
       "      <td>Yes</td>\n",
       "      <td>Yes</td>\n",
       "      <td>No</td>\n",
       "      <td>Yes</td>\n",
       "      <td>No</td>\n",
       "      <td>...</td>\n",
       "      <td>1</td>\n",
       "      <td>0</td>\n",
       "      <td>1</td>\n",
       "      <td>0</td>\n",
       "      <td>0</td>\n",
       "      <td>0</td>\n",
       "      <td>0</td>\n",
       "      <td>0</td>\n",
       "      <td>1</td>\n",
       "      <td>0</td>\n",
       "    </tr>\n",
       "    <tr>\n",
       "      <th>5155</th>\n",
       "      <td>Male</td>\n",
       "      <td>0</td>\n",
       "      <td>Yes</td>\n",
       "      <td>No</td>\n",
       "      <td>10</td>\n",
       "      <td>Yes</td>\n",
       "      <td>Yes</td>\n",
       "      <td>No</td>\n",
       "      <td>No</td>\n",
       "      <td>No</td>\n",
       "      <td>...</td>\n",
       "      <td>1</td>\n",
       "      <td>1</td>\n",
       "      <td>0</td>\n",
       "      <td>0</td>\n",
       "      <td>1</td>\n",
       "      <td>0</td>\n",
       "      <td>0</td>\n",
       "      <td>1</td>\n",
       "      <td>0</td>\n",
       "      <td>0</td>\n",
       "    </tr>\n",
       "    <tr>\n",
       "      <th>189</th>\n",
       "      <td>Female</td>\n",
       "      <td>0</td>\n",
       "      <td>No</td>\n",
       "      <td>Yes</td>\n",
       "      <td>11</td>\n",
       "      <td>No</td>\n",
       "      <td>No phone service</td>\n",
       "      <td>Yes</td>\n",
       "      <td>No</td>\n",
       "      <td>No</td>\n",
       "      <td>...</td>\n",
       "      <td>1</td>\n",
       "      <td>0</td>\n",
       "      <td>1</td>\n",
       "      <td>0</td>\n",
       "      <td>0</td>\n",
       "      <td>0</td>\n",
       "      <td>0</td>\n",
       "      <td>0</td>\n",
       "      <td>1</td>\n",
       "      <td>0</td>\n",
       "    </tr>\n",
       "  </tbody>\n",
       "</table>\n",
       "<p>5 rows × 48 columns</p>\n",
       "</div>"
      ],
      "text/plain": [
       "      gender  senior_citizen partner dependents  tenure phone_service  \\\n",
       "4491    Male               0      No         No      48           Yes   \n",
       "2346  Female               0     Yes        Yes      58           Yes   \n",
       "770   Female               0      No        Yes      44           Yes   \n",
       "5155    Male               0     Yes         No      10           Yes   \n",
       "189   Female               0      No        Yes      11            No   \n",
       "\n",
       "        multiple_lines      online_security        online_backup  \\\n",
       "4491                No                   No                  Yes   \n",
       "2346                No  No internet service  No internet service   \n",
       "770                Yes                   No                  Yes   \n",
       "5155               Yes                   No                   No   \n",
       "189   No phone service                  Yes                   No   \n",
       "\n",
       "        device_protection  ... paperless_billing_Yes churn_Yes  \\\n",
       "4491                  Yes  ...                     0         0   \n",
       "2346  No internet service  ...                     1         0   \n",
       "770                    No  ...                     1         0   \n",
       "5155                   No  ...                     1         1   \n",
       "189                    No  ...                     1         0   \n",
       "\n",
       "     contract_type_One year contract_type_Two year  \\\n",
       "4491                      0                      1   \n",
       "2346                      0                      1   \n",
       "770                       1                      0   \n",
       "5155                      0                      0   \n",
       "189                       1                      0   \n",
       "\n",
       "      internet_service_type_Fiber optic  internet_service_type_None  \\\n",
       "4491                                  0                           0   \n",
       "2346                                  0                           1   \n",
       "770                                   0                           0   \n",
       "5155                                  1                           0   \n",
       "189                                   0                           0   \n",
       "\n",
       "     payment_type_Credit card (automatic) payment_type_Electronic check  \\\n",
       "4491                                    1                             0   \n",
       "2346                                    0                             0   \n",
       "770                                     0                             0   \n",
       "5155                                    0                             1   \n",
       "189                                     0                             0   \n",
       "\n",
       "     payment_type_Mailed check baseline_prediction  \n",
       "4491                         0                   0  \n",
       "2346                         1                   0  \n",
       "770                          1                   0  \n",
       "5155                         0                   0  \n",
       "189                          1                   0  \n",
       "\n",
       "[5 rows x 48 columns]"
      ]
     },
     "execution_count": 65,
     "metadata": {},
     "output_type": "execute_result"
    }
   ],
   "source": [
    "telco_train.head()"
   ]
  },
  {
   "cell_type": "code",
   "execution_count": 66,
   "id": "06483a2f",
   "metadata": {},
   "outputs": [],
   "source": [
    "drop_columns = list(telco_train.select_dtypes(include='object').columns)\n",
    "\n",
    "telco_train.drop(columns=drop_columns, inplace=True)"
   ]
  },
  {
   "cell_type": "code",
   "execution_count": 67,
   "id": "df27934d",
   "metadata": {},
   "outputs": [
    {
     "name": "stdout",
     "output_type": "stream",
     "text": [
      "<class 'pandas.core.frame.DataFrame'>\n",
      "Int64Index: 3937 entries, 4491 to 3781\n",
      "Data columns (total 32 columns):\n",
      " #   Column                                 Non-Null Count  Dtype  \n",
      "---  ------                                 --------------  -----  \n",
      " 0   senior_citizen                         3937 non-null   int64  \n",
      " 1   tenure                                 3937 non-null   int64  \n",
      " 2   monthly_charges                        3937 non-null   float64\n",
      " 3   total_charges                          3937 non-null   float64\n",
      " 4   gender_Male                            3937 non-null   uint8  \n",
      " 5   partner_Yes                            3937 non-null   uint8  \n",
      " 6   dependents_Yes                         3937 non-null   uint8  \n",
      " 7   phone_service_Yes                      3937 non-null   uint8  \n",
      " 8   multiple_lines_No phone service        3937 non-null   uint8  \n",
      " 9   multiple_lines_Yes                     3937 non-null   uint8  \n",
      " 10  online_security_No internet service    3937 non-null   uint8  \n",
      " 11  online_security_Yes                    3937 non-null   uint8  \n",
      " 12  online_backup_No internet service      3937 non-null   uint8  \n",
      " 13  online_backup_Yes                      3937 non-null   uint8  \n",
      " 14  device_protection_No internet service  3937 non-null   uint8  \n",
      " 15  device_protection_Yes                  3937 non-null   uint8  \n",
      " 16  tech_support_No internet service       3937 non-null   uint8  \n",
      " 17  tech_support_Yes                       3937 non-null   uint8  \n",
      " 18  streaming_tv_No internet service       3937 non-null   uint8  \n",
      " 19  streaming_tv_Yes                       3937 non-null   uint8  \n",
      " 20  streaming_movies_No internet service   3937 non-null   uint8  \n",
      " 21  streaming_movies_Yes                   3937 non-null   uint8  \n",
      " 22  paperless_billing_Yes                  3937 non-null   uint8  \n",
      " 23  churn_Yes                              3937 non-null   uint8  \n",
      " 24  contract_type_One year                 3937 non-null   uint8  \n",
      " 25  contract_type_Two year                 3937 non-null   uint8  \n",
      " 26  internet_service_type_Fiber optic      3937 non-null   uint8  \n",
      " 27  internet_service_type_None             3937 non-null   uint8  \n",
      " 28  payment_type_Credit card (automatic)   3937 non-null   uint8  \n",
      " 29  payment_type_Electronic check          3937 non-null   uint8  \n",
      " 30  payment_type_Mailed check              3937 non-null   uint8  \n",
      " 31  baseline_prediction                    3937 non-null   uint64 \n",
      "dtypes: float64(2), int64(2), uint64(1), uint8(27)\n",
      "memory usage: 288.4 KB\n"
     ]
    }
   ],
   "source": [
    "telco_train.info()"
   ]
  },
  {
   "cell_type": "code",
   "execution_count": 68,
   "id": "6fa513aa",
   "metadata": {},
   "outputs": [],
   "source": [
    "X_train = telco_train.drop(columns=['churn_Yes'])\n",
    "y_train = telco_train.churn_Yes"
   ]
  },
  {
   "cell_type": "code",
   "execution_count": 69,
   "id": "6f0c0a81",
   "metadata": {
    "scrolled": false
   },
   "outputs": [
    {
     "data": {
      "text/plain": [
       "DecisionTreeClassifier()"
      ]
     },
     "execution_count": 69,
     "metadata": {},
     "output_type": "execute_result"
    }
   ],
   "source": [
    "clf = DecisionTreeClassifier()\n",
    "\n",
    "clf.fit(X_train, y_train)"
   ]
  },
  {
   "cell_type": "code",
   "execution_count": 70,
   "id": "346fe1ec",
   "metadata": {},
   "outputs": [],
   "source": [
    "y_pred = clf.predict(X_train)"
   ]
  },
  {
   "cell_type": "code",
   "execution_count": 71,
   "id": "6f1b9e64",
   "metadata": {},
   "outputs": [
    {
     "data": {
      "text/plain": [
       "0.9982219964439929"
      ]
     },
     "execution_count": 71,
     "metadata": {},
     "output_type": "execute_result"
    }
   ],
   "source": [
    "#model score\n",
    "clf.score(X_train, y_train)"
   ]
  },
  {
   "cell_type": "code",
   "execution_count": 72,
   "id": "42a117ac",
   "metadata": {
    "scrolled": true
   },
   "outputs": [
    {
     "data": {
      "text/plain": [
       "array([[2891,    0],\n",
       "       [   7, 1039]])"
      ]
     },
     "execution_count": 72,
     "metadata": {},
     "output_type": "execute_result"
    }
   ],
   "source": [
    "#confusion matrix\n",
    "metrics.confusion_matrix(y_train, y_pred)"
   ]
  },
  {
   "cell_type": "code",
   "execution_count": 73,
   "id": "5f8b8efb",
   "metadata": {
    "scrolled": false
   },
   "outputs": [
    {
     "name": "stdout",
     "output_type": "stream",
     "text": [
      "              precision    recall  f1-score   support\n",
      "\n",
      "           0       1.00      1.00      1.00      2891\n",
      "           1       1.00      0.99      1.00      1046\n",
      "\n",
      "    accuracy                           1.00      3937\n",
      "   macro avg       1.00      1.00      1.00      3937\n",
      "weighted avg       1.00      1.00      1.00      3937\n",
      "\n"
     ]
    }
   ],
   "source": [
    "#classification report\n",
    "print(metrics.classification_report(y_train, y_pred))"
   ]
  },
  {
   "cell_type": "code",
   "execution_count": 75,
   "id": "ab50ff8c",
   "metadata": {},
   "outputs": [
    {
     "name": "stdout",
     "output_type": "stream",
     "text": [
      "true positive rate: 0.9933078393881453\n",
      "false positive rate: 0.0\n",
      "true negative rate: 1.0\n",
      "false negative rate: 0.006692160611854685\n"
     ]
    }
   ],
   "source": [
    "tn = 2891\n",
    "fn = 7\n",
    "fp = 0\n",
    "tp = 1039\n",
    "\n",
    "\n",
    "\n",
    "tpr = recall = tp/ (tp + fn)\n",
    "print(f'true positive rate: {tpr}')\n",
    "fpr = fp / (fp + tn)\n",
    "print(f'false positive rate: {fpr}')\n",
    "tnr = tn / (tn + fp)\n",
    "print(f'true negative rate: {tnr}')\n",
    "fnr = fn / (fn + tp)\n",
    "print(f'false negative rate: {fnr}')"
   ]
  },
  {
   "cell_type": "code",
   "execution_count": 76,
   "id": "3d4d486a",
   "metadata": {
    "scrolled": false
   },
   "outputs": [
    {
     "data": {
      "text/plain": [
       "DecisionTreeClassifier(max_depth=3)"
      ]
     },
     "execution_count": 76,
     "metadata": {},
     "output_type": "execute_result"
    }
   ],
   "source": [
    "clf = DecisionTreeClassifier(max_depth = 3)\n",
    "\n",
    "clf.fit(X_train, y_train)"
   ]
  },
  {
   "cell_type": "code",
   "execution_count": 77,
   "id": "adbc3622",
   "metadata": {},
   "outputs": [],
   "source": [
    "y_pred = clf.predict(X_train)"
   ]
  },
  {
   "cell_type": "code",
   "execution_count": 78,
   "id": "51a4f909",
   "metadata": {},
   "outputs": [
    {
     "data": {
      "text/plain": [
       "0.7813055626111253"
      ]
     },
     "execution_count": 78,
     "metadata": {},
     "output_type": "execute_result"
    }
   ],
   "source": [
    "#model score\n",
    "clf.score(X_train, y_train)"
   ]
  },
  {
   "cell_type": "code",
   "execution_count": 79,
   "id": "05a80e70",
   "metadata": {
    "scrolled": true
   },
   "outputs": [
    {
     "data": {
      "text/plain": [
       "array([[2704,  187],\n",
       "       [ 674,  372]])"
      ]
     },
     "execution_count": 79,
     "metadata": {},
     "output_type": "execute_result"
    }
   ],
   "source": [
    "#confusion matrix\n",
    "metrics.confusion_matrix(y_train, y_pred)"
   ]
  },
  {
   "cell_type": "code",
   "execution_count": 80,
   "id": "d1005581",
   "metadata": {
    "scrolled": false
   },
   "outputs": [
    {
     "name": "stdout",
     "output_type": "stream",
     "text": [
      "              precision    recall  f1-score   support\n",
      "\n",
      "           0       0.80      0.94      0.86      2891\n",
      "           1       0.67      0.36      0.46      1046\n",
      "\n",
      "    accuracy                           0.78      3937\n",
      "   macro avg       0.73      0.65      0.66      3937\n",
      "weighted avg       0.76      0.78      0.76      3937\n",
      "\n"
     ]
    }
   ],
   "source": [
    "#classification report\n",
    "print(metrics.classification_report(y_train, y_pred))"
   ]
  },
  {
   "cell_type": "code",
   "execution_count": null,
   "id": "738ca0bb",
   "metadata": {},
   "outputs": [],
   "source": []
  },
  {
   "cell_type": "code",
   "execution_count": null,
   "id": "a7d12757",
   "metadata": {},
   "outputs": [],
   "source": []
  }
 ],
 "metadata": {
  "kernelspec": {
   "display_name": "Python 3 (ipykernel)",
   "language": "python",
   "name": "python3"
  },
  "language_info": {
   "codemirror_mode": {
    "name": "ipython",
    "version": 3
   },
   "file_extension": ".py",
   "mimetype": "text/x-python",
   "name": "python",
   "nbconvert_exporter": "python",
   "pygments_lexer": "ipython3",
   "version": "3.9.12"
  }
 },
 "nbformat": 4,
 "nbformat_minor": 5
}
