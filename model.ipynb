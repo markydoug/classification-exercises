{
 "cells": [
  {
   "cell_type": "code",
   "execution_count": 44,
   "id": "99846ced",
   "metadata": {},
   "outputs": [],
   "source": [
    "import pandas as pd\n",
    "import numpy as np\n",
    "import matplotlib.pyplot as plt\n",
    "import seaborn as sns\n",
    "import scipy.stats as stats\n",
    "from sklearn.model_selection import train_test_split\n",
    "import sklearn.metrics as metrics\n",
    "from sklearn.tree import DecisionTreeClassifier, plot_tree\n",
    "from sklearn.ensemble import RandomForestClassifier\n",
    "\n",
    "import acquire\n",
    "import prepare\n",
    "\n",
    "# ignore warnings\n",
    "import warnings\n",
    "warnings.filterwarnings(\"ignore\")"
   ]
  },
  {
   "cell_type": "markdown",
   "id": "e50b6eda",
   "metadata": {},
   "source": [
    "# Titanic"
   ]
  },
  {
   "cell_type": "markdown",
   "id": "fbf4e932",
   "metadata": {},
   "source": [
    "Using the titanic data, in your classification-exercises repository, create a notebook, model.ipynb where you will do the following:"
   ]
  },
  {
   "cell_type": "code",
   "execution_count": 2,
   "id": "755fd90b",
   "metadata": {},
   "outputs": [],
   "source": [
    "titanic_train, titanic_validate, titanic_test = prepare.train_validate_test_split(prepare.prep_titanic(acquire.get_titanic_data()), 'survived')"
   ]
  },
  {
   "cell_type": "markdown",
   "id": "a2ae28d3",
   "metadata": {},
   "source": [
    "What is your baseline prediction? "
   ]
  },
  {
   "cell_type": "code",
   "execution_count": 3,
   "id": "8704e764",
   "metadata": {
    "scrolled": true
   },
   "outputs": [],
   "source": [
    "#titanic_train.survived.value_counts()"
   ]
  },
  {
   "cell_type": "code",
   "execution_count": 4,
   "id": "fcb5c975",
   "metadata": {},
   "outputs": [],
   "source": [
    "#titanic_train['baseline_prediction'] = titanic_train.survived.value_counts().idxmax()\n",
    "\n",
    "#baseline_accuracy = metrics.accuracy_score(y_true=titanic_train.survived, y_pred=titanic_train.baseline_prediction)\n",
    "\n",
    "#print(f'Baseline accuracy: {baseline_accuracy:%}')"
   ]
  },
  {
   "cell_type": "code",
   "execution_count": 5,
   "id": "63651e95",
   "metadata": {},
   "outputs": [
    {
     "data": {
      "text/html": [
       "<div>\n",
       "<style scoped>\n",
       "    .dataframe tbody tr th:only-of-type {\n",
       "        vertical-align: middle;\n",
       "    }\n",
       "\n",
       "    .dataframe tbody tr th {\n",
       "        vertical-align: top;\n",
       "    }\n",
       "\n",
       "    .dataframe thead th {\n",
       "        text-align: right;\n",
       "    }\n",
       "</style>\n",
       "<table border=\"1\" class=\"dataframe\">\n",
       "  <thead>\n",
       "    <tr style=\"text-align: right;\">\n",
       "      <th></th>\n",
       "      <th>survived</th>\n",
       "      <th>sex</th>\n",
       "      <th>sibsp</th>\n",
       "      <th>parch</th>\n",
       "      <th>fare</th>\n",
       "      <th>class</th>\n",
       "      <th>embark_town</th>\n",
       "      <th>alone</th>\n",
       "      <th>sex_male</th>\n",
       "      <th>class_Second</th>\n",
       "      <th>class_Third</th>\n",
       "      <th>embark_town_Queenstown</th>\n",
       "      <th>embark_town_Southampton</th>\n",
       "    </tr>\n",
       "  </thead>\n",
       "  <tbody>\n",
       "    <tr>\n",
       "      <th>301</th>\n",
       "      <td>1</td>\n",
       "      <td>male</td>\n",
       "      <td>2</td>\n",
       "      <td>0</td>\n",
       "      <td>23.2500</td>\n",
       "      <td>Third</td>\n",
       "      <td>Queenstown</td>\n",
       "      <td>0</td>\n",
       "      <td>1</td>\n",
       "      <td>0</td>\n",
       "      <td>1</td>\n",
       "      <td>1</td>\n",
       "      <td>0</td>\n",
       "    </tr>\n",
       "    <tr>\n",
       "      <th>290</th>\n",
       "      <td>1</td>\n",
       "      <td>female</td>\n",
       "      <td>0</td>\n",
       "      <td>0</td>\n",
       "      <td>78.8500</td>\n",
       "      <td>First</td>\n",
       "      <td>Southampton</td>\n",
       "      <td>1</td>\n",
       "      <td>0</td>\n",
       "      <td>0</td>\n",
       "      <td>0</td>\n",
       "      <td>0</td>\n",
       "      <td>1</td>\n",
       "    </tr>\n",
       "    <tr>\n",
       "      <th>779</th>\n",
       "      <td>1</td>\n",
       "      <td>female</td>\n",
       "      <td>0</td>\n",
       "      <td>1</td>\n",
       "      <td>211.3375</td>\n",
       "      <td>First</td>\n",
       "      <td>Southampton</td>\n",
       "      <td>0</td>\n",
       "      <td>0</td>\n",
       "      <td>0</td>\n",
       "      <td>0</td>\n",
       "      <td>0</td>\n",
       "      <td>1</td>\n",
       "    </tr>\n",
       "    <tr>\n",
       "      <th>356</th>\n",
       "      <td>1</td>\n",
       "      <td>female</td>\n",
       "      <td>0</td>\n",
       "      <td>1</td>\n",
       "      <td>55.0000</td>\n",
       "      <td>First</td>\n",
       "      <td>Southampton</td>\n",
       "      <td>0</td>\n",
       "      <td>0</td>\n",
       "      <td>0</td>\n",
       "      <td>0</td>\n",
       "      <td>0</td>\n",
       "      <td>1</td>\n",
       "    </tr>\n",
       "    <tr>\n",
       "      <th>147</th>\n",
       "      <td>0</td>\n",
       "      <td>female</td>\n",
       "      <td>2</td>\n",
       "      <td>2</td>\n",
       "      <td>34.3750</td>\n",
       "      <td>Third</td>\n",
       "      <td>Southampton</td>\n",
       "      <td>0</td>\n",
       "      <td>0</td>\n",
       "      <td>0</td>\n",
       "      <td>1</td>\n",
       "      <td>0</td>\n",
       "      <td>1</td>\n",
       "    </tr>\n",
       "  </tbody>\n",
       "</table>\n",
       "</div>"
      ],
      "text/plain": [
       "     survived     sex  sibsp  parch      fare  class  embark_town  alone  \\\n",
       "301         1    male      2      0   23.2500  Third   Queenstown      0   \n",
       "290         1  female      0      0   78.8500  First  Southampton      1   \n",
       "779         1  female      0      1  211.3375  First  Southampton      0   \n",
       "356         1  female      0      1   55.0000  First  Southampton      0   \n",
       "147         0  female      2      2   34.3750  Third  Southampton      0   \n",
       "\n",
       "     sex_male  class_Second  class_Third  embark_town_Queenstown  \\\n",
       "301         1             0            1                       1   \n",
       "290         0             0            0                       0   \n",
       "779         0             0            0                       0   \n",
       "356         0             0            0                       0   \n",
       "147         0             0            1                       0   \n",
       "\n",
       "     embark_town_Southampton  \n",
       "301                        0  \n",
       "290                        1  \n",
       "779                        1  \n",
       "356                        1  \n",
       "147                        1  "
      ]
     },
     "execution_count": 5,
     "metadata": {},
     "output_type": "execute_result"
    }
   ],
   "source": [
    "titanic_train.head()"
   ]
  },
  {
   "cell_type": "markdown",
   "id": "e10e6787",
   "metadata": {},
   "source": [
    "What is your baseline accuracy? *remember: your baseline prediction for a classification problem is predicting the most prevelant class in the training dataset (the mode). When you make those predictions, what is your accuracy? This is your baseline accuracy.*"
   ]
  },
  {
   "cell_type": "code",
   "execution_count": 6,
   "id": "d7aa5572",
   "metadata": {},
   "outputs": [
    {
     "data": {
      "text/html": [
       "<div>\n",
       "<style scoped>\n",
       "    .dataframe tbody tr th:only-of-type {\n",
       "        vertical-align: middle;\n",
       "    }\n",
       "\n",
       "    .dataframe tbody tr th {\n",
       "        vertical-align: top;\n",
       "    }\n",
       "\n",
       "    .dataframe thead th {\n",
       "        text-align: right;\n",
       "    }\n",
       "</style>\n",
       "<table border=\"1\" class=\"dataframe\">\n",
       "  <thead>\n",
       "    <tr style=\"text-align: right;\">\n",
       "      <th></th>\n",
       "      <th>survived</th>\n",
       "      <th>sex</th>\n",
       "      <th>sibsp</th>\n",
       "      <th>parch</th>\n",
       "      <th>fare</th>\n",
       "      <th>class</th>\n",
       "      <th>embark_town</th>\n",
       "      <th>alone</th>\n",
       "      <th>sex_male</th>\n",
       "      <th>class_Second</th>\n",
       "      <th>class_Third</th>\n",
       "      <th>embark_town_Queenstown</th>\n",
       "      <th>embark_town_Southampton</th>\n",
       "    </tr>\n",
       "  </thead>\n",
       "  <tbody>\n",
       "    <tr>\n",
       "      <th>301</th>\n",
       "      <td>1</td>\n",
       "      <td>male</td>\n",
       "      <td>2</td>\n",
       "      <td>0</td>\n",
       "      <td>23.2500</td>\n",
       "      <td>Third</td>\n",
       "      <td>Queenstown</td>\n",
       "      <td>0</td>\n",
       "      <td>1</td>\n",
       "      <td>0</td>\n",
       "      <td>1</td>\n",
       "      <td>1</td>\n",
       "      <td>0</td>\n",
       "    </tr>\n",
       "    <tr>\n",
       "      <th>290</th>\n",
       "      <td>1</td>\n",
       "      <td>female</td>\n",
       "      <td>0</td>\n",
       "      <td>0</td>\n",
       "      <td>78.8500</td>\n",
       "      <td>First</td>\n",
       "      <td>Southampton</td>\n",
       "      <td>1</td>\n",
       "      <td>0</td>\n",
       "      <td>0</td>\n",
       "      <td>0</td>\n",
       "      <td>0</td>\n",
       "      <td>1</td>\n",
       "    </tr>\n",
       "    <tr>\n",
       "      <th>779</th>\n",
       "      <td>1</td>\n",
       "      <td>female</td>\n",
       "      <td>0</td>\n",
       "      <td>1</td>\n",
       "      <td>211.3375</td>\n",
       "      <td>First</td>\n",
       "      <td>Southampton</td>\n",
       "      <td>0</td>\n",
       "      <td>0</td>\n",
       "      <td>0</td>\n",
       "      <td>0</td>\n",
       "      <td>0</td>\n",
       "      <td>1</td>\n",
       "    </tr>\n",
       "    <tr>\n",
       "      <th>356</th>\n",
       "      <td>1</td>\n",
       "      <td>female</td>\n",
       "      <td>0</td>\n",
       "      <td>1</td>\n",
       "      <td>55.0000</td>\n",
       "      <td>First</td>\n",
       "      <td>Southampton</td>\n",
       "      <td>0</td>\n",
       "      <td>0</td>\n",
       "      <td>0</td>\n",
       "      <td>0</td>\n",
       "      <td>0</td>\n",
       "      <td>1</td>\n",
       "    </tr>\n",
       "    <tr>\n",
       "      <th>147</th>\n",
       "      <td>0</td>\n",
       "      <td>female</td>\n",
       "      <td>2</td>\n",
       "      <td>2</td>\n",
       "      <td>34.3750</td>\n",
       "      <td>Third</td>\n",
       "      <td>Southampton</td>\n",
       "      <td>0</td>\n",
       "      <td>0</td>\n",
       "      <td>0</td>\n",
       "      <td>1</td>\n",
       "      <td>0</td>\n",
       "      <td>1</td>\n",
       "    </tr>\n",
       "  </tbody>\n",
       "</table>\n",
       "</div>"
      ],
      "text/plain": [
       "     survived     sex  sibsp  parch      fare  class  embark_town  alone  \\\n",
       "301         1    male      2      0   23.2500  Third   Queenstown      0   \n",
       "290         1  female      0      0   78.8500  First  Southampton      1   \n",
       "779         1  female      0      1  211.3375  First  Southampton      0   \n",
       "356         1  female      0      1   55.0000  First  Southampton      0   \n",
       "147         0  female      2      2   34.3750  Third  Southampton      0   \n",
       "\n",
       "     sex_male  class_Second  class_Third  embark_town_Queenstown  \\\n",
       "301         1             0            1                       1   \n",
       "290         0             0            0                       0   \n",
       "779         0             0            0                       0   \n",
       "356         0             0            0                       0   \n",
       "147         0             0            1                       0   \n",
       "\n",
       "     embark_town_Southampton  \n",
       "301                        0  \n",
       "290                        1  \n",
       "779                        1  \n",
       "356                        1  \n",
       "147                        1  "
      ]
     },
     "execution_count": 6,
     "metadata": {},
     "output_type": "execute_result"
    }
   ],
   "source": [
    "titanic_train.head()"
   ]
  },
  {
   "cell_type": "code",
   "execution_count": 7,
   "id": "96c52cca",
   "metadata": {},
   "outputs": [],
   "source": [
    "#functions can't take strings so i dropped all columns that are strings\n",
    "drop_columns = list(titanic_train.select_dtypes(include='object').columns)\n",
    "\n",
    "titanic_train.drop(columns=drop_columns, inplace=True)"
   ]
  },
  {
   "cell_type": "code",
   "execution_count": 8,
   "id": "34f1fe18",
   "metadata": {},
   "outputs": [],
   "source": [
    "# create X & y version of train, where y is a series with just the target variable and X are all the features. \n",
    "\n",
    "X_train = titanic_train.drop(columns=['survived'])\n",
    "y_train = titanic_train.survived"
   ]
  },
  {
   "cell_type": "code",
   "execution_count": 9,
   "id": "75afa22f",
   "metadata": {},
   "outputs": [
    {
     "data": {
      "text/plain": [
       "0    307\n",
       "1    191\n",
       "Name: survived, dtype: int64"
      ]
     },
     "execution_count": 9,
     "metadata": {},
     "output_type": "execute_result"
    }
   ],
   "source": [
    "\n",
    "#figure out the mode of values in our target variable\n",
    "titanic_train.survived.value_counts()"
   ]
  },
  {
   "cell_type": "code",
   "execution_count": 10,
   "id": "113ce2b5",
   "metadata": {},
   "outputs": [
    {
     "name": "stdout",
     "output_type": "stream",
     "text": [
      "Baseline accuracy: 61.65%\n"
     ]
    }
   ],
   "source": [
    "#baseline is 0 so then see where y_train is equal to 0 and then the mean of that\n",
    "baseline_acc = (y_train == 0).mean()\n",
    "\n",
    "print(f'Baseline accuracy: {baseline_acc:.2%}')"
   ]
  },
  {
   "cell_type": "code",
   "execution_count": 11,
   "id": "5714bae9",
   "metadata": {},
   "outputs": [],
   "source": [
    "#create my tree with no depth constraints\n",
    "tree = DecisionTreeClassifier(max_depth = 3) # my algorithm\n",
    "\n",
    "#fit my tree\n",
    "tree = tree.fit(X_train, y_train) #my model"
   ]
  },
  {
   "cell_type": "code",
   "execution_count": 12,
   "id": "3844c65f",
   "metadata": {},
   "outputs": [
    {
     "data": {
      "text/plain": [
       "0.8052208835341366"
      ]
     },
     "execution_count": 12,
     "metadata": {},
     "output_type": "execute_result"
    }
   ],
   "source": [
    "#model score\n",
    "tree.score(X_train, y_train)"
   ]
  },
  {
   "cell_type": "code",
   "execution_count": 13,
   "id": "21faf6a0",
   "metadata": {},
   "outputs": [],
   "source": [
    "# make prediction on train obeservations\n",
    "y_pred = tree.predict(X_train)"
   ]
  },
  {
   "cell_type": "markdown",
   "id": "ce0d6674",
   "metadata": {},
   "source": [
    "Evaluate your in-sample results using the model score, confusion matrix, and classification report."
   ]
  },
  {
   "cell_type": "code",
   "execution_count": 14,
   "id": "a6e22265",
   "metadata": {
    "scrolled": false
   },
   "outputs": [
    {
     "data": {
      "text/plain": [
       "array([[268,  39],\n",
       "       [ 58, 133]])"
      ]
     },
     "execution_count": 14,
     "metadata": {},
     "output_type": "execute_result"
    }
   ],
   "source": [
    "#confusion matrix\n",
    "metrics.confusion_matrix(y_train, y_pred)"
   ]
  },
  {
   "cell_type": "code",
   "execution_count": 15,
   "id": "b5413f94",
   "metadata": {},
   "outputs": [
    {
     "data": {
      "text/html": [
       "<div>\n",
       "<style scoped>\n",
       "    .dataframe tbody tr th:only-of-type {\n",
       "        vertical-align: middle;\n",
       "    }\n",
       "\n",
       "    .dataframe tbody tr th {\n",
       "        vertical-align: top;\n",
       "    }\n",
       "\n",
       "    .dataframe thead th {\n",
       "        text-align: right;\n",
       "    }\n",
       "</style>\n",
       "<table border=\"1\" class=\"dataframe\">\n",
       "  <thead>\n",
       "    <tr style=\"text-align: right;\">\n",
       "      <th>col_0</th>\n",
       "      <th>0</th>\n",
       "      <th>1</th>\n",
       "    </tr>\n",
       "    <tr>\n",
       "      <th>survived</th>\n",
       "      <th></th>\n",
       "      <th></th>\n",
       "    </tr>\n",
       "  </thead>\n",
       "  <tbody>\n",
       "    <tr>\n",
       "      <th>0</th>\n",
       "      <td>268</td>\n",
       "      <td>39</td>\n",
       "    </tr>\n",
       "    <tr>\n",
       "      <th>1</th>\n",
       "      <td>58</td>\n",
       "      <td>133</td>\n",
       "    </tr>\n",
       "  </tbody>\n",
       "</table>\n",
       "</div>"
      ],
      "text/plain": [
       "col_0       0    1\n",
       "survived          \n",
       "0         268   39\n",
       "1          58  133"
      ]
     },
     "execution_count": 15,
     "metadata": {},
     "output_type": "execute_result"
    }
   ],
   "source": [
    "pd.crosstab(y_train, y_pred)"
   ]
  },
  {
   "cell_type": "code",
   "execution_count": 16,
   "id": "712e9b05",
   "metadata": {
    "scrolled": true
   },
   "outputs": [
    {
     "name": "stderr",
     "output_type": "stream",
     "text": [
      "/usr/local/anaconda3/lib/python3.9/site-packages/sklearn/utils/deprecation.py:87: FutureWarning: Function plot_confusion_matrix is deprecated; Function `plot_confusion_matrix` is deprecated in 1.0 and will be removed in 1.2. Use one of the class methods: ConfusionMatrixDisplay.from_predictions or ConfusionMatrixDisplay.from_estimator.\n",
      "  warnings.warn(msg, category=FutureWarning)\n"
     ]
    },
    {
     "data": {
      "text/plain": [
       "<sklearn.metrics._plot.confusion_matrix.ConfusionMatrixDisplay at 0x7f96ec8cac10>"
      ]
     },
     "execution_count": 16,
     "metadata": {},
     "output_type": "execute_result"
    },
    {
     "data": {
      "image/png": "[encoded data removed]",
      "text/plain": [
       "<Figure size 432x288 with 2 Axes>"
      ]
     },
     "metadata": {
      "needs_background": "light"
     },
     "output_type": "display_data"
    }
   ],
   "source": [
    "metrics.plot_confusion_matrix(tree, X_train, y_train, display_labels=[0, 1])"
   ]
  },
  {
   "cell_type": "code",
   "execution_count": 17,
   "id": "72a42783",
   "metadata": {
    "scrolled": true
   },
   "outputs": [
    {
     "name": "stdout",
     "output_type": "stream",
     "text": [
      "              precision    recall  f1-score   support\n",
      "\n",
      "           0       0.82      0.87      0.85       307\n",
      "           1       0.77      0.70      0.73       191\n",
      "\n",
      "    accuracy                           0.81       498\n",
      "   macro avg       0.80      0.78      0.79       498\n",
      "weighted avg       0.80      0.81      0.80       498\n",
      "\n"
     ]
    }
   ],
   "source": [
    "#classification report\n",
    "print(metrics.classification_report(y_train, y_pred))"
   ]
  },
  {
   "cell_type": "code",
   "execution_count": 18,
   "id": "27fc1026",
   "metadata": {},
   "outputs": [],
   "source": [
    "TN, FP, FN, TP = metrics.confusion_matrix(y_train, y_pred).ravel()"
   ]
  },
  {
   "cell_type": "code",
   "execution_count": 19,
   "id": "4fec0dd4",
   "metadata": {},
   "outputs": [
    {
     "name": "stdout",
     "output_type": "stream",
     "text": [
      "Accuracy: 0.8052208835341366 \n",
      "\n",
      "True Positive Rate/Sensitivity/Recall/Power: 0.6963350785340314 \n",
      "\n",
      "False Positive Rate/False Alarm Ratio/Fall-out: 0.1270358306188925 \n",
      "\n",
      "True Negative Rate/Specificity/Selectivity: 0.8729641693811075 \n",
      "\n",
      "False Negative Rate/Miss Rate: 0.3036649214659686 \n",
      "\n",
      "Precision/PPV: 0.7732558139534884 \n",
      "\n",
      "F1 Score: 0.7327823691460056 \n",
      "\n",
      "Support (0): 307 \n",
      "\n",
      "Support (1): 191\n"
     ]
    }
   ],
   "source": [
    "ALL = TP + FP + FN + TN\n",
    "\n",
    "accuracy = (TP + TN)/ALL\n",
    "true_positive_rate = sensitivity = recall = power = TP/(TP+FN)\n",
    "false_positive_rate = false_alarm_ratio = fallout = FP/(FP+TN)\n",
    "true_negative_rate = specificity = selectivity = TN/(TN+FP)\n",
    "false_negative_rate = miss_rate = FN/(FN+TP)\n",
    "precision = PPV = TP/(TP+FP)\n",
    "f1_score = 2*(precision*recall)/(precision+recall)\n",
    "support_pos = TP + FN\n",
    "support_neg = FP + TN\n",
    "\n",
    "print(f\"Accuracy: {accuracy}\", '\\n')\n",
    "print(f\"True Positive Rate/Sensitivity/Recall/Power: {true_positive_rate}\", '\\n')\n",
    "print(f\"False Positive Rate/False Alarm Ratio/Fall-out: {false_positive_rate}\", '\\n')\n",
    "print(f\"True Negative Rate/Specificity/Selectivity: {true_negative_rate}\", '\\n')\n",
    "print(f\"False Negative Rate/Miss Rate: {false_negative_rate}\", '\\n')\n",
    "print(f\"Precision/PPV: {precision}\", '\\n')\n",
    "print(f\"F1 Score: {f1_score}\", '\\n')\n",
    "print(f\"Support (0): {support_neg}\", '\\n')\n",
    "print(f\"Support (1): {support_pos}\")"
   ]
  },
  {
   "cell_type": "markdown",
   "id": "0dc8b89e",
   "metadata": {},
   "source": [
    "### Find Optimal max_depth"
   ]
  },
  {
   "cell_type": "code",
   "execution_count": 20,
   "id": "e721f976",
   "metadata": {},
   "outputs": [
    {
     "name": "stdout",
     "output_type": "stream",
     "text": [
      "Tree with max depth of 1\n",
      "                    0           1  accuracy   macro avg  weighted avg\n",
      "precision    0.813505    0.711230    0.7751    0.762367      0.774279\n",
      "recall       0.824104    0.696335    0.7751    0.760220      0.775100\n",
      "f1-score     0.818770    0.703704    0.7751    0.761237      0.774638\n",
      "support    307.000000  191.000000    0.7751  498.000000    498.000000\n",
      "\n",
      "Tree with max depth of 2\n",
      "                    0           1  accuracy   macro avg  weighted avg\n",
      "precision    0.750623    0.938144  0.787149    0.844384      0.822544\n",
      "recall       0.980456    0.476440  0.787149    0.728448      0.787149\n",
      "f1-score     0.850282    0.631944  0.787149    0.741113      0.766542\n",
      "support    307.000000  191.000000  0.787149  498.000000    498.000000\n",
      "\n",
      "Tree with max depth of 3\n",
      "                    0           1  accuracy   macro avg  weighted avg\n",
      "precision    0.822086    0.773256  0.805221    0.797671      0.803358\n",
      "recall       0.872964    0.696335  0.805221    0.784650      0.805221\n",
      "f1-score     0.846761    0.732782  0.805221    0.789772      0.803047\n",
      "support    307.000000  191.000000  0.805221  498.000000    498.000000\n",
      "\n",
      "Tree with max depth of 4\n",
      "                    0           1  accuracy   macro avg  weighted avg\n",
      "precision    0.800554    0.868613  0.819277    0.834584      0.826657\n",
      "recall       0.941368    0.623037  0.819277    0.782202      0.819277\n",
      "f1-score     0.865269    0.725610  0.819277    0.795440      0.811705\n",
      "support    307.000000  191.000000  0.819277  498.000000    498.000000\n",
      "\n",
      "Tree with max depth of 5\n",
      "                    0           1  accuracy   macro avg  weighted avg\n",
      "precision    0.820513    0.870748  0.835341    0.845631      0.839780\n",
      "recall       0.938111    0.670157  0.835341    0.804134      0.835341\n",
      "f1-score     0.875380    0.757396  0.835341    0.816388      0.830129\n",
      "support    307.000000  191.000000  0.835341  498.000000    498.000000\n",
      "\n",
      "Tree with max depth of 6\n",
      "                    0           1  accuracy   macro avg  weighted avg\n",
      "precision    0.860606    0.863095  0.861446    0.861851      0.861561\n",
      "recall       0.925081    0.759162  0.861446    0.842122      0.861446\n",
      "f1-score     0.891680    0.807799  0.861446    0.849740      0.859509\n",
      "support    307.000000  191.000000  0.861446  498.000000    498.000000\n",
      "\n",
      "Tree with max depth of 7\n",
      "                    0           1  accuracy   macro avg  weighted avg\n",
      "precision    0.879518    0.909639  0.889558    0.894578      0.891070\n",
      "recall       0.951140    0.790576  0.889558    0.870858      0.889558\n",
      "f1-score     0.913928    0.845938  0.889558    0.879933      0.887852\n",
      "support    307.000000  191.000000  0.889558  498.000000    498.000000\n",
      "\n",
      "Tree with max depth of 8\n",
      "                    0           1  accuracy   macro avg  weighted avg\n",
      "precision    0.898148    0.908046  0.901606    0.903097      0.901944\n",
      "recall       0.947883    0.827225  0.901606    0.887554      0.901606\n",
      "f1-score     0.922345    0.865753  0.901606    0.894049      0.900640\n",
      "support    307.000000  191.000000  0.901606  498.000000    498.000000\n",
      "\n",
      "Tree with max depth of 9\n",
      "                    0           1  accuracy   macro avg  weighted avg\n",
      "precision    0.913043    0.926136  0.917671    0.919590      0.918065\n",
      "recall       0.957655    0.853403  0.917671    0.905529      0.917671\n",
      "f1-score     0.934817    0.888283  0.917671    0.911550      0.916970\n",
      "support    307.000000  191.000000  0.917671  498.000000    498.000000\n",
      "\n",
      "Tree with max depth of 10\n",
      "                    0           1  accuracy   macro avg  weighted avg\n",
      "precision    0.914110    0.947674  0.925703    0.930892      0.926983\n",
      "recall       0.970684    0.853403  0.925703    0.912044      0.925703\n",
      "f1-score     0.941548    0.898072  0.925703    0.919810      0.924873\n",
      "support    307.000000  191.000000  0.925703  498.000000    498.000000\n",
      "\n",
      "Tree with max depth of 11\n",
      "                    0           1  accuracy   macro avg  weighted avg\n",
      "precision    0.922601    0.948571  0.931727    0.935586      0.932561\n",
      "recall       0.970684    0.869110  0.931727    0.919897      0.931727\n",
      "f1-score     0.946032    0.907104  0.931727    0.926568      0.931102\n",
      "support    307.000000  191.000000  0.931727  498.000000    498.000000\n",
      "\n",
      "Tree with max depth of 12\n",
      "                    0           1  accuracy   macro avg  weighted avg\n",
      "precision    0.925466    0.948864  0.933735    0.937165      0.934440\n",
      "recall       0.970684    0.874346  0.933735    0.922515      0.933735\n",
      "f1-score     0.947536    0.910082  0.933735    0.928809      0.933171\n",
      "support    307.000000  191.000000  0.933735  498.000000    498.000000\n",
      "\n",
      "Tree with max depth of 13\n",
      "                    0           1  accuracy   macro avg  weighted avg\n",
      "precision    0.925466    0.948864  0.933735    0.937165      0.934440\n",
      "recall       0.970684    0.874346  0.933735    0.922515      0.933735\n",
      "f1-score     0.947536    0.910082  0.933735    0.928809      0.933171\n",
      "support    307.000000  191.000000  0.933735  498.000000    498.000000\n",
      "\n",
      "Tree with max depth of 14\n",
      "                    0           1  accuracy   macro avg  weighted avg\n",
      "precision    0.933962    0.944444  0.937751    0.939203      0.937983\n",
      "recall       0.967427    0.890052  0.937751    0.928740      0.937751\n",
      "f1-score     0.950400    0.916442  0.937751    0.933421      0.937376\n",
      "support    307.000000  191.000000  0.937751  498.000000    498.000000\n",
      "\n",
      "Tree with max depth of 15\n",
      "                    0           1  accuracy   macro avg  weighted avg\n",
      "precision    0.933962    0.944444  0.937751    0.939203      0.937983\n",
      "recall       0.967427    0.890052  0.937751    0.928740      0.937751\n",
      "f1-score     0.950400    0.916442  0.937751    0.933421      0.937376\n",
      "support    307.000000  191.000000  0.937751  498.000000    498.000000\n",
      "\n",
      "Tree with max depth of 16\n",
      "                    0           1  accuracy   macro avg  weighted avg\n",
      "precision    0.933962    0.944444  0.937751    0.939203      0.937983\n",
      "recall       0.967427    0.890052  0.937751    0.928740      0.937751\n",
      "f1-score     0.950400    0.916442  0.937751    0.933421      0.937376\n",
      "support    307.000000  191.000000  0.937751  498.000000    498.000000\n",
      "\n",
      "Tree with max depth of 17\n",
      "                    0           1  accuracy   macro avg  weighted avg\n",
      "precision    0.933962    0.944444  0.937751    0.939203      0.937983\n",
      "recall       0.967427    0.890052  0.937751    0.928740      0.937751\n",
      "f1-score     0.950400    0.916442  0.937751    0.933421      0.937376\n",
      "support    307.000000  191.000000  0.937751  498.000000    498.000000\n",
      "\n",
      "Tree with max depth of 18\n",
      "                    0           1  accuracy   macro avg  weighted avg\n",
      "precision    0.933962    0.944444  0.937751    0.939203      0.937983\n",
      "recall       0.967427    0.890052  0.937751    0.928740      0.937751\n",
      "f1-score     0.950400    0.916442  0.937751    0.933421      0.937376\n",
      "support    307.000000  191.000000  0.937751  498.000000    498.000000\n",
      "\n",
      "Tree with max depth of 19\n",
      "                    0           1  accuracy   macro avg  weighted avg\n",
      "precision    0.933962    0.944444  0.937751    0.939203      0.937983\n",
      "recall       0.967427    0.890052  0.937751    0.928740      0.937751\n",
      "f1-score     0.950400    0.916442  0.937751    0.933421      0.937376\n",
      "support    307.000000  191.000000  0.937751  498.000000    498.000000\n",
      "\n",
      "Tree with max depth of 20\n",
      "                    0           1  accuracy   macro avg  weighted avg\n",
      "precision    0.933962    0.944444  0.937751    0.939203      0.937983\n",
      "recall       0.967427    0.890052  0.937751    0.928740      0.937751\n",
      "f1-score     0.950400    0.916442  0.937751    0.933421      0.937376\n",
      "support    307.000000  191.000000  0.937751  498.000000    498.000000\n",
      "\n"
     ]
    }
   ],
   "source": [
    "for i in range(1, 21):\n",
    "    # Make the model\n",
    "    tree = DecisionTreeClassifier(max_depth=i)\n",
    "\n",
    "    # Fit the model (on train and only train)\n",
    "    tree = tree.fit(X_train, y_train)\n",
    "\n",
    "    # Use the model\n",
    "    # We'll evaluate the model's performance on train, first\n",
    "    y_predictions = tree.predict(X_train)\n",
    "\n",
    "    # Produce the classification report on the actual y values and this model's predicted y values\n",
    "    report = metrics.classification_report(y_train, y_predictions, output_dict=True)\n",
    "    print(f\"Tree with max depth of {i}\")\n",
    "    print(pd.DataFrame(report))\n",
    "    print()"
   ]
  },
  {
   "cell_type": "code",
   "execution_count": 21,
   "id": "0eaafa47",
   "metadata": {},
   "outputs": [],
   "source": [
    "drop_columns = list(titanic_validate.select_dtypes(include='object').columns)\n",
    "\n",
    "titanic_validate.drop(columns=drop_columns, inplace=True)"
   ]
  },
  {
   "cell_type": "code",
   "execution_count": 22,
   "id": "18343d72",
   "metadata": {},
   "outputs": [],
   "source": [
    "X_validate = titanic_validate.drop(columns=['survived'])\n",
    "y_validate = titanic_validate.survived"
   ]
  },
  {
   "cell_type": "code",
   "execution_count": 23,
   "id": "794f6e3e",
   "metadata": {},
   "outputs": [],
   "source": [
    "val_pred = tree.predict(X_validate)"
   ]
  },
  {
   "cell_type": "code",
   "execution_count": 24,
   "id": "6d96fe3c",
   "metadata": {},
   "outputs": [
    {
     "data": {
      "text/plain": [
       "0.7990654205607477"
      ]
     },
     "execution_count": 24,
     "metadata": {},
     "output_type": "execute_result"
    }
   ],
   "source": [
    "#model accuracy score\n",
    "tree.score(X_validate, y_validate)"
   ]
  },
  {
   "cell_type": "code",
   "execution_count": 25,
   "id": "86ce3892",
   "metadata": {
    "scrolled": false
   },
   "outputs": [
    {
     "data": {
      "text/plain": [
       "array([[117,  15],\n",
       "       [ 28,  54]])"
      ]
     },
     "execution_count": 25,
     "metadata": {},
     "output_type": "execute_result"
    }
   ],
   "source": [
    "#confusion matrix\n",
    "metrics.confusion_matrix(y_validate, val_pred)"
   ]
  },
  {
   "cell_type": "code",
   "execution_count": 26,
   "id": "960cc912",
   "metadata": {},
   "outputs": [
    {
     "name": "stdout",
     "output_type": "stream",
     "text": [
      "              precision    recall  f1-score   support\n",
      "\n",
      "           0       0.81      0.89      0.84       132\n",
      "           1       0.78      0.66      0.72        82\n",
      "\n",
      "    accuracy                           0.80       214\n",
      "   macro avg       0.79      0.77      0.78       214\n",
      "weighted avg       0.80      0.80      0.80       214\n",
      "\n"
     ]
    }
   ],
   "source": [
    "print(metrics.classification_report(y_validate, val_pred))"
   ]
  },
  {
   "cell_type": "code",
   "execution_count": 29,
   "id": "49628597",
   "metadata": {},
   "outputs": [
    {
     "data": {
      "text/html": [
       "<div>\n",
       "<style scoped>\n",
       "    .dataframe tbody tr th:only-of-type {\n",
       "        vertical-align: middle;\n",
       "    }\n",
       "\n",
       "    .dataframe tbody tr th {\n",
       "        vertical-align: top;\n",
       "    }\n",
       "\n",
       "    .dataframe thead th {\n",
       "        text-align: right;\n",
       "    }\n",
       "</style>\n",
       "<table border=\"1\" class=\"dataframe\">\n",
       "  <thead>\n",
       "    <tr style=\"text-align: right;\">\n",
       "      <th></th>\n",
       "      <th>max_depth</th>\n",
       "      <th>train_accuracy</th>\n",
       "      <th>validate_accuracy</th>\n",
       "      <th>difference</th>\n",
       "    </tr>\n",
       "  </thead>\n",
       "  <tbody>\n",
       "    <tr>\n",
       "      <th>0</th>\n",
       "      <td>1</td>\n",
       "      <td>0.775100</td>\n",
       "      <td>0.808411</td>\n",
       "      <td>-0.033311</td>\n",
       "    </tr>\n",
       "    <tr>\n",
       "      <th>1</th>\n",
       "      <td>2</td>\n",
       "      <td>0.787149</td>\n",
       "      <td>0.780374</td>\n",
       "      <td>0.006775</td>\n",
       "    </tr>\n",
       "    <tr>\n",
       "      <th>2</th>\n",
       "      <td>3</td>\n",
       "      <td>0.805221</td>\n",
       "      <td>0.822430</td>\n",
       "      <td>-0.017209</td>\n",
       "    </tr>\n",
       "    <tr>\n",
       "      <th>3</th>\n",
       "      <td>4</td>\n",
       "      <td>0.819277</td>\n",
       "      <td>0.808411</td>\n",
       "      <td>0.010866</td>\n",
       "    </tr>\n",
       "    <tr>\n",
       "      <th>4</th>\n",
       "      <td>5</td>\n",
       "      <td>0.835341</td>\n",
       "      <td>0.808411</td>\n",
       "      <td>0.026930</td>\n",
       "    </tr>\n",
       "    <tr>\n",
       "      <th>5</th>\n",
       "      <td>6</td>\n",
       "      <td>0.861446</td>\n",
       "      <td>0.799065</td>\n",
       "      <td>0.062380</td>\n",
       "    </tr>\n",
       "    <tr>\n",
       "      <th>6</th>\n",
       "      <td>7</td>\n",
       "      <td>0.889558</td>\n",
       "      <td>0.817757</td>\n",
       "      <td>0.071801</td>\n",
       "    </tr>\n",
       "    <tr>\n",
       "      <th>7</th>\n",
       "      <td>8</td>\n",
       "      <td>0.901606</td>\n",
       "      <td>0.808411</td>\n",
       "      <td>0.093195</td>\n",
       "    </tr>\n",
       "    <tr>\n",
       "      <th>8</th>\n",
       "      <td>9</td>\n",
       "      <td>0.917671</td>\n",
       "      <td>0.813084</td>\n",
       "      <td>0.104587</td>\n",
       "    </tr>\n",
       "    <tr>\n",
       "      <th>9</th>\n",
       "      <td>10</td>\n",
       "      <td>0.925703</td>\n",
       "      <td>0.799065</td>\n",
       "      <td>0.126637</td>\n",
       "    </tr>\n",
       "    <tr>\n",
       "      <th>10</th>\n",
       "      <td>11</td>\n",
       "      <td>0.931727</td>\n",
       "      <td>0.803738</td>\n",
       "      <td>0.127989</td>\n",
       "    </tr>\n",
       "    <tr>\n",
       "      <th>11</th>\n",
       "      <td>12</td>\n",
       "      <td>0.933735</td>\n",
       "      <td>0.808411</td>\n",
       "      <td>0.125324</td>\n",
       "    </tr>\n",
       "    <tr>\n",
       "      <th>12</th>\n",
       "      <td>13</td>\n",
       "      <td>0.933735</td>\n",
       "      <td>0.808411</td>\n",
       "      <td>0.125324</td>\n",
       "    </tr>\n",
       "    <tr>\n",
       "      <th>13</th>\n",
       "      <td>14</td>\n",
       "      <td>0.937751</td>\n",
       "      <td>0.799065</td>\n",
       "      <td>0.138686</td>\n",
       "    </tr>\n",
       "    <tr>\n",
       "      <th>14</th>\n",
       "      <td>15</td>\n",
       "      <td>0.937751</td>\n",
       "      <td>0.799065</td>\n",
       "      <td>0.138686</td>\n",
       "    </tr>\n",
       "    <tr>\n",
       "      <th>15</th>\n",
       "      <td>16</td>\n",
       "      <td>0.937751</td>\n",
       "      <td>0.799065</td>\n",
       "      <td>0.138686</td>\n",
       "    </tr>\n",
       "    <tr>\n",
       "      <th>16</th>\n",
       "      <td>17</td>\n",
       "      <td>0.937751</td>\n",
       "      <td>0.799065</td>\n",
       "      <td>0.138686</td>\n",
       "    </tr>\n",
       "    <tr>\n",
       "      <th>17</th>\n",
       "      <td>18</td>\n",
       "      <td>0.937751</td>\n",
       "      <td>0.799065</td>\n",
       "      <td>0.138686</td>\n",
       "    </tr>\n",
       "    <tr>\n",
       "      <th>18</th>\n",
       "      <td>19</td>\n",
       "      <td>0.937751</td>\n",
       "      <td>0.799065</td>\n",
       "      <td>0.138686</td>\n",
       "    </tr>\n",
       "    <tr>\n",
       "      <th>19</th>\n",
       "      <td>20</td>\n",
       "      <td>0.937751</td>\n",
       "      <td>0.799065</td>\n",
       "      <td>0.138686</td>\n",
       "    </tr>\n",
       "    <tr>\n",
       "      <th>20</th>\n",
       "      <td>21</td>\n",
       "      <td>0.937751</td>\n",
       "      <td>0.799065</td>\n",
       "      <td>0.138686</td>\n",
       "    </tr>\n",
       "    <tr>\n",
       "      <th>21</th>\n",
       "      <td>22</td>\n",
       "      <td>0.937751</td>\n",
       "      <td>0.799065</td>\n",
       "      <td>0.138686</td>\n",
       "    </tr>\n",
       "    <tr>\n",
       "      <th>22</th>\n",
       "      <td>23</td>\n",
       "      <td>0.937751</td>\n",
       "      <td>0.799065</td>\n",
       "      <td>0.138686</td>\n",
       "    </tr>\n",
       "    <tr>\n",
       "      <th>23</th>\n",
       "      <td>24</td>\n",
       "      <td>0.937751</td>\n",
       "      <td>0.799065</td>\n",
       "      <td>0.138686</td>\n",
       "    </tr>\n",
       "  </tbody>\n",
       "</table>\n",
       "</div>"
      ],
      "text/plain": [
       "    max_depth  train_accuracy  validate_accuracy  difference\n",
       "0           1        0.775100           0.808411   -0.033311\n",
       "1           2        0.787149           0.780374    0.006775\n",
       "2           3        0.805221           0.822430   -0.017209\n",
       "3           4        0.819277           0.808411    0.010866\n",
       "4           5        0.835341           0.808411    0.026930\n",
       "5           6        0.861446           0.799065    0.062380\n",
       "6           7        0.889558           0.817757    0.071801\n",
       "7           8        0.901606           0.808411    0.093195\n",
       "8           9        0.917671           0.813084    0.104587\n",
       "9          10        0.925703           0.799065    0.126637\n",
       "10         11        0.931727           0.803738    0.127989\n",
       "11         12        0.933735           0.808411    0.125324\n",
       "12         13        0.933735           0.808411    0.125324\n",
       "13         14        0.937751           0.799065    0.138686\n",
       "14         15        0.937751           0.799065    0.138686\n",
       "15         16        0.937751           0.799065    0.138686\n",
       "16         17        0.937751           0.799065    0.138686\n",
       "17         18        0.937751           0.799065    0.138686\n",
       "18         19        0.937751           0.799065    0.138686\n",
       "19         20        0.937751           0.799065    0.138686\n",
       "20         21        0.937751           0.799065    0.138686\n",
       "21         22        0.937751           0.799065    0.138686\n",
       "22         23        0.937751           0.799065    0.138686\n",
       "23         24        0.937751           0.799065    0.138686"
      ]
     },
     "execution_count": 29,
     "metadata": {},
     "output_type": "execute_result"
    }
   ],
   "source": [
    "# Let's continue getting loopy, so we can compare in-sample to out-of-sample\n",
    "metric = []\n",
    "\n",
    "for i in range(1, 25):\n",
    "    # Make the model\n",
    "    tree = DecisionTreeClassifier(max_depth=i, random_state=123)\n",
    "\n",
    "    # Fit the model (on train and only train)\n",
    "    tree = tree.fit(X_train, y_train)\n",
    "\n",
    "    # Use the model\n",
    "    # We'll evaluate the model's performance on train, first\n",
    "    in_sample_accuracy = tree.score(X_train, y_train)\n",
    "    \n",
    "    out_of_sample_accuracy = tree.score(X_validate, y_validate)\n",
    "\n",
    "    output = {\n",
    "        \"max_depth\": i,\n",
    "        \"train_accuracy\": in_sample_accuracy,\n",
    "        \"validate_accuracy\": out_of_sample_accuracy\n",
    "    }\n",
    "    \n",
    "    metric.append(output)\n",
    "    \n",
    "df = pd.DataFrame(metric)\n",
    "df[\"difference\"] = df.train_accuracy - df.validate_accuracy\n",
    "df"
   ]
  },
  {
   "cell_type": "code",
   "execution_count": 30,
   "id": "f67b0aec",
   "metadata": {},
   "outputs": [
    {
     "data": {
      "image/png": "[encoded data removed]",
      "text/plain": [
       "<Figure size 864x432 with 1 Axes>"
      ]
     },
     "metadata": {
      "needs_background": "light"
     },
     "output_type": "display_data"
    }
   ],
   "source": [
    "plt.figure(figsize=(12, 6))\n",
    "plt.plot(df.max_depth, df.train_accuracy, marker = 'o', label = 'Train')\n",
    "plt.plot(df.max_depth, df.validate_accuracy, marker = 'o', label = 'Validate')\n",
    "plt.title('Overfitting Occurs at Higher Values for Max Depth')\n",
    "plt.xlabel('Max Depth')\n",
    "plt.ylabel('Accuracy')\n",
    "plt.legend()\n",
    "plt.show()"
   ]
  },
  {
   "cell_type": "code",
   "execution_count": 31,
   "id": "25335881",
   "metadata": {
    "scrolled": true
   },
   "outputs": [
    {
     "data": {
      "text/html": [
       "<div>\n",
       "<style scoped>\n",
       "    .dataframe tbody tr th:only-of-type {\n",
       "        vertical-align: middle;\n",
       "    }\n",
       "\n",
       "    .dataframe tbody tr th {\n",
       "        vertical-align: top;\n",
       "    }\n",
       "\n",
       "    .dataframe thead th {\n",
       "        text-align: right;\n",
       "    }\n",
       "</style>\n",
       "<table border=\"1\" class=\"dataframe\">\n",
       "  <thead>\n",
       "    <tr style=\"text-align: right;\">\n",
       "      <th></th>\n",
       "      <th>max_depth</th>\n",
       "      <th>train_accuracy</th>\n",
       "      <th>validate_accuracy</th>\n",
       "      <th>difference</th>\n",
       "    </tr>\n",
       "  </thead>\n",
       "  <tbody>\n",
       "    <tr>\n",
       "      <th>2</th>\n",
       "      <td>3</td>\n",
       "      <td>0.805221</td>\n",
       "      <td>0.822430</td>\n",
       "      <td>-0.017209</td>\n",
       "    </tr>\n",
       "    <tr>\n",
       "      <th>6</th>\n",
       "      <td>7</td>\n",
       "      <td>0.889558</td>\n",
       "      <td>0.817757</td>\n",
       "      <td>0.071801</td>\n",
       "    </tr>\n",
       "    <tr>\n",
       "      <th>0</th>\n",
       "      <td>1</td>\n",
       "      <td>0.775100</td>\n",
       "      <td>0.808411</td>\n",
       "      <td>-0.033311</td>\n",
       "    </tr>\n",
       "    <tr>\n",
       "      <th>3</th>\n",
       "      <td>4</td>\n",
       "      <td>0.819277</td>\n",
       "      <td>0.808411</td>\n",
       "      <td>0.010866</td>\n",
       "    </tr>\n",
       "    <tr>\n",
       "      <th>4</th>\n",
       "      <td>5</td>\n",
       "      <td>0.835341</td>\n",
       "      <td>0.808411</td>\n",
       "      <td>0.026930</td>\n",
       "    </tr>\n",
       "    <tr>\n",
       "      <th>7</th>\n",
       "      <td>8</td>\n",
       "      <td>0.901606</td>\n",
       "      <td>0.808411</td>\n",
       "      <td>0.093195</td>\n",
       "    </tr>\n",
       "    <tr>\n",
       "      <th>5</th>\n",
       "      <td>6</td>\n",
       "      <td>0.861446</td>\n",
       "      <td>0.799065</td>\n",
       "      <td>0.062380</td>\n",
       "    </tr>\n",
       "    <tr>\n",
       "      <th>1</th>\n",
       "      <td>2</td>\n",
       "      <td>0.787149</td>\n",
       "      <td>0.780374</td>\n",
       "      <td>0.006775</td>\n",
       "    </tr>\n",
       "  </tbody>\n",
       "</table>\n",
       "</div>"
      ],
      "text/plain": [
       "   max_depth  train_accuracy  validate_accuracy  difference\n",
       "2          3        0.805221           0.822430   -0.017209\n",
       "6          7        0.889558           0.817757    0.071801\n",
       "0          1        0.775100           0.808411   -0.033311\n",
       "3          4        0.819277           0.808411    0.010866\n",
       "4          5        0.835341           0.808411    0.026930\n",
       "7          8        0.901606           0.808411    0.093195\n",
       "5          6        0.861446           0.799065    0.062380\n",
       "1          2        0.787149           0.780374    0.006775"
      ]
     },
     "execution_count": 31,
     "metadata": {},
     "output_type": "execute_result"
    }
   ],
   "source": [
    "df[df.difference <= 0.10].sort_values(by=['validate_accuracy', 'difference'], ascending = [False,True])"
   ]
  },
  {
   "cell_type": "markdown",
   "id": "cc9b6abf",
   "metadata": {},
   "source": [
    "## Telco"
   ]
  },
  {
   "cell_type": "code",
   "execution_count": 50,
   "id": "3d83d639",
   "metadata": {},
   "outputs": [],
   "source": [
    "telco_train, telco_validate, telco_test = prepare.train_validate_test_split(prepare.prep_telco(acquire.get_telco_data()), 'churn')"
   ]
  },
  {
   "cell_type": "code",
   "execution_count": 51,
   "id": "2c9e0f57",
   "metadata": {},
   "outputs": [
    {
     "data": {
      "text/plain": [
       "0    2891\n",
       "1    1046\n",
       "Name: churn_Yes, dtype: int64"
      ]
     },
     "execution_count": 51,
     "metadata": {},
     "output_type": "execute_result"
    }
   ],
   "source": [
    "telco_train.churn_Yes.value_counts()"
   ]
  },
  {
   "cell_type": "code",
   "execution_count": 52,
   "id": "60974de2",
   "metadata": {},
   "outputs": [
    {
     "name": "stdout",
     "output_type": "stream",
     "text": [
      "Baseline accuracy: 73.43%\n"
     ]
    }
   ],
   "source": [
    "#baseline is 0 so then see where y_train is equal to 0 and then the mean of that\n",
    "baseline_acc = (y_train == 0).mean()\n",
    "\n",
    "print(f'Baseline accuracy: {baseline_acc:.2%}')"
   ]
  },
  {
   "cell_type": "code",
   "execution_count": 53,
   "id": "da4ee069",
   "metadata": {},
   "outputs": [
    {
     "data": {
      "text/html": [
       "<div>\n",
       "<style scoped>\n",
       "    .dataframe tbody tr th:only-of-type {\n",
       "        vertical-align: middle;\n",
       "    }\n",
       "\n",
       "    .dataframe tbody tr th {\n",
       "        vertical-align: top;\n",
       "    }\n",
       "\n",
       "    .dataframe thead th {\n",
       "        text-align: right;\n",
       "    }\n",
       "</style>\n",
       "<table border=\"1\" class=\"dataframe\">\n",
       "  <thead>\n",
       "    <tr style=\"text-align: right;\">\n",
       "      <th></th>\n",
       "      <th>gender</th>\n",
       "      <th>senior_citizen</th>\n",
       "      <th>partner</th>\n",
       "      <th>dependents</th>\n",
       "      <th>tenure</th>\n",
       "      <th>phone_service</th>\n",
       "      <th>multiple_lines</th>\n",
       "      <th>online_security</th>\n",
       "      <th>online_backup</th>\n",
       "      <th>device_protection</th>\n",
       "      <th>...</th>\n",
       "      <th>streaming_movies_Yes</th>\n",
       "      <th>paperless_billing_Yes</th>\n",
       "      <th>churn_Yes</th>\n",
       "      <th>contract_type_One year</th>\n",
       "      <th>contract_type_Two year</th>\n",
       "      <th>internet_service_type_Fiber optic</th>\n",
       "      <th>internet_service_type_None</th>\n",
       "      <th>payment_type_Credit card (automatic)</th>\n",
       "      <th>payment_type_Electronic check</th>\n",
       "      <th>payment_type_Mailed check</th>\n",
       "    </tr>\n",
       "  </thead>\n",
       "  <tbody>\n",
       "    <tr>\n",
       "      <th>4491</th>\n",
       "      <td>Male</td>\n",
       "      <td>0</td>\n",
       "      <td>No</td>\n",
       "      <td>No</td>\n",
       "      <td>48</td>\n",
       "      <td>Yes</td>\n",
       "      <td>No</td>\n",
       "      <td>No</td>\n",
       "      <td>Yes</td>\n",
       "      <td>Yes</td>\n",
       "      <td>...</td>\n",
       "      <td>1</td>\n",
       "      <td>0</td>\n",
       "      <td>0</td>\n",
       "      <td>0</td>\n",
       "      <td>1</td>\n",
       "      <td>0</td>\n",
       "      <td>0</td>\n",
       "      <td>1</td>\n",
       "      <td>0</td>\n",
       "      <td>0</td>\n",
       "    </tr>\n",
       "    <tr>\n",
       "      <th>2346</th>\n",
       "      <td>Female</td>\n",
       "      <td>0</td>\n",
       "      <td>Yes</td>\n",
       "      <td>Yes</td>\n",
       "      <td>58</td>\n",
       "      <td>Yes</td>\n",
       "      <td>No</td>\n",
       "      <td>No internet service</td>\n",
       "      <td>No internet service</td>\n",
       "      <td>No internet service</td>\n",
       "      <td>...</td>\n",
       "      <td>0</td>\n",
       "      <td>1</td>\n",
       "      <td>0</td>\n",
       "      <td>0</td>\n",
       "      <td>1</td>\n",
       "      <td>0</td>\n",
       "      <td>1</td>\n",
       "      <td>0</td>\n",
       "      <td>0</td>\n",
       "      <td>1</td>\n",
       "    </tr>\n",
       "    <tr>\n",
       "      <th>770</th>\n",
       "      <td>Female</td>\n",
       "      <td>0</td>\n",
       "      <td>No</td>\n",
       "      <td>Yes</td>\n",
       "      <td>44</td>\n",
       "      <td>Yes</td>\n",
       "      <td>Yes</td>\n",
       "      <td>No</td>\n",
       "      <td>Yes</td>\n",
       "      <td>No</td>\n",
       "      <td>...</td>\n",
       "      <td>1</td>\n",
       "      <td>1</td>\n",
       "      <td>0</td>\n",
       "      <td>1</td>\n",
       "      <td>0</td>\n",
       "      <td>0</td>\n",
       "      <td>0</td>\n",
       "      <td>0</td>\n",
       "      <td>0</td>\n",
       "      <td>1</td>\n",
       "    </tr>\n",
       "    <tr>\n",
       "      <th>5155</th>\n",
       "      <td>Male</td>\n",
       "      <td>0</td>\n",
       "      <td>Yes</td>\n",
       "      <td>No</td>\n",
       "      <td>10</td>\n",
       "      <td>Yes</td>\n",
       "      <td>Yes</td>\n",
       "      <td>No</td>\n",
       "      <td>No</td>\n",
       "      <td>No</td>\n",
       "      <td>...</td>\n",
       "      <td>0</td>\n",
       "      <td>1</td>\n",
       "      <td>1</td>\n",
       "      <td>0</td>\n",
       "      <td>0</td>\n",
       "      <td>1</td>\n",
       "      <td>0</td>\n",
       "      <td>0</td>\n",
       "      <td>1</td>\n",
       "      <td>0</td>\n",
       "    </tr>\n",
       "    <tr>\n",
       "      <th>189</th>\n",
       "      <td>Female</td>\n",
       "      <td>0</td>\n",
       "      <td>No</td>\n",
       "      <td>Yes</td>\n",
       "      <td>11</td>\n",
       "      <td>No</td>\n",
       "      <td>No phone service</td>\n",
       "      <td>Yes</td>\n",
       "      <td>No</td>\n",
       "      <td>No</td>\n",
       "      <td>...</td>\n",
       "      <td>0</td>\n",
       "      <td>1</td>\n",
       "      <td>0</td>\n",
       "      <td>1</td>\n",
       "      <td>0</td>\n",
       "      <td>0</td>\n",
       "      <td>0</td>\n",
       "      <td>0</td>\n",
       "      <td>0</td>\n",
       "      <td>1</td>\n",
       "    </tr>\n",
       "  </tbody>\n",
       "</table>\n",
       "<p>5 rows × 47 columns</p>\n",
       "</div>"
      ],
      "text/plain": [
       "      gender  senior_citizen partner dependents  tenure phone_service  \\\n",
       "4491    Male               0      No         No      48           Yes   \n",
       "2346  Female               0     Yes        Yes      58           Yes   \n",
       "770   Female               0      No        Yes      44           Yes   \n",
       "5155    Male               0     Yes         No      10           Yes   \n",
       "189   Female               0      No        Yes      11            No   \n",
       "\n",
       "        multiple_lines      online_security        online_backup  \\\n",
       "4491                No                   No                  Yes   \n",
       "2346                No  No internet service  No internet service   \n",
       "770                Yes                   No                  Yes   \n",
       "5155               Yes                   No                   No   \n",
       "189   No phone service                  Yes                   No   \n",
       "\n",
       "        device_protection  ... streaming_movies_Yes paperless_billing_Yes  \\\n",
       "4491                  Yes  ...                    1                     0   \n",
       "2346  No internet service  ...                    0                     1   \n",
       "770                    No  ...                    1                     1   \n",
       "5155                   No  ...                    0                     1   \n",
       "189                    No  ...                    0                     1   \n",
       "\n",
       "     churn_Yes contract_type_One year  contract_type_Two year  \\\n",
       "4491         0                      0                       1   \n",
       "2346         0                      0                       1   \n",
       "770          0                      1                       0   \n",
       "5155         1                      0                       0   \n",
       "189          0                      1                       0   \n",
       "\n",
       "      internet_service_type_Fiber optic internet_service_type_None  \\\n",
       "4491                                  0                          0   \n",
       "2346                                  0                          1   \n",
       "770                                   0                          0   \n",
       "5155                                  1                          0   \n",
       "189                                   0                          0   \n",
       "\n",
       "     payment_type_Credit card (automatic) payment_type_Electronic check  \\\n",
       "4491                                    1                             0   \n",
       "2346                                    0                             0   \n",
       "770                                     0                             0   \n",
       "5155                                    0                             1   \n",
       "189                                     0                             0   \n",
       "\n",
       "     payment_type_Mailed check  \n",
       "4491                         0  \n",
       "2346                         1  \n",
       "770                          1  \n",
       "5155                         0  \n",
       "189                          1  \n",
       "\n",
       "[5 rows x 47 columns]"
      ]
     },
     "execution_count": 53,
     "metadata": {},
     "output_type": "execute_result"
    }
   ],
   "source": [
    "telco_train.head()"
   ]
  },
  {
   "cell_type": "code",
   "execution_count": 54,
   "id": "574c100e",
   "metadata": {},
   "outputs": [],
   "source": [
    "drop_columns = list(telco_train.select_dtypes(include='object').columns)\n",
    "\n",
    "telco_train.drop(columns=drop_columns, inplace=True)"
   ]
  },
  {
   "cell_type": "code",
   "execution_count": 55,
   "id": "0203bb7d",
   "metadata": {},
   "outputs": [
    {
     "name": "stdout",
     "output_type": "stream",
     "text": [
      "<class 'pandas.core.frame.DataFrame'>\n",
      "Int64Index: 3937 entries, 4491 to 3781\n",
      "Data columns (total 31 columns):\n",
      " #   Column                                 Non-Null Count  Dtype  \n",
      "---  ------                                 --------------  -----  \n",
      " 0   senior_citizen                         3937 non-null   int64  \n",
      " 1   tenure                                 3937 non-null   int64  \n",
      " 2   monthly_charges                        3937 non-null   float64\n",
      " 3   total_charges                          3937 non-null   float64\n",
      " 4   gender_Male                            3937 non-null   uint8  \n",
      " 5   partner_Yes                            3937 non-null   uint8  \n",
      " 6   dependents_Yes                         3937 non-null   uint8  \n",
      " 7   phone_service_Yes                      3937 non-null   uint8  \n",
      " 8   multiple_lines_No phone service        3937 non-null   uint8  \n",
      " 9   multiple_lines_Yes                     3937 non-null   uint8  \n",
      " 10  online_security_No internet service    3937 non-null   uint8  \n",
      " 11  online_security_Yes                    3937 non-null   uint8  \n",
      " 12  online_backup_No internet service      3937 non-null   uint8  \n",
      " 13  online_backup_Yes                      3937 non-null   uint8  \n",
      " 14  device_protection_No internet service  3937 non-null   uint8  \n",
      " 15  device_protection_Yes                  3937 non-null   uint8  \n",
      " 16  tech_support_No internet service       3937 non-null   uint8  \n",
      " 17  tech_support_Yes                       3937 non-null   uint8  \n",
      " 18  streaming_tv_No internet service       3937 non-null   uint8  \n",
      " 19  streaming_tv_Yes                       3937 non-null   uint8  \n",
      " 20  streaming_movies_No internet service   3937 non-null   uint8  \n",
      " 21  streaming_movies_Yes                   3937 non-null   uint8  \n",
      " 22  paperless_billing_Yes                  3937 non-null   uint8  \n",
      " 23  churn_Yes                              3937 non-null   uint8  \n",
      " 24  contract_type_One year                 3937 non-null   uint8  \n",
      " 25  contract_type_Two year                 3937 non-null   uint8  \n",
      " 26  internet_service_type_Fiber optic      3937 non-null   uint8  \n",
      " 27  internet_service_type_None             3937 non-null   uint8  \n",
      " 28  payment_type_Credit card (automatic)   3937 non-null   uint8  \n",
      " 29  payment_type_Electronic check          3937 non-null   uint8  \n",
      " 30  payment_type_Mailed check              3937 non-null   uint8  \n",
      "dtypes: float64(2), int64(2), uint8(27)\n",
      "memory usage: 257.6 KB\n"
     ]
    }
   ],
   "source": [
    "telco_train.info()"
   ]
  },
  {
   "cell_type": "code",
   "execution_count": 56,
   "id": "a4688823",
   "metadata": {},
   "outputs": [],
   "source": [
    "X_train = telco_train.drop(columns=['churn_Yes'])\n",
    "y_train = telco_train.churn_Yes"
   ]
  },
  {
   "cell_type": "code",
   "execution_count": 57,
   "id": "e6f6a0d2",
   "metadata": {
    "scrolled": false
   },
   "outputs": [
    {
     "data": {
      "text/plain": [
       "DecisionTreeClassifier()"
      ]
     },
     "execution_count": 57,
     "metadata": {},
     "output_type": "execute_result"
    }
   ],
   "source": [
    "telco_tree = DecisionTreeClassifier()\n",
    "\n",
    "telco_tree.fit(X_train, y_train)"
   ]
  },
  {
   "cell_type": "code",
   "execution_count": 58,
   "id": "f3d27f62",
   "metadata": {},
   "outputs": [],
   "source": [
    "y_pred = telco_tree.predict(X_train)"
   ]
  },
  {
   "cell_type": "code",
   "execution_count": 59,
   "id": "011ea1ad",
   "metadata": {},
   "outputs": [
    {
     "data": {
      "text/plain": [
       "0.9982219964439929"
      ]
     },
     "execution_count": 59,
     "metadata": {},
     "output_type": "execute_result"
    }
   ],
   "source": [
    "#model score\n",
    "telco_tree.score(X_train, y_train)"
   ]
  },
  {
   "cell_type": "code",
   "execution_count": 60,
   "id": "301a57a2",
   "metadata": {
    "scrolled": true
   },
   "outputs": [
    {
     "data": {
      "text/plain": [
       "array([[2891,    0],\n",
       "       [   7, 1039]])"
      ]
     },
     "execution_count": 60,
     "metadata": {},
     "output_type": "execute_result"
    }
   ],
   "source": [
    "#confusion matrix\n",
    "metrics.confusion_matrix(y_train, y_pred)"
   ]
  },
  {
   "cell_type": "code",
   "execution_count": 61,
   "id": "29358ef9",
   "metadata": {
    "scrolled": false
   },
   "outputs": [
    {
     "name": "stdout",
     "output_type": "stream",
     "text": [
      "              precision    recall  f1-score   support\n",
      "\n",
      "           0       1.00      1.00      1.00      2891\n",
      "           1       1.00      0.99      1.00      1046\n",
      "\n",
      "    accuracy                           1.00      3937\n",
      "   macro avg       1.00      1.00      1.00      3937\n",
      "weighted avg       1.00      1.00      1.00      3937\n",
      "\n"
     ]
    }
   ],
   "source": [
    "#classification report\n",
    "print(metrics.classification_report(y_train, y_pred))"
   ]
  },
  {
   "cell_type": "code",
   "execution_count": 62,
   "id": "d302a6a3",
   "metadata": {},
   "outputs": [],
   "source": [
    "TN, FP, FN, TP = metrics.confusion_matrix(y_train, y_pred).ravel()"
   ]
  },
  {
   "cell_type": "code",
   "execution_count": 63,
   "id": "1605cf34",
   "metadata": {},
   "outputs": [
    {
     "name": "stdout",
     "output_type": "stream",
     "text": [
      "Accuracy: 0.9982219964439929 \n",
      "\n",
      "True Positive Rate/Sensitivity/Recall/Power: 0.9933078393881453 \n",
      "\n",
      "False Positive Rate/False Alarm Ratio/Fall-out: 0.0 \n",
      "\n",
      "True Negative Rate/Specificity/Selectivity: 1.0 \n",
      "\n",
      "False Negative Rate/Miss Rate: 0.006692160611854685 \n",
      "\n",
      "Precision/PPV: 1.0 \n",
      "\n",
      "F1 Score: 0.9966426858513189 \n",
      "\n",
      "Support (0): 2891 \n",
      "\n",
      "Support (1): 1046\n"
     ]
    }
   ],
   "source": [
    "ALL = TP + FP + FN + TN\n",
    "\n",
    "accuracy = (TP + TN)/ALL\n",
    "true_positive_rate = sensitivity = recall = power = TP/(TP+FN)\n",
    "false_positive_rate = false_alarm_ratio = fallout = FP/(FP+TN)\n",
    "true_negative_rate = specificity = selectivity = TN/(TN+FP)\n",
    "false_negative_rate = miss_rate = FN/(FN+TP)\n",
    "precision = PPV = TP/(TP+FP)\n",
    "f1_score = 2*(precision*recall)/(precision+recall)\n",
    "support_pos = TP + FN\n",
    "support_neg = FP + TN\n",
    "\n",
    "print(f\"Accuracy: {accuracy}\", '\\n')\n",
    "print(f\"True Positive Rate/Sensitivity/Recall/Power: {true_positive_rate}\", '\\n')\n",
    "print(f\"False Positive Rate/False Alarm Ratio/Fall-out: {false_positive_rate}\", '\\n')\n",
    "print(f\"True Negative Rate/Specificity/Selectivity: {true_negative_rate}\", '\\n')\n",
    "print(f\"False Negative Rate/Miss Rate: {false_negative_rate}\", '\\n')\n",
    "print(f\"Precision/PPV: {precision}\", '\\n')\n",
    "print(f\"F1 Score: {f1_score}\", '\\n')\n",
    "print(f\"Support (0): {support_neg}\", '\\n')\n",
    "print(f\"Support (1): {support_pos}\")"
   ]
  },
  {
   "cell_type": "markdown",
   "id": "c898aff8",
   "metadata": {},
   "source": [
    "### Find Optimal max_depth"
   ]
  },
  {
   "cell_type": "code",
   "execution_count": 64,
   "id": "0ea43c9d",
   "metadata": {},
   "outputs": [
    {
     "name": "stdout",
     "output_type": "stream",
     "text": [
      "Tree with max depth of 1\n",
      "                     0       1  accuracy    macro avg  weighted avg\n",
      "precision     0.734315     0.0  0.734315     0.367158      0.539219\n",
      "recall        1.000000     0.0  0.734315     0.500000      0.734315\n",
      "f1-score      0.846807     0.0  0.734315     0.423404      0.621824\n",
      "support    2891.000000  1046.0  0.734315  3937.000000   3937.000000\n",
      "\n",
      "Tree with max depth of 2\n",
      "                     0            1  accuracy    macro avg  weighted avg\n",
      "precision     0.800474     0.665474  0.781306     0.732974      0.764606\n",
      "recall        0.935316     0.355641  0.781306     0.645479      0.781306\n",
      "f1-score      0.862658     0.463551  0.781306     0.663104      0.756621\n",
      "support    2891.000000  1046.000000  0.781306  3937.000000   3937.000000\n",
      "\n",
      "Tree with max depth of 3\n",
      "                     0            1  accuracy    macro avg  weighted avg\n",
      "precision     0.800474     0.665474  0.781306     0.732974      0.764606\n",
      "recall        0.935316     0.355641  0.781306     0.645479      0.781306\n",
      "f1-score      0.862658     0.463551  0.781306     0.663104      0.756621\n",
      "support    2891.000000  1046.000000  0.781306  3937.000000   3937.000000\n",
      "\n",
      "Tree with max depth of 4\n",
      "                     0            1  accuracy    macro avg  weighted avg\n",
      "precision     0.823828     0.627401  0.784862     0.725614      0.771640\n",
      "recall        0.899343     0.468451  0.784862     0.683897      0.784862\n",
      "f1-score      0.859931     0.536398  0.784862     0.698165      0.773973\n",
      "support    2891.000000  1046.000000  0.784862  3937.000000   3937.000000\n",
      "\n",
      "Tree with max depth of 5\n",
      "                     0            1  accuracy    macro avg  weighted avg\n",
      "precision     0.828689     0.648267   0.79299     0.738478      0.780754\n",
      "recall        0.905223     0.482792   0.79299     0.694007      0.792990\n",
      "f1-score      0.865267     0.553425   0.79299     0.709346      0.782415\n",
      "support    2891.000000  1046.000000   0.79299  3937.000000   3937.000000\n",
      "\n",
      "Tree with max depth of 6\n",
      "                     0            1  accuracy    macro avg  weighted avg\n",
      "precision     0.847663     0.660592  0.805944     0.754127      0.797961\n",
      "recall        0.896921     0.554493  0.805944     0.725707      0.805944\n",
      "f1-score      0.871597     0.602911  0.805944     0.737254      0.800211\n",
      "support    2891.000000  1046.000000  0.805944  3937.000000   3937.000000\n",
      "\n",
      "Tree with max depth of 7\n",
      "                     0            1  accuracy    macro avg  weighted avg\n",
      "precision     0.852780     0.711864  0.823216     0.782322      0.815341\n",
      "recall        0.917676     0.562141  0.823216     0.739909      0.823216\n",
      "f1-score      0.884039     0.628205  0.823216     0.756122      0.816068\n",
      "support    2891.000000  1046.000000  0.823216  3937.000000   3937.000000\n",
      "\n",
      "Tree with max depth of 8\n",
      "                     0            1  accuracy    macro avg  weighted avg\n",
      "precision     0.867618     0.746199   0.84125     0.806909      0.835359\n",
      "recall        0.924939     0.609943   0.84125     0.767441      0.841250\n",
      "f1-score      0.895362     0.671226   0.84125     0.783294      0.835813\n",
      "support    2891.000000  1046.000000   0.84125  3937.000000   3937.000000\n",
      "\n",
      "Tree with max depth of 9\n",
      "                     0            1  accuracy    macro avg  weighted avg\n",
      "precision     0.892028     0.752075   0.85776     0.822051      0.854845\n",
      "recall        0.917330     0.693117   0.85776     0.805223      0.857760\n",
      "f1-score      0.904502     0.721393   0.85776     0.812948      0.855853\n",
      "support    2891.000000  1046.000000   0.85776  3937.000000   3937.000000\n",
      "\n",
      "Tree with max depth of 10\n",
      "                     0            1  accuracy    macro avg  weighted avg\n",
      "precision     0.909152     0.804145  0.883414     0.856649      0.881253\n",
      "recall        0.934625     0.741874  0.883414     0.838249      0.883414\n",
      "f1-score      0.921712     0.771755  0.883414     0.846734      0.881871\n",
      "support    2891.000000  1046.000000  0.883414  3937.000000   3937.000000\n",
      "\n",
      "Tree with max depth of 11\n",
      "                     0            1  accuracy    macro avg  weighted avg\n",
      "precision     0.923258     0.846791  0.904496     0.885025      0.902942\n",
      "recall        0.948807     0.782027  0.904496     0.865417      0.904496\n",
      "f1-score      0.935858     0.813121  0.904496     0.874490      0.903249\n",
      "support    2891.000000  1046.000000  0.904496  3937.000000   3937.000000\n",
      "\n",
      "Tree with max depth of 12\n",
      "                     0            1  accuracy    macro avg  weighted avg\n",
      "precision     0.940014     0.867398  0.921514     0.903706      0.920721\n",
      "recall        0.953995     0.831740  0.921514     0.892868      0.921514\n",
      "f1-score      0.946953     0.849195  0.921514     0.898074      0.920980\n",
      "support    2891.000000  1046.000000  0.921514  3937.000000   3937.000000\n",
      "\n",
      "Tree with max depth of 13\n",
      "                     0            1  accuracy    macro avg  weighted avg\n",
      "precision     0.947564     0.908257   0.93777     0.927911      0.937121\n",
      "recall        0.968869     0.851816   0.93777     0.910343      0.937770\n",
      "f1-score      0.958098     0.879132   0.93777     0.918615      0.937118\n",
      "support    2891.000000  1046.000000   0.93777  3937.000000   3937.000000\n",
      "\n",
      "Tree with max depth of 14\n",
      "                     0            1  accuracy    macro avg  weighted avg\n",
      "precision     0.955390     0.934560  0.950216     0.944975      0.949856\n",
      "recall        0.977862     0.873805  0.950216     0.925834      0.950216\n",
      "f1-score      0.966496     0.903162  0.950216     0.934829      0.949669\n",
      "support    2891.000000  1046.000000  0.950216  3937.000000   3937.000000\n",
      "\n",
      "Tree with max depth of 15\n",
      "                     0            1  accuracy    macro avg  weighted avg\n",
      "precision     0.972280     0.919125   0.95809     0.945702      0.958157\n",
      "recall        0.970598     0.923518   0.95809     0.947058      0.958090\n",
      "f1-score      0.971438     0.921316   0.95809     0.946377      0.958122\n",
      "support    2891.000000  1046.000000   0.95809  3937.000000   3937.000000\n",
      "\n",
      "Tree with max depth of 16\n",
      "                     0            1  accuracy    macro avg  weighted avg\n",
      "precision     0.972715     0.961194  0.969774     0.966954      0.969654\n",
      "recall        0.986510     0.923518  0.969774     0.955014      0.969774\n",
      "f1-score      0.979564     0.941980  0.969774     0.960772      0.969578\n",
      "support    2891.000000  1046.000000  0.969774  3937.000000   3937.000000\n",
      "\n",
      "Tree with max depth of 17\n",
      "                     0            1  accuracy    macro avg  weighted avg\n",
      "precision     0.987166     0.957306  0.979172     0.972236      0.979233\n",
      "recall        0.984434     0.964627  0.979172     0.974531      0.979172\n",
      "f1-score      0.985798     0.960952  0.979172     0.973375      0.979197\n",
      "support    2891.000000  1046.000000  0.979172  3937.000000   3937.000000\n",
      "\n",
      "Tree with max depth of 18\n",
      "                     0            1  accuracy    macro avg  weighted avg\n",
      "precision     0.986964     0.986301  0.986792     0.986633      0.986788\n",
      "recall        0.995157     0.963671  0.986792     0.979414      0.986792\n",
      "f1-score      0.991044     0.974855  0.986792     0.982949      0.986743\n",
      "support    2891.000000  1046.000000  0.986792  3937.000000   3937.000000\n",
      "\n",
      "Tree with max depth of 19\n",
      "                     0            1  accuracy    macro avg  weighted avg\n",
      "precision     0.990041     0.992195  0.990602     0.991118      0.990613\n",
      "recall        0.997233     0.972275  0.990602     0.984754      0.990602\n",
      "f1-score      0.993624     0.982134  0.990602     0.987879      0.990571\n",
      "support    2891.000000  1046.000000  0.990602  3937.000000   3937.000000\n",
      "\n",
      "Tree with max depth of 20\n",
      "                     0            1  accuracy    macro avg  weighted avg\n",
      "precision     0.994826     0.993256  0.994412     0.994041      0.994409\n",
      "recall        0.997579     0.985660  0.994412     0.991619      0.994412\n",
      "f1-score      0.996200     0.989443  0.994412     0.992822      0.994405\n",
      "support    2891.000000  1046.000000  0.994412  3937.000000   3937.000000\n",
      "\n"
     ]
    }
   ],
   "source": [
    "for i in range(1, 21):\n",
    "    # Make the model\n",
    "    tree = DecisionTreeClassifier(max_depth=i)\n",
    "\n",
    "    # Fit the model (on train and only train)\n",
    "    tree = tree.fit(X_train, y_train)\n",
    "\n",
    "    # Use the model\n",
    "    # We'll evaluate the model's performance on train, first\n",
    "    y_predictions = tree.predict(X_train)\n",
    "\n",
    "    # Produce the classification report on the actual y values and this model's predicted y values\n",
    "    report = metrics.classification_report(y_train, y_predictions, output_dict=True)\n",
    "    print(f\"Tree with max depth of {i}\")\n",
    "    print(pd.DataFrame(report))\n",
    "    print()"
   ]
  },
  {
   "cell_type": "markdown",
   "id": "c125d8a9",
   "metadata": {},
   "source": [
    "**max_depth = 19+ is giving us the best accuracy**"
   ]
  },
  {
   "cell_type": "code",
   "execution_count": 70,
   "id": "c1f7bbd0",
   "metadata": {},
   "outputs": [],
   "source": [
    "drop_columns = list(telco_validate.select_dtypes(include='object').columns)\n",
    "\n",
    "telco_validate.drop(columns=drop_columns, inplace=True)"
   ]
  },
  {
   "cell_type": "code",
   "execution_count": 71,
   "id": "12df2489",
   "metadata": {},
   "outputs": [],
   "source": [
    "X_validate = telco_validate.drop(columns=['churn_Yes'])\n",
    "y_validate = telco_validate.churn_Yes"
   ]
  },
  {
   "cell_type": "code",
   "execution_count": 72,
   "id": "38698f3c",
   "metadata": {},
   "outputs": [],
   "source": [
    "val_pred = telco_tree.predict(X_validate)"
   ]
  },
  {
   "cell_type": "code",
   "execution_count": 80,
   "id": "aa0f487a",
   "metadata": {},
   "outputs": [
    {
     "data": {
      "text/plain": [
       "0.7322274881516587"
      ]
     },
     "execution_count": 80,
     "metadata": {},
     "output_type": "execute_result"
    }
   ],
   "source": [
    "#model accuracy score\n",
    "telco_tree.score(X_validate, y_validate)"
   ]
  },
  {
   "cell_type": "code",
   "execution_count": 74,
   "id": "090302d3",
   "metadata": {
    "scrolled": false
   },
   "outputs": [
    {
     "data": {
      "text/plain": [
       "array([[1008,  231],\n",
       "       [ 221,  228]])"
      ]
     },
     "execution_count": 74,
     "metadata": {},
     "output_type": "execute_result"
    }
   ],
   "source": [
    "#confusion matrix\n",
    "metrics.confusion_matrix(y_validate, val_pred)"
   ]
  },
  {
   "cell_type": "code",
   "execution_count": 75,
   "id": "dcba442e",
   "metadata": {},
   "outputs": [
    {
     "name": "stdout",
     "output_type": "stream",
     "text": [
      "              precision    recall  f1-score   support\n",
      "\n",
      "           0       0.82      0.81      0.82      1239\n",
      "           1       0.50      0.51      0.50       449\n",
      "\n",
      "    accuracy                           0.73      1688\n",
      "   macro avg       0.66      0.66      0.66      1688\n",
      "weighted avg       0.73      0.73      0.73      1688\n",
      "\n"
     ]
    }
   ],
   "source": [
    "print(metrics.classification_report(y_validate, val_pred))"
   ]
  },
  {
   "cell_type": "code",
   "execution_count": 76,
   "id": "f68363bb",
   "metadata": {},
   "outputs": [
    {
     "data": {
      "text/html": [
       "<div>\n",
       "<style scoped>\n",
       "    .dataframe tbody tr th:only-of-type {\n",
       "        vertical-align: middle;\n",
       "    }\n",
       "\n",
       "    .dataframe tbody tr th {\n",
       "        vertical-align: top;\n",
       "    }\n",
       "\n",
       "    .dataframe thead th {\n",
       "        text-align: right;\n",
       "    }\n",
       "</style>\n",
       "<table border=\"1\" class=\"dataframe\">\n",
       "  <thead>\n",
       "    <tr style=\"text-align: right;\">\n",
       "      <th></th>\n",
       "      <th>max_depth</th>\n",
       "      <th>train_accuracy</th>\n",
       "      <th>validate_accuracy</th>\n",
       "      <th>difference</th>\n",
       "    </tr>\n",
       "  </thead>\n",
       "  <tbody>\n",
       "    <tr>\n",
       "      <th>0</th>\n",
       "      <td>1</td>\n",
       "      <td>0.734315</td>\n",
       "      <td>0.734005</td>\n",
       "      <td>0.000311</td>\n",
       "    </tr>\n",
       "    <tr>\n",
       "      <th>1</th>\n",
       "      <td>2</td>\n",
       "      <td>0.781306</td>\n",
       "      <td>0.795024</td>\n",
       "      <td>-0.013718</td>\n",
       "    </tr>\n",
       "    <tr>\n",
       "      <th>2</th>\n",
       "      <td>3</td>\n",
       "      <td>0.781306</td>\n",
       "      <td>0.795024</td>\n",
       "      <td>-0.013718</td>\n",
       "    </tr>\n",
       "    <tr>\n",
       "      <th>3</th>\n",
       "      <td>4</td>\n",
       "      <td>0.784862</td>\n",
       "      <td>0.799763</td>\n",
       "      <td>-0.014901</td>\n",
       "    </tr>\n",
       "    <tr>\n",
       "      <th>4</th>\n",
       "      <td>5</td>\n",
       "      <td>0.792990</td>\n",
       "      <td>0.808057</td>\n",
       "      <td>-0.015067</td>\n",
       "    </tr>\n",
       "    <tr>\n",
       "      <th>5</th>\n",
       "      <td>6</td>\n",
       "      <td>0.805944</td>\n",
       "      <td>0.802133</td>\n",
       "      <td>0.003811</td>\n",
       "    </tr>\n",
       "    <tr>\n",
       "      <th>6</th>\n",
       "      <td>7</td>\n",
       "      <td>0.823470</td>\n",
       "      <td>0.789692</td>\n",
       "      <td>0.033778</td>\n",
       "    </tr>\n",
       "    <tr>\n",
       "      <th>7</th>\n",
       "      <td>8</td>\n",
       "      <td>0.841250</td>\n",
       "      <td>0.783175</td>\n",
       "      <td>0.058074</td>\n",
       "    </tr>\n",
       "    <tr>\n",
       "      <th>8</th>\n",
       "      <td>9</td>\n",
       "      <td>0.856998</td>\n",
       "      <td>0.785545</td>\n",
       "      <td>0.071453</td>\n",
       "    </tr>\n",
       "    <tr>\n",
       "      <th>9</th>\n",
       "      <td>10</td>\n",
       "      <td>0.882652</td>\n",
       "      <td>0.762441</td>\n",
       "      <td>0.120211</td>\n",
       "    </tr>\n",
       "    <tr>\n",
       "      <th>10</th>\n",
       "      <td>11</td>\n",
       "      <td>0.904496</td>\n",
       "      <td>0.747630</td>\n",
       "      <td>0.156865</td>\n",
       "    </tr>\n",
       "    <tr>\n",
       "      <th>11</th>\n",
       "      <td>12</td>\n",
       "      <td>0.923038</td>\n",
       "      <td>0.738744</td>\n",
       "      <td>0.184294</td>\n",
       "    </tr>\n",
       "    <tr>\n",
       "      <th>12</th>\n",
       "      <td>13</td>\n",
       "      <td>0.934468</td>\n",
       "      <td>0.739929</td>\n",
       "      <td>0.194539</td>\n",
       "    </tr>\n",
       "    <tr>\n",
       "      <th>13</th>\n",
       "      <td>14</td>\n",
       "      <td>0.947930</td>\n",
       "      <td>0.729858</td>\n",
       "      <td>0.218072</td>\n",
       "    </tr>\n",
       "    <tr>\n",
       "      <th>14</th>\n",
       "      <td>15</td>\n",
       "      <td>0.958852</td>\n",
       "      <td>0.734597</td>\n",
       "      <td>0.224255</td>\n",
       "    </tr>\n",
       "    <tr>\n",
       "      <th>15</th>\n",
       "      <td>16</td>\n",
       "      <td>0.971044</td>\n",
       "      <td>0.734005</td>\n",
       "      <td>0.237039</td>\n",
       "    </tr>\n",
       "    <tr>\n",
       "      <th>16</th>\n",
       "      <td>17</td>\n",
       "      <td>0.978156</td>\n",
       "      <td>0.731635</td>\n",
       "      <td>0.246521</td>\n",
       "    </tr>\n",
       "    <tr>\n",
       "      <th>17</th>\n",
       "      <td>18</td>\n",
       "      <td>0.986792</td>\n",
       "      <td>0.736967</td>\n",
       "      <td>0.249825</td>\n",
       "    </tr>\n",
       "    <tr>\n",
       "      <th>18</th>\n",
       "      <td>19</td>\n",
       "      <td>0.991110</td>\n",
       "      <td>0.731635</td>\n",
       "      <td>0.259475</td>\n",
       "    </tr>\n",
       "    <tr>\n",
       "      <th>19</th>\n",
       "      <td>20</td>\n",
       "      <td>0.994666</td>\n",
       "      <td>0.727488</td>\n",
       "      <td>0.267178</td>\n",
       "    </tr>\n",
       "    <tr>\n",
       "      <th>20</th>\n",
       "      <td>21</td>\n",
       "      <td>0.996698</td>\n",
       "      <td>0.731635</td>\n",
       "      <td>0.265063</td>\n",
       "    </tr>\n",
       "    <tr>\n",
       "      <th>21</th>\n",
       "      <td>22</td>\n",
       "      <td>0.997714</td>\n",
       "      <td>0.728673</td>\n",
       "      <td>0.269041</td>\n",
       "    </tr>\n",
       "    <tr>\n",
       "      <th>22</th>\n",
       "      <td>23</td>\n",
       "      <td>0.998222</td>\n",
       "      <td>0.725118</td>\n",
       "      <td>0.273104</td>\n",
       "    </tr>\n",
       "    <tr>\n",
       "      <th>23</th>\n",
       "      <td>24</td>\n",
       "      <td>0.998222</td>\n",
       "      <td>0.726896</td>\n",
       "      <td>0.271326</td>\n",
       "    </tr>\n",
       "  </tbody>\n",
       "</table>\n",
       "</div>"
      ],
      "text/plain": [
       "    max_depth  train_accuracy  validate_accuracy  difference\n",
       "0           1        0.734315           0.734005    0.000311\n",
       "1           2        0.781306           0.795024   -0.013718\n",
       "2           3        0.781306           0.795024   -0.013718\n",
       "3           4        0.784862           0.799763   -0.014901\n",
       "4           5        0.792990           0.808057   -0.015067\n",
       "5           6        0.805944           0.802133    0.003811\n",
       "6           7        0.823470           0.789692    0.033778\n",
       "7           8        0.841250           0.783175    0.058074\n",
       "8           9        0.856998           0.785545    0.071453\n",
       "9          10        0.882652           0.762441    0.120211\n",
       "10         11        0.904496           0.747630    0.156865\n",
       "11         12        0.923038           0.738744    0.184294\n",
       "12         13        0.934468           0.739929    0.194539\n",
       "13         14        0.947930           0.729858    0.218072\n",
       "14         15        0.958852           0.734597    0.224255\n",
       "15         16        0.971044           0.734005    0.237039\n",
       "16         17        0.978156           0.731635    0.246521\n",
       "17         18        0.986792           0.736967    0.249825\n",
       "18         19        0.991110           0.731635    0.259475\n",
       "19         20        0.994666           0.727488    0.267178\n",
       "20         21        0.996698           0.731635    0.265063\n",
       "21         22        0.997714           0.728673    0.269041\n",
       "22         23        0.998222           0.725118    0.273104\n",
       "23         24        0.998222           0.726896    0.271326"
      ]
     },
     "execution_count": 76,
     "metadata": {},
     "output_type": "execute_result"
    }
   ],
   "source": [
    "# Let's continue getting loopy, so we can compare in-sample to out-of-sample\n",
    "metric = []\n",
    "\n",
    "for i in range(1, 25):\n",
    "    # Make the model\n",
    "    tree = DecisionTreeClassifier(max_depth=i, random_state=123)\n",
    "\n",
    "    # Fit the model (on train and only train)\n",
    "    tree = tree.fit(X_train, y_train)\n",
    "\n",
    "    # Use the model\n",
    "    # We'll evaluate the model's performance on train, first\n",
    "    in_sample_accuracy = tree.score(X_train, y_train)\n",
    "    \n",
    "    out_of_sample_accuracy = tree.score(X_validate, y_validate)\n",
    "\n",
    "    output = {\n",
    "        \"max_depth\": i,\n",
    "        \"train_accuracy\": in_sample_accuracy,\n",
    "        \"validate_accuracy\": out_of_sample_accuracy\n",
    "    }\n",
    "    \n",
    "    metric.append(output)\n",
    "    \n",
    "df = pd.DataFrame(metric)\n",
    "df[\"difference\"] = df.train_accuracy - df.validate_accuracy\n",
    "df"
   ]
  },
  {
   "cell_type": "code",
   "execution_count": 79,
   "id": "2471c0bb",
   "metadata": {
    "scrolled": true
   },
   "outputs": [
    {
     "data": {
      "image/png": "[encoded data removed]",
      "text/plain": [
       "<Figure size 864x432 with 1 Axes>"
      ]
     },
     "metadata": {
      "needs_background": "light"
     },
     "output_type": "display_data"
    }
   ],
   "source": [
    "plt.figure(figsize=(12, 6))\n",
    "plt.plot(df.max_depth, df.train_accuracy, marker = 'o', label = 'Train')\n",
    "plt.plot(df.max_depth, df.validate_accuracy, marker = 'o', label = 'Validate')\n",
    "plt.title('TELCO Best fit???')\n",
    "plt.xlabel('Max Depth')\n",
    "plt.ylabel('Accuracy')\n",
    "plt.legend()\n",
    "plt.show()"
   ]
  },
  {
   "cell_type": "code",
   "execution_count": 78,
   "id": "8c83b8ba",
   "metadata": {
    "scrolled": false
   },
   "outputs": [
    {
     "data": {
      "text/html": [
       "<div>\n",
       "<style scoped>\n",
       "    .dataframe tbody tr th:only-of-type {\n",
       "        vertical-align: middle;\n",
       "    }\n",
       "\n",
       "    .dataframe tbody tr th {\n",
       "        vertical-align: top;\n",
       "    }\n",
       "\n",
       "    .dataframe thead th {\n",
       "        text-align: right;\n",
       "    }\n",
       "</style>\n",
       "<table border=\"1\" class=\"dataframe\">\n",
       "  <thead>\n",
       "    <tr style=\"text-align: right;\">\n",
       "      <th></th>\n",
       "      <th>max_depth</th>\n",
       "      <th>train_accuracy</th>\n",
       "      <th>validate_accuracy</th>\n",
       "      <th>difference</th>\n",
       "    </tr>\n",
       "  </thead>\n",
       "  <tbody>\n",
       "    <tr>\n",
       "      <th>4</th>\n",
       "      <td>5</td>\n",
       "      <td>0.792990</td>\n",
       "      <td>0.808057</td>\n",
       "      <td>-0.015067</td>\n",
       "    </tr>\n",
       "    <tr>\n",
       "      <th>5</th>\n",
       "      <td>6</td>\n",
       "      <td>0.805944</td>\n",
       "      <td>0.802133</td>\n",
       "      <td>0.003811</td>\n",
       "    </tr>\n",
       "    <tr>\n",
       "      <th>3</th>\n",
       "      <td>4</td>\n",
       "      <td>0.784862</td>\n",
       "      <td>0.799763</td>\n",
       "      <td>-0.014901</td>\n",
       "    </tr>\n",
       "    <tr>\n",
       "      <th>1</th>\n",
       "      <td>2</td>\n",
       "      <td>0.781306</td>\n",
       "      <td>0.795024</td>\n",
       "      <td>-0.013718</td>\n",
       "    </tr>\n",
       "    <tr>\n",
       "      <th>2</th>\n",
       "      <td>3</td>\n",
       "      <td>0.781306</td>\n",
       "      <td>0.795024</td>\n",
       "      <td>-0.013718</td>\n",
       "    </tr>\n",
       "    <tr>\n",
       "      <th>6</th>\n",
       "      <td>7</td>\n",
       "      <td>0.823470</td>\n",
       "      <td>0.789692</td>\n",
       "      <td>0.033778</td>\n",
       "    </tr>\n",
       "    <tr>\n",
       "      <th>8</th>\n",
       "      <td>9</td>\n",
       "      <td>0.856998</td>\n",
       "      <td>0.785545</td>\n",
       "      <td>0.071453</td>\n",
       "    </tr>\n",
       "    <tr>\n",
       "      <th>7</th>\n",
       "      <td>8</td>\n",
       "      <td>0.841250</td>\n",
       "      <td>0.783175</td>\n",
       "      <td>0.058074</td>\n",
       "    </tr>\n",
       "    <tr>\n",
       "      <th>0</th>\n",
       "      <td>1</td>\n",
       "      <td>0.734315</td>\n",
       "      <td>0.734005</td>\n",
       "      <td>0.000311</td>\n",
       "    </tr>\n",
       "  </tbody>\n",
       "</table>\n",
       "</div>"
      ],
      "text/plain": [
       "   max_depth  train_accuracy  validate_accuracy  difference\n",
       "4          5        0.792990           0.808057   -0.015067\n",
       "5          6        0.805944           0.802133    0.003811\n",
       "3          4        0.784862           0.799763   -0.014901\n",
       "1          2        0.781306           0.795024   -0.013718\n",
       "2          3        0.781306           0.795024   -0.013718\n",
       "6          7        0.823470           0.789692    0.033778\n",
       "8          9        0.856998           0.785545    0.071453\n",
       "7          8        0.841250           0.783175    0.058074\n",
       "0          1        0.734315           0.734005    0.000311"
      ]
     },
     "execution_count": 78,
     "metadata": {},
     "output_type": "execute_result"
    }
   ],
   "source": [
    "df[df.difference <= 0.10].sort_values(by=['validate_accuracy', 'difference'], ascending = [False,True])"
   ]
  },
  {
   "cell_type": "markdown",
   "id": "4e1c2e38",
   "metadata": {},
   "source": [
    "## Random Forest\n",
    "Fit the Random Forest classifier to your training sample and transform (i.e. make predictions on the training sample) setting the random_state accordingly and setting min_samples_leaf = 1 and max_depth = 10.\n",
    "\n",
    "Evaluate your results using the model score, confusion matrix, and classification report.\n",
    "\n",
    "Print and clearly label the following: Accuracy, true positive rate, false positive rate, true negative rate, false negative rate, precision, recall, f1-score, and support.\n",
    "\n",
    "Run through steps increasing your min_samples_leaf and decreasing your max_depth.\n",
    "\n",
    "What are the differences in the evaluation metrics? Which performs better on your in-sample data? Why?\n",
    "\n",
    "After making a few models, which one has the best performance (or closest metrics) on both train and validate?"
   ]
  },
  {
   "cell_type": "code",
   "execution_count": 1,
   "id": "5afd0e25",
   "metadata": {},
   "outputs": [],
   "source": [
    "import pandas as pd\n",
    "import numpy as np\n",
    "import matplotlib.pyplot as plt\n",
    "import seaborn as sns\n",
    "import scipy.stats as stats\n",
    "from sklearn.model_selection import train_test_split\n",
    "import sklearn.metrics as metrics\n",
    "from sklearn.tree import DecisionTreeClassifier, plot_tree\n",
    "from sklearn.ensemble import RandomForestClassifier\n",
    "\n",
    "import acquire\n",
    "import prepare\n",
    "\n",
    "# ignore warnings\n",
    "import warnings\n",
    "warnings.filterwarnings(\"ignore\")"
   ]
  },
  {
   "cell_type": "code",
   "execution_count": 29,
   "id": "ad6d213c",
   "metadata": {},
   "outputs": [
    {
     "data": {
      "text/plain": [
       "((667, 13), (134, 13), (90, 13))"
      ]
     },
     "execution_count": 29,
     "metadata": {},
     "output_type": "execute_result"
    }
   ],
   "source": [
    "titanic_train, titanic_validate, titanic_test = prepare.train_validate_test_split(prepare.prep_titanic(acquire.get_titanic_data()),'survived')\n",
    "                                                                                  \n",
    "titanic_train.shape, titanic_validate.shape, titanic_test.shape  "
   ]
  },
  {
   "cell_type": "code",
   "execution_count": 30,
   "id": "466413f8",
   "metadata": {},
   "outputs": [],
   "source": [
    "#functions can't take strings so i dropped all columns that are strings\n",
    "drop_columns = list(titanic_train.select_dtypes(include='object').columns) + ['survived']\n",
    "\n",
    "# create X & y version of train, where y is a series with just the target variable and X are all the features. \n",
    "\n",
    "X_train = titanic_train.drop(columns=drop_columns)\n",
    "y_train = titanic_train.survived\n",
    "\n",
    "X_validate = titanic_validate.drop(columns=drop_columns)\n",
    "y_validate = titanic_validate.survived\n",
    "\n"
   ]
  },
  {
   "cell_type": "code",
   "execution_count": 4,
   "id": "453c6726",
   "metadata": {},
   "outputs": [],
   "source": [
    "rf = RandomForestClassifier(max_depth=10, random_state=27, min_samples_leaf=1)"
   ]
  },
  {
   "cell_type": "code",
   "execution_count": 5,
   "id": "dc80d39a",
   "metadata": {},
   "outputs": [
    {
     "data": {
      "text/plain": [
       "RandomForestClassifier(max_depth=10, random_state=27)"
      ]
     },
     "execution_count": 5,
     "metadata": {},
     "output_type": "execute_result"
    }
   ],
   "source": [
    "rf.fit(X_train, y_train)"
   ]
  },
  {
   "cell_type": "code",
   "execution_count": 6,
   "id": "e9a36fa9",
   "metadata": {},
   "outputs": [
    {
     "data": {
      "text/plain": [
       "0.9235382308845578"
      ]
     },
     "execution_count": 6,
     "metadata": {},
     "output_type": "execute_result"
    }
   ],
   "source": [
    "rf.score(X_train, y_train)"
   ]
  },
  {
   "cell_type": "code",
   "execution_count": 7,
   "id": "388b19d5",
   "metadata": {},
   "outputs": [
    {
     "name": "stdout",
     "output_type": "stream",
     "text": [
      "[0.057947   0.06141855 0.41310505 0.02340069 0.29317608 0.0217894\n",
      " 0.07992241 0.01518992 0.03405091]\n"
     ]
    }
   ],
   "source": [
    "print(rf.feature_importances_)"
   ]
  },
  {
   "cell_type": "code",
   "execution_count": 8,
   "id": "b071407d",
   "metadata": {},
   "outputs": [
    {
     "data": {
      "image/png": "[encoded data removed]",
      "text/plain": [
       "<Figure size 432x288 with 1 Axes>"
      ]
     },
     "metadata": {
      "needs_background": "light"
     },
     "output_type": "display_data"
    }
   ],
   "source": [
    "plt.bar(X_train.columns, rf.feature_importances_)\n",
    "plt.show()"
   ]
  },
  {
   "cell_type": "code",
   "execution_count": 9,
   "id": "ec53626d",
   "metadata": {},
   "outputs": [],
   "source": [
    "y_pred = rf.predict(X_train)"
   ]
  },
  {
   "cell_type": "code",
   "execution_count": 10,
   "id": "d766319d",
   "metadata": {},
   "outputs": [
    {
     "name": "stdout",
     "output_type": "stream",
     "text": [
      "Accuracy of random forest classifier on training set: 0.92\n"
     ]
    }
   ],
   "source": [
    "print('Accuracy of random forest classifier on training set: {:.2f}'\n",
    "     .format(rf.score(X_train, y_train)))"
   ]
  },
  {
   "cell_type": "code",
   "execution_count": 11,
   "id": "118081cd",
   "metadata": {},
   "outputs": [
    {
     "name": "stdout",
     "output_type": "stream",
     "text": [
      "[[400  11]\n",
      " [ 40 216]]\n"
     ]
    }
   ],
   "source": [
    "cm = metrics.confusion_matrix(y_train, y_pred)\n",
    "print(cm)"
   ]
  },
  {
   "cell_type": "code",
   "execution_count": 12,
   "id": "9de2d826",
   "metadata": {
    "scrolled": false
   },
   "outputs": [
    {
     "name": "stdout",
     "output_type": "stream",
     "text": [
      "              precision    recall  f1-score   support\n",
      "\n",
      "           0       0.91      0.97      0.94       411\n",
      "           1       0.95      0.84      0.89       256\n",
      "\n",
      "    accuracy                           0.92       667\n",
      "   macro avg       0.93      0.91      0.92       667\n",
      "weighted avg       0.93      0.92      0.92       667\n",
      "\n"
     ]
    }
   ],
   "source": [
    "#classification report\n",
    "print(metrics.classification_report(y_train, y_pred))"
   ]
  },
  {
   "cell_type": "code",
   "execution_count": 13,
   "id": "2d8d9209",
   "metadata": {},
   "outputs": [],
   "source": [
    "TN, FP, FN, TP = metrics.confusion_matrix(y_train, y_pred).ravel()"
   ]
  },
  {
   "cell_type": "code",
   "execution_count": 14,
   "id": "07c12a8b",
   "metadata": {},
   "outputs": [
    {
     "name": "stdout",
     "output_type": "stream",
     "text": [
      "Accuracy: 0.9235382308845578 \n",
      "\n",
      "True Positive Rate/Sensitivity/Recall/Power: 0.84375 \n",
      "\n",
      "False Positive Rate/False Alarm Ratio/Fall-out: 0.0267639902676399 \n",
      "\n",
      "True Negative Rate/Specificity/Selectivity: 0.9732360097323601 \n",
      "\n",
      "False Negative Rate/Miss Rate: 0.15625 \n",
      "\n",
      "Precision/PPV: 0.9515418502202643 \n",
      "\n",
      "F1 Score: 0.8944099378881988 \n",
      "\n",
      "Support (0): 411 \n",
      "\n",
      "Support (1): 256\n"
     ]
    }
   ],
   "source": [
    "ALL = TP + FP + FN + TN\n",
    "\n",
    "accuracy = (TP + TN)/ALL\n",
    "true_positive_rate = sensitivity = recall = power = TP/(TP+FN)\n",
    "false_positive_rate = false_alarm_ratio = fallout = FP/(FP+TN)\n",
    "true_negative_rate = specificity = selectivity = TN/(TN+FP)\n",
    "false_negative_rate = miss_rate = FN/(FN+TP)\n",
    "precision = PPV = TP/(TP+FP)\n",
    "f1_score = 2*(precision*recall)/(precision+recall)\n",
    "support_pos = TP + FN\n",
    "support_neg = FP + TN\n",
    "\n",
    "print(f\"Accuracy: {accuracy}\", '\\n')\n",
    "print(f\"True Positive Rate/Sensitivity/Recall/Power: {true_positive_rate}\", '\\n')\n",
    "print(f\"False Positive Rate/False Alarm Ratio/Fall-out: {false_positive_rate}\", '\\n')\n",
    "print(f\"True Negative Rate/Specificity/Selectivity: {true_negative_rate}\", '\\n')\n",
    "print(f\"False Negative Rate/Miss Rate: {false_negative_rate}\", '\\n')\n",
    "print(f\"Precision/PPV: {precision}\", '\\n')\n",
    "print(f\"F1 Score: {f1_score}\", '\\n')\n",
    "print(f\"Support (0): {support_neg}\", '\\n')\n",
    "print(f\"Support (1): {support_pos}\")"
   ]
  },
  {
   "cell_type": "code",
   "execution_count": 15,
   "id": "7a789971",
   "metadata": {},
   "outputs": [
    {
     "name": "stdout",
     "output_type": "stream",
     "text": [
      "Tree with max depth of 20 and min_samples_leaf 1\n",
      "                    0           1  accuracy   macro avg  weighted avg\n",
      "precision    0.942308    0.924303  0.935532    0.933305      0.935397\n",
      "recall       0.953771    0.906250  0.935532    0.930011      0.935532\n",
      "f1-score     0.948005    0.915187  0.935532    0.931596      0.935409\n",
      "support    411.000000  256.000000  0.935532  667.000000    667.000000 \n",
      "\n",
      "Tree with max depth of 19 and min_samples_leaf 2\n",
      "                    0           1  accuracy   macro avg  weighted avg\n",
      "precision    0.888372    0.877637  0.884558    0.883005      0.884252\n",
      "recall       0.929440    0.812500  0.884558    0.870970      0.884558\n",
      "f1-score     0.908442    0.843813  0.884558    0.876128      0.883637\n",
      "support    411.000000  256.000000  0.884558  667.000000    667.000000 \n",
      "\n",
      "Tree with max depth of 18 and min_samples_leaf 3\n",
      "                    0           1  accuracy   macro avg  weighted avg\n",
      "precision    0.865169    0.882883  0.871064    0.874026      0.871967\n",
      "recall       0.936740    0.765625  0.871064    0.851182      0.871064\n",
      "f1-score     0.899533    0.820084  0.871064    0.859808      0.869040\n",
      "support    411.000000  256.000000  0.871064  667.000000    667.000000 \n",
      "\n",
      "Tree with max depth of 17 and min_samples_leaf 4\n",
      "                    0           1  accuracy   macro avg  weighted avg\n",
      "precision    0.855856    0.860987  0.857571    0.858421      0.857825\n",
      "recall       0.924574    0.750000  0.857571    0.837287      0.857571\n",
      "f1-score     0.888889    0.801670  0.857571    0.845280      0.855414\n",
      "support    411.000000  256.000000  0.857571  667.000000    667.000000 \n",
      "\n",
      "Tree with max depth of 16 and min_samples_leaf 5\n",
      "                    0           1  accuracy   macro avg  weighted avg\n",
      "precision    0.853604    0.856502  0.854573    0.855053      0.854716\n",
      "recall       0.922141    0.746094  0.854573    0.834117      0.854573\n",
      "f1-score     0.886550    0.797495  0.854573    0.842022      0.852370\n",
      "support    411.000000  256.000000  0.854573  667.000000    667.000000 \n",
      "\n",
      "Tree with max depth of 15 and min_samples_leaf 6\n",
      "                    0           1  accuracy   macro avg  weighted avg\n",
      "precision    0.829741    0.871921  0.842579    0.850831      0.845930\n",
      "recall       0.936740    0.691406  0.842579    0.814073      0.842579\n",
      "f1-score     0.880000    0.771242  0.842579    0.825621      0.838258\n",
      "support    411.000000  256.000000  0.842579  667.000000    667.000000 \n",
      "\n",
      "Tree with max depth of 14 and min_samples_leaf 7\n",
      "                    0           1  accuracy   macro avg  weighted avg\n",
      "precision    0.827957    0.871287  0.841079    0.849622      0.844587\n",
      "recall       0.936740    0.687500  0.841079    0.812120      0.841079\n",
      "f1-score     0.878995    0.768559  0.841079    0.823777      0.836609\n",
      "support    411.000000  256.000000  0.841079  667.000000    667.000000 \n",
      "\n",
      "Tree with max depth of 13 and min_samples_leaf 8\n",
      "                    0           1  accuracy   macro avg  weighted avg\n",
      "precision    0.811715    0.878307  0.830585    0.845011      0.837274\n",
      "recall       0.944039    0.648438  0.830585    0.796238      0.830585\n",
      "f1-score     0.872891    0.746067  0.830585    0.809479      0.824215\n",
      "support    411.000000  256.000000  0.830585  667.000000    667.000000 \n",
      "\n",
      "Tree with max depth of 12 and min_samples_leaf 9\n",
      "                    0           1  accuracy   macro avg  weighted avg\n",
      "precision    0.816415    0.838235  0.823088    0.827325      0.824790\n",
      "recall       0.919708    0.667969  0.823088    0.793838      0.823088\n",
      "f1-score     0.864989    0.743478  0.823088    0.804233      0.818352\n",
      "support    411.000000  256.000000  0.823088  667.000000    667.000000 \n",
      "\n",
      "Tree with max depth of 11 and min_samples_leaf 10\n",
      "                    0           1  accuracy   macro avg  weighted avg\n",
      "precision    0.823529    0.841346  0.829085    0.832438      0.830368\n",
      "recall       0.919708    0.683594  0.829085    0.801651      0.829085\n",
      "f1-score     0.868966    0.754310  0.829085    0.811638      0.824960\n",
      "support    411.000000  256.000000  0.829085  667.000000    667.000000 \n",
      "\n",
      "Tree with max depth of 10 and min_samples_leaf 11\n",
      "                    0           1  accuracy   macro avg  weighted avg\n",
      "precision    0.815217    0.826087  0.818591    0.820652      0.819389\n",
      "recall       0.912409    0.667969  0.818591    0.790189      0.818591\n",
      "f1-score     0.861079    0.738661  0.818591    0.799870      0.814094\n",
      "support    411.000000  256.000000  0.818591  667.000000    667.000000 \n",
      "\n",
      "Tree with max depth of 9 and min_samples_leaf 12\n",
      "                    0           1  accuracy   macro avg  weighted avg\n",
      "precision    0.810638    0.847716  0.821589    0.829177      0.824869\n",
      "recall       0.927007    0.652344  0.821589    0.789676      0.821589\n",
      "f1-score     0.864926    0.737307  0.821589    0.801117      0.815945\n",
      "support    411.000000  256.000000  0.821589  667.000000    667.000000 \n",
      "\n",
      "Tree with max depth of 8 and min_samples_leaf 13\n",
      "                    0           1  accuracy   macro avg  weighted avg\n",
      "precision    0.819780    0.820755   0.82009    0.820267      0.820154\n",
      "recall       0.907543    0.679688   0.82009    0.793615      0.820090\n",
      "f1-score     0.861432    0.743590   0.82009    0.802511      0.816203\n",
      "support    411.000000  256.000000   0.82009  667.000000    667.000000 \n",
      "\n",
      "Tree with max depth of 7 and min_samples_leaf 14\n",
      "                    0           1  accuracy   macro avg  weighted avg\n",
      "precision    0.801688    0.839378  0.812594    0.820533      0.816154\n",
      "recall       0.924574    0.632812  0.812594    0.778693      0.812594\n",
      "f1-score     0.858757    0.721604  0.812594    0.790180      0.806116\n",
      "support    411.000000  256.000000  0.812594  667.000000    667.000000 \n",
      "\n",
      "Tree with max depth of 6 and min_samples_leaf 15\n",
      "                    0           1  accuracy   macro avg  weighted avg\n",
      "precision    0.820399    0.810185  0.817091    0.815292      0.816479\n",
      "recall       0.900243    0.683594  0.817091    0.791919      0.817091\n",
      "f1-score     0.858469    0.741525  0.817091    0.799997      0.813585\n",
      "support    411.000000  256.000000  0.817091  667.000000    667.000000 \n",
      "\n",
      "Tree with max depth of 5 and min_samples_leaf 16\n",
      "                    0           1  accuracy   macro avg  weighted avg\n",
      "precision    0.800416    0.860215  0.817091    0.830315      0.823367\n",
      "recall       0.936740    0.625000  0.817091    0.780870      0.817091\n",
      "f1-score     0.863229    0.723982  0.817091    0.793605      0.809785\n",
      "support    411.000000  256.000000  0.817091  667.000000    667.000000 \n",
      "\n",
      "Tree with max depth of 4 and min_samples_leaf 17\n",
      "                    0           1  accuracy   macro avg  weighted avg\n",
      "precision    0.798701    0.795122  0.797601    0.796912      0.797328\n",
      "recall       0.897810    0.636719  0.797601    0.767264      0.797601\n",
      "f1-score     0.845361    0.707158  0.797601    0.776260      0.792318\n",
      "support    411.000000  256.000000  0.797601  667.000000    667.000000 \n",
      "\n",
      "Tree with max depth of 3 and min_samples_leaf 18\n",
      "                    0           1  accuracy   macro avg  weighted avg\n",
      "precision    0.779798    0.854651    0.7991    0.817225      0.808527\n",
      "recall       0.939173    0.574219    0.7991    0.756696      0.799100\n",
      "f1-score     0.852097    0.686916    0.7991    0.769507      0.788699\n",
      "support    411.000000  256.000000    0.7991  667.000000    667.000000 \n",
      "\n",
      "Tree with max depth of 2 and min_samples_leaf 19\n",
      "                    0           1  accuracy   macro avg  weighted avg\n",
      "precision    0.763672    0.870968  0.788606    0.817320      0.804853\n",
      "recall       0.951338    0.527344  0.788606    0.739341      0.788606\n",
      "f1-score     0.847237    0.656934  0.788606    0.752086      0.774197\n",
      "support    411.000000  256.000000  0.788606  667.000000    667.000000 \n",
      "\n",
      "Tree with max depth of 1 and min_samples_leaf 20\n",
      "                    0           1  accuracy   macro avg  weighted avg\n",
      "precision    0.702936    0.954545  0.736132    0.828741      0.799506\n",
      "recall       0.990268    0.328125  0.736132    0.659196      0.736132\n",
      "f1-score     0.822222    0.488372  0.736132    0.655297      0.694088\n",
      "support    411.000000  256.000000  0.736132  667.000000    667.000000 \n",
      "\n"
     ]
    }
   ],
   "source": [
    "p=20\n",
    "for i in range(1,21):\n",
    "    # Make the model\n",
    "    tree = RandomForestClassifier(max_depth=p, min_samples_leaf=i)\n",
    "\n",
    "    # Fit the model (on train and only train)\n",
    "    tree = tree.fit(X_train, y_train)\n",
    "\n",
    "    # Use the model\n",
    "    # We'll evaluate the model's performance on train, first\n",
    "    y_predictions = tree.predict(X_train)\n",
    "\n",
    "    # Produce the classification report on the actual y values and this model's predicted y values\n",
    "    report = metrics.classification_report(y_train, y_predictions, output_dict=True)\n",
    "    print(f\"Tree with max depth of {p} and min_samples_leaf {i}\")\n",
    "    print(pd.DataFrame(report),'\\n')\n",
    "    p-=1"
   ]
  },
  {
   "cell_type": "markdown",
   "id": "d5d22814",
   "metadata": {},
   "source": [
    "**Looks like max_depth=20 and min_samples_leaf=1 is the best**"
   ]
  },
  {
   "cell_type": "code",
   "execution_count": 24,
   "id": "ec76b533",
   "metadata": {},
   "outputs": [
    {
     "data": {
      "text/html": [
       "<div>\n",
       "<style scoped>\n",
       "    .dataframe tbody tr th:only-of-type {\n",
       "        vertical-align: middle;\n",
       "    }\n",
       "\n",
       "    .dataframe tbody tr th {\n",
       "        vertical-align: top;\n",
       "    }\n",
       "\n",
       "    .dataframe thead th {\n",
       "        text-align: right;\n",
       "    }\n",
       "</style>\n",
       "<table border=\"1\" class=\"dataframe\">\n",
       "  <thead>\n",
       "    <tr style=\"text-align: right;\">\n",
       "      <th></th>\n",
       "      <th>max_depth</th>\n",
       "      <th>min_samples_leaf</th>\n",
       "      <th>train_accuracy</th>\n",
       "    </tr>\n",
       "  </thead>\n",
       "  <tbody>\n",
       "    <tr>\n",
       "      <th>0</th>\n",
       "      <td>5</td>\n",
       "      <td>11</td>\n",
       "      <td>0.820090</td>\n",
       "    </tr>\n",
       "    <tr>\n",
       "      <th>1</th>\n",
       "      <td>5</td>\n",
       "      <td>10</td>\n",
       "      <td>0.823088</td>\n",
       "    </tr>\n",
       "    <tr>\n",
       "      <th>2</th>\n",
       "      <td>5</td>\n",
       "      <td>9</td>\n",
       "      <td>0.829085</td>\n",
       "    </tr>\n",
       "    <tr>\n",
       "      <th>3</th>\n",
       "      <td>5</td>\n",
       "      <td>8</td>\n",
       "      <td>0.827586</td>\n",
       "    </tr>\n",
       "    <tr>\n",
       "      <th>4</th>\n",
       "      <td>5</td>\n",
       "      <td>7</td>\n",
       "      <td>0.833583</td>\n",
       "    </tr>\n",
       "    <tr>\n",
       "      <th>5</th>\n",
       "      <td>5</td>\n",
       "      <td>6</td>\n",
       "      <td>0.835082</td>\n",
       "    </tr>\n",
       "    <tr>\n",
       "      <th>6</th>\n",
       "      <td>6</td>\n",
       "      <td>11</td>\n",
       "      <td>0.824588</td>\n",
       "    </tr>\n",
       "    <tr>\n",
       "      <th>7</th>\n",
       "      <td>6</td>\n",
       "      <td>10</td>\n",
       "      <td>0.826087</td>\n",
       "    </tr>\n",
       "    <tr>\n",
       "      <th>8</th>\n",
       "      <td>6</td>\n",
       "      <td>9</td>\n",
       "      <td>0.833583</td>\n",
       "    </tr>\n",
       "    <tr>\n",
       "      <th>9</th>\n",
       "      <td>6</td>\n",
       "      <td>8</td>\n",
       "      <td>0.838081</td>\n",
       "    </tr>\n",
       "    <tr>\n",
       "      <th>10</th>\n",
       "      <td>6</td>\n",
       "      <td>7</td>\n",
       "      <td>0.838081</td>\n",
       "    </tr>\n",
       "    <tr>\n",
       "      <th>11</th>\n",
       "      <td>6</td>\n",
       "      <td>6</td>\n",
       "      <td>0.844078</td>\n",
       "    </tr>\n",
       "    <tr>\n",
       "      <th>12</th>\n",
       "      <td>7</td>\n",
       "      <td>11</td>\n",
       "      <td>0.826087</td>\n",
       "    </tr>\n",
       "    <tr>\n",
       "      <th>13</th>\n",
       "      <td>7</td>\n",
       "      <td>10</td>\n",
       "      <td>0.824588</td>\n",
       "    </tr>\n",
       "    <tr>\n",
       "      <th>14</th>\n",
       "      <td>7</td>\n",
       "      <td>9</td>\n",
       "      <td>0.829085</td>\n",
       "    </tr>\n",
       "    <tr>\n",
       "      <th>15</th>\n",
       "      <td>7</td>\n",
       "      <td>8</td>\n",
       "      <td>0.838081</td>\n",
       "    </tr>\n",
       "    <tr>\n",
       "      <th>16</th>\n",
       "      <td>7</td>\n",
       "      <td>7</td>\n",
       "      <td>0.839580</td>\n",
       "    </tr>\n",
       "    <tr>\n",
       "      <th>17</th>\n",
       "      <td>7</td>\n",
       "      <td>6</td>\n",
       "      <td>0.845577</td>\n",
       "    </tr>\n",
       "    <tr>\n",
       "      <th>18</th>\n",
       "      <td>8</td>\n",
       "      <td>11</td>\n",
       "      <td>0.827586</td>\n",
       "    </tr>\n",
       "    <tr>\n",
       "      <th>19</th>\n",
       "      <td>8</td>\n",
       "      <td>10</td>\n",
       "      <td>0.821589</td>\n",
       "    </tr>\n",
       "    <tr>\n",
       "      <th>20</th>\n",
       "      <td>8</td>\n",
       "      <td>9</td>\n",
       "      <td>0.829085</td>\n",
       "    </tr>\n",
       "    <tr>\n",
       "      <th>21</th>\n",
       "      <td>8</td>\n",
       "      <td>8</td>\n",
       "      <td>0.844078</td>\n",
       "    </tr>\n",
       "    <tr>\n",
       "      <th>22</th>\n",
       "      <td>8</td>\n",
       "      <td>7</td>\n",
       "      <td>0.842579</td>\n",
       "    </tr>\n",
       "    <tr>\n",
       "      <th>23</th>\n",
       "      <td>8</td>\n",
       "      <td>6</td>\n",
       "      <td>0.842579</td>\n",
       "    </tr>\n",
       "    <tr>\n",
       "      <th>24</th>\n",
       "      <td>9</td>\n",
       "      <td>11</td>\n",
       "      <td>0.823088</td>\n",
       "    </tr>\n",
       "    <tr>\n",
       "      <th>25</th>\n",
       "      <td>9</td>\n",
       "      <td>10</td>\n",
       "      <td>0.824588</td>\n",
       "    </tr>\n",
       "    <tr>\n",
       "      <th>26</th>\n",
       "      <td>9</td>\n",
       "      <td>9</td>\n",
       "      <td>0.830585</td>\n",
       "    </tr>\n",
       "    <tr>\n",
       "      <th>27</th>\n",
       "      <td>9</td>\n",
       "      <td>8</td>\n",
       "      <td>0.838081</td>\n",
       "    </tr>\n",
       "    <tr>\n",
       "      <th>28</th>\n",
       "      <td>9</td>\n",
       "      <td>7</td>\n",
       "      <td>0.844078</td>\n",
       "    </tr>\n",
       "    <tr>\n",
       "      <th>29</th>\n",
       "      <td>9</td>\n",
       "      <td>6</td>\n",
       "      <td>0.850075</td>\n",
       "    </tr>\n",
       "    <tr>\n",
       "      <th>30</th>\n",
       "      <td>10</td>\n",
       "      <td>11</td>\n",
       "      <td>0.823088</td>\n",
       "    </tr>\n",
       "    <tr>\n",
       "      <th>31</th>\n",
       "      <td>10</td>\n",
       "      <td>10</td>\n",
       "      <td>0.826087</td>\n",
       "    </tr>\n",
       "    <tr>\n",
       "      <th>32</th>\n",
       "      <td>10</td>\n",
       "      <td>9</td>\n",
       "      <td>0.826087</td>\n",
       "    </tr>\n",
       "    <tr>\n",
       "      <th>33</th>\n",
       "      <td>10</td>\n",
       "      <td>8</td>\n",
       "      <td>0.841079</td>\n",
       "    </tr>\n",
       "    <tr>\n",
       "      <th>34</th>\n",
       "      <td>10</td>\n",
       "      <td>7</td>\n",
       "      <td>0.838081</td>\n",
       "    </tr>\n",
       "    <tr>\n",
       "      <th>35</th>\n",
       "      <td>10</td>\n",
       "      <td>6</td>\n",
       "      <td>0.851574</td>\n",
       "    </tr>\n",
       "  </tbody>\n",
       "</table>\n",
       "</div>"
      ],
      "text/plain": [
       "    max_depth  min_samples_leaf  train_accuracy\n",
       "0           5                11        0.820090\n",
       "1           5                10        0.823088\n",
       "2           5                 9        0.829085\n",
       "3           5                 8        0.827586\n",
       "4           5                 7        0.833583\n",
       "5           5                 6        0.835082\n",
       "6           6                11        0.824588\n",
       "7           6                10        0.826087\n",
       "8           6                 9        0.833583\n",
       "9           6                 8        0.838081\n",
       "10          6                 7        0.838081\n",
       "11          6                 6        0.844078\n",
       "12          7                11        0.826087\n",
       "13          7                10        0.824588\n",
       "14          7                 9        0.829085\n",
       "15          7                 8        0.838081\n",
       "16          7                 7        0.839580\n",
       "17          7                 6        0.845577\n",
       "18          8                11        0.827586\n",
       "19          8                10        0.821589\n",
       "20          8                 9        0.829085\n",
       "21          8                 8        0.844078\n",
       "22          8                 7        0.842579\n",
       "23          8                 6        0.842579\n",
       "24          9                11        0.823088\n",
       "25          9                10        0.824588\n",
       "26          9                 9        0.830585\n",
       "27          9                 8        0.838081\n",
       "28          9                 7        0.844078\n",
       "29          9                 6        0.850075\n",
       "30         10                11        0.823088\n",
       "31         10                10        0.826087\n",
       "32         10                 9        0.826087\n",
       "33         10                 8        0.841079\n",
       "34         10                 7        0.838081\n",
       "35         10                 6        0.851574"
      ]
     },
     "execution_count": 24,
     "metadata": {},
     "output_type": "execute_result"
    }
   ],
   "source": [
    "metric=[]\n",
    "for h in range(5,11):\n",
    "    for i in range(11, 5, -1):\n",
    "    # Make the model\n",
    "        random_forest = RandomForestClassifier(max_depth=h, min_samples_leaf = i , random_state=123)\n",
    "    # Fit the model (on train and only train)\n",
    "        random_forest.fit(X_train, y_train)\n",
    "         # Use the model\n",
    "    # We’ll evaluate the model’s performance on train, first\n",
    "        in_sample_accuracy = random_forest.score(X_train, y_train)\n",
    "        output = {\n",
    "        \"max_depth\": h,\n",
    "        'min_samples_leaf': i,\n",
    "        'train_accuracy': in_sample_accuracy,\n",
    "    }\n",
    "        metric.append(output)\n",
    "        df = pd.DataFrame(metrics)\n",
    "df"
   ]
  },
  {
   "cell_type": "code",
   "execution_count": 25,
   "id": "a47ea9d2",
   "metadata": {},
   "outputs": [
    {
     "data": {
      "text/html": [
       "<div>\n",
       "<style scoped>\n",
       "    .dataframe tbody tr th:only-of-type {\n",
       "        vertical-align: middle;\n",
       "    }\n",
       "\n",
       "    .dataframe tbody tr th {\n",
       "        vertical-align: top;\n",
       "    }\n",
       "\n",
       "    .dataframe thead th {\n",
       "        text-align: right;\n",
       "    }\n",
       "</style>\n",
       "<table border=\"1\" class=\"dataframe\">\n",
       "  <thead>\n",
       "    <tr style=\"text-align: right;\">\n",
       "      <th></th>\n",
       "      <th>max_depth</th>\n",
       "      <th>min_samples_leaf</th>\n",
       "      <th>train_accuracy</th>\n",
       "    </tr>\n",
       "  </thead>\n",
       "  <tbody>\n",
       "    <tr>\n",
       "      <th>35</th>\n",
       "      <td>10</td>\n",
       "      <td>6</td>\n",
       "      <td>0.851574</td>\n",
       "    </tr>\n",
       "  </tbody>\n",
       "</table>\n",
       "</div>"
      ],
      "text/plain": [
       "    max_depth  min_samples_leaf  train_accuracy\n",
       "35         10                 6        0.851574"
      ]
     },
     "execution_count": 25,
     "metadata": {},
     "output_type": "execute_result"
    }
   ],
   "source": [
    "df[df.train_accuracy.sort_values(ascending = False)==df.train_accuracy.max()]"
   ]
  },
  {
   "cell_type": "markdown",
   "id": "0846584e",
   "metadata": {},
   "source": [
    "## KNN"
   ]
  },
  {
   "cell_type": "markdown",
   "id": "10303bf6",
   "metadata": {},
   "source": [
    "Fit a K-Nearest Neighbors classifier to your training sample and transform (i.e. make predictions on the training sample)\n",
    "\n",
    "Evaluate your results using the model score, confusion matrix, and classification report."
   ]
  },
  {
   "cell_type": "code",
   "execution_count": 1,
   "id": "2b44111d",
   "metadata": {},
   "outputs": [],
   "source": [
    "import pandas as pd\n",
    "import numpy as np\n",
    "import matplotlib.pyplot as plt\n",
    "import seaborn as sns\n",
    "import scipy.stats as stats\n",
    "from sklearn.model_selection import train_test_split\n",
    "import sklearn.metrics as metrics\n",
    "from sklearn.tree import DecisionTreeClassifier, plot_tree\n",
    "from sklearn.ensemble import RandomForestClassifier\n",
    "\n",
    "import acquire\n",
    "import prepare\n",
    "\n",
    "# ignore warnings\n",
    "import warnings\n",
    "warnings.filterwarnings(\"ignore\")\n",
    "\n",
    "from sklearn.neighbors import KNeighborsClassifier"
   ]
  },
  {
   "cell_type": "code",
   "execution_count": 2,
   "id": "951bdc5e",
   "metadata": {},
   "outputs": [
    {
     "data": {
      "text/plain": [
       "((667, 13), (134, 13), (90, 13))"
      ]
     },
     "execution_count": 2,
     "metadata": {},
     "output_type": "execute_result"
    }
   ],
   "source": [
    "titanic_train, titanic_validate, titanic_test = prepare.train_validate_test_split(prepare.prep_titanic(acquire.get_titanic_data()),'survived')\n",
    "                                                                                  \n",
    "titanic_train.shape, titanic_validate.shape, titanic_test.shape  "
   ]
  },
  {
   "cell_type": "code",
   "execution_count": 3,
   "id": "1608c643",
   "metadata": {},
   "outputs": [],
   "source": [
    "#functions can't take strings so i dropped all columns that are strings\n",
    "drop_columns = list(titanic_train.select_dtypes(include='object').columns) + ['survived']\n",
    "\n",
    "# create X & y version of train, where y is a series with just the target variable and X are all the features. \n",
    "\n",
    "X_train = titanic_train.drop(columns=drop_columns)\n",
    "y_train = titanic_train.survived\n",
    "\n",
    "X_validate = titanic_validate.drop(columns=drop_columns)\n",
    "y_validate = titanic_validate.survived\n",
    "\n"
   ]
  },
  {
   "cell_type": "code",
   "execution_count": 4,
   "id": "76026cb8",
   "metadata": {},
   "outputs": [],
   "source": [
    "knn = KNeighborsClassifier(n_neighbors = 2)"
   ]
  },
  {
   "cell_type": "code",
   "execution_count": 5,
   "id": "6361d305",
   "metadata": {},
   "outputs": [
    {
     "data": {
      "text/plain": [
       "KNeighborsClassifier(n_neighbors=2)"
      ]
     },
     "execution_count": 5,
     "metadata": {},
     "output_type": "execute_result"
    }
   ],
   "source": [
    "knn.fit(X_train, y_train)"
   ]
  },
  {
   "cell_type": "code",
   "execution_count": 6,
   "id": "fa114fe2",
   "metadata": {},
   "outputs": [],
   "source": [
    "y_pred = knn.predict(X_train)"
   ]
  },
  {
   "cell_type": "code",
   "execution_count": 7,
   "id": "530676db",
   "metadata": {},
   "outputs": [
    {
     "name": "stdout",
     "output_type": "stream",
     "text": [
      "Accuracy of KNN classifier on training set: 0.84\n"
     ]
    }
   ],
   "source": [
    "#model score\n",
    "print('Accuracy of KNN classifier on training set: {:.2f}'\n",
    "     .format(knn.score(X_train, y_train)))"
   ]
  },
  {
   "cell_type": "code",
   "execution_count": 8,
   "id": "fe39051c",
   "metadata": {},
   "outputs": [
    {
     "name": "stdout",
     "output_type": "stream",
     "text": [
      "[[406   5]\n",
      " [100 156]]\n"
     ]
    }
   ],
   "source": [
    "#confusion matrix\n",
    "print(metrics.confusion_matrix(y_train, y_pred))"
   ]
  },
  {
   "cell_type": "markdown",
   "id": "bb972640",
   "metadata": {},
   "source": [
    "### Print and clearly label the following: Accuracy, true positive rate, false positive rate, true negative rate, false negative rate, precision, recall, f1-score, and support."
   ]
  },
  {
   "cell_type": "code",
   "execution_count": 9,
   "id": "61f53fff",
   "metadata": {},
   "outputs": [
    {
     "name": "stdout",
     "output_type": "stream",
     "text": [
      "Accuracy: 0.8425787106446777 \n",
      "\n",
      "True Positive Rate/Sensitivity/Recall/Power: 0.609375 \n",
      "\n",
      "False Positive Rate/False Alarm Ratio/Fall-out: 0.012165450121654502 \n",
      "\n",
      "True Negative Rate/Specificity/Selectivity: 0.9878345498783455 \n",
      "\n",
      "False Negative Rate/Miss Rate: 0.390625 \n",
      "\n",
      "Precision/PPV: 0.968944099378882 \n",
      "\n",
      "F1 Score: 0.7482014388489209 \n",
      "\n",
      "Support (0): 411 \n",
      "\n",
      "Support (1): 256\n"
     ]
    }
   ],
   "source": [
    "TN, FP, FN, TP = metrics.confusion_matrix(y_train, y_pred).ravel()\n",
    "\n",
    "ALL = TP + FP + FN + TN\n",
    "\n",
    "accuracy = (TP + TN)/ALL\n",
    "true_positive_rate = sensitivity = recall = power = TP/(TP+FN)\n",
    "false_positive_rate = false_alarm_ratio = fallout = FP/(FP+TN)\n",
    "true_negative_rate = specificity = selectivity = TN/(TN+FP)\n",
    "false_negative_rate = miss_rate = FN/(FN+TP)\n",
    "precision = PPV = TP/(TP+FP)\n",
    "f1_score = 2*(precision*recall)/(precision+recall)\n",
    "support_pos = TP + FN\n",
    "support_neg = FP + TN\n",
    "\n",
    "print(f\"Accuracy: {accuracy}\", '\\n')\n",
    "print(f\"True Positive Rate/Sensitivity/Recall/Power: {true_positive_rate}\", '\\n')\n",
    "print(f\"False Positive Rate/False Alarm Ratio/Fall-out: {false_positive_rate}\", '\\n')\n",
    "print(f\"True Negative Rate/Specificity/Selectivity: {true_negative_rate}\", '\\n')\n",
    "print(f\"False Negative Rate/Miss Rate: {false_negative_rate}\", '\\n')\n",
    "print(f\"Precision/PPV: {precision}\", '\\n')\n",
    "print(f\"F1 Score: {f1_score}\", '\\n')\n",
    "print(f\"Support (0): {support_neg}\", '\\n')\n",
    "print(f\"Support (1): {support_pos}\")"
   ]
  },
  {
   "cell_type": "markdown",
   "id": "1d8d7a48",
   "metadata": {},
   "source": [
    "### Set k = 10"
   ]
  },
  {
   "cell_type": "code",
   "execution_count": 10,
   "id": "3859cc7c",
   "metadata": {},
   "outputs": [],
   "source": [
    "knn = KNeighborsClassifier(n_neighbors = 10)"
   ]
  },
  {
   "cell_type": "code",
   "execution_count": 13,
   "id": "993e2d96",
   "metadata": {},
   "outputs": [
    {
     "data": {
      "text/plain": [
       "KNeighborsClassifier(n_neighbors=10)"
      ]
     },
     "execution_count": 13,
     "metadata": {},
     "output_type": "execute_result"
    }
   ],
   "source": [
    "knn.fit(X_train, y_train)"
   ]
  },
  {
   "cell_type": "code",
   "execution_count": 14,
   "id": "b84e81ab",
   "metadata": {},
   "outputs": [],
   "source": [
    "y_pred = knn.predict(X_train)"
   ]
  },
  {
   "cell_type": "code",
   "execution_count": 15,
   "id": "51e11870",
   "metadata": {},
   "outputs": [
    {
     "name": "stdout",
     "output_type": "stream",
     "text": [
      "Accuracy of KNN classifier on training set: 0.78\n"
     ]
    }
   ],
   "source": [
    "#model score\n",
    "print('Accuracy of KNN classifier on training set: {:.2f}'\n",
    "     .format(knn.score(X_train, y_train)))"
   ]
  },
  {
   "cell_type": "code",
   "execution_count": 16,
   "id": "709ffa29",
   "metadata": {},
   "outputs": [
    {
     "name": "stdout",
     "output_type": "stream",
     "text": [
      "[[369  42]\n",
      " [103 153]]\n"
     ]
    }
   ],
   "source": [
    "#confusion matrix\n",
    "print(metrics.confusion_matrix(y_train, y_pred))"
   ]
  },
  {
   "cell_type": "code",
   "execution_count": 17,
   "id": "8e988df6",
   "metadata": {},
   "outputs": [
    {
     "name": "stdout",
     "output_type": "stream",
     "text": [
      "Accuracy: 0.782608695652174 \n",
      "\n",
      "True Positive Rate/Sensitivity/Recall/Power: 0.59765625 \n",
      "\n",
      "False Positive Rate/False Alarm Ratio/Fall-out: 0.10218978102189781 \n",
      "\n",
      "True Negative Rate/Specificity/Selectivity: 0.8978102189781022 \n",
      "\n",
      "False Negative Rate/Miss Rate: 0.40234375 \n",
      "\n",
      "Precision/PPV: 0.7846153846153846 \n",
      "\n",
      "F1 Score: 0.6784922394678493 \n",
      "\n",
      "Support (0): 411 \n",
      "\n",
      "Support (1): 256\n"
     ]
    }
   ],
   "source": [
    "TN, FP, FN, TP = metrics.confusion_matrix(y_train, y_pred).ravel()\n",
    "\n",
    "ALL = TP + FP + FN + TN\n",
    "\n",
    "accuracy = (TP + TN)/ALL\n",
    "true_positive_rate = sensitivity = recall = power = TP/(TP+FN)\n",
    "false_positive_rate = false_alarm_ratio = fallout = FP/(FP+TN)\n",
    "true_negative_rate = specificity = selectivity = TN/(TN+FP)\n",
    "false_negative_rate = miss_rate = FN/(FN+TP)\n",
    "precision = PPV = TP/(TP+FP)\n",
    "f1_score = 2*(precision*recall)/(precision+recall)\n",
    "support_pos = TP + FN\n",
    "support_neg = FP + TN\n",
    "\n",
    "print(f\"Accuracy: {accuracy}\", '\\n')\n",
    "print(f\"True Positive Rate/Sensitivity/Recall/Power: {true_positive_rate}\", '\\n')\n",
    "print(f\"False Positive Rate/False Alarm Ratio/Fall-out: {false_positive_rate}\", '\\n')\n",
    "print(f\"True Negative Rate/Specificity/Selectivity: {true_negative_rate}\", '\\n')\n",
    "print(f\"False Negative Rate/Miss Rate: {false_negative_rate}\", '\\n')\n",
    "print(f\"Precision/PPV: {precision}\", '\\n')\n",
    "print(f\"F1 Score: {f1_score}\", '\\n')\n",
    "print(f\"Support (0): {support_neg}\", '\\n')\n",
    "print(f\"Support (1): {support_pos}\")"
   ]
  },
  {
   "cell_type": "markdown",
   "id": "6d30b1b7",
   "metadata": {},
   "source": [
    "### Set k = 20"
   ]
  },
  {
   "cell_type": "code",
   "execution_count": 24,
   "id": "62c25390",
   "metadata": {},
   "outputs": [],
   "source": [
    "knn = KNeighborsClassifier(n_neighbors = 20)"
   ]
  },
  {
   "cell_type": "code",
   "execution_count": 25,
   "id": "ab7db3e5",
   "metadata": {},
   "outputs": [
    {
     "data": {
      "text/plain": [
       "KNeighborsClassifier(n_neighbors=20)"
      ]
     },
     "execution_count": 25,
     "metadata": {},
     "output_type": "execute_result"
    }
   ],
   "source": [
    "knn.fit(X_train, y_train)"
   ]
  },
  {
   "cell_type": "code",
   "execution_count": 26,
   "id": "aaa8e190",
   "metadata": {},
   "outputs": [],
   "source": [
    "y_pred = knn.predict(X_train)"
   ]
  },
  {
   "cell_type": "code",
   "execution_count": 13,
   "id": "cadf7cd8",
   "metadata": {},
   "outputs": [
    {
     "name": "stdout",
     "output_type": "stream",
     "text": [
      "Accuracy of KNN classifier on training set: 0.76\n"
     ]
    }
   ],
   "source": [
    "#model score\n",
    "print(f'Accuracy of KNN classifier on training set: {knn.score(X_train, y_train):.2}')"
   ]
  },
  {
   "cell_type": "code",
   "execution_count": 28,
   "id": "43aa9736",
   "metadata": {},
   "outputs": [
    {
     "name": "stdout",
     "output_type": "stream",
     "text": [
      "[[358  53]\n",
      " [111 145]]\n"
     ]
    }
   ],
   "source": [
    "#confusion matrix\n",
    "print(metrics.confusion_matrix(y_train, y_pred))"
   ]
  },
  {
   "cell_type": "code",
   "execution_count": 29,
   "id": "2ca19be4",
   "metadata": {},
   "outputs": [
    {
     "name": "stdout",
     "output_type": "stream",
     "text": [
      "Accuracy: 0.7541229385307346 \n",
      "\n",
      "True Positive Rate/Sensitivity/Recall/Power: 0.56640625 \n",
      "\n",
      "False Positive Rate/False Alarm Ratio/Fall-out: 0.12895377128953772 \n",
      "\n",
      "True Negative Rate/Specificity/Selectivity: 0.8710462287104623 \n",
      "\n",
      "False Negative Rate/Miss Rate: 0.43359375 \n",
      "\n",
      "Precision/PPV: 0.7323232323232324 \n",
      "\n",
      "F1 Score: 0.6387665198237886 \n",
      "\n",
      "Support (0): 411 \n",
      "\n",
      "Support (1): 256\n"
     ]
    }
   ],
   "source": [
    "TN, FP, FN, TP = metrics.confusion_matrix(y_train, y_pred).ravel()\n",
    "\n",
    "ALL = TP + FP + FN + TN\n",
    "\n",
    "accuracy = (TP + TN)/ALL\n",
    "true_positive_rate = sensitivity = recall = power = TP/(TP+FN)\n",
    "false_positive_rate = false_alarm_ratio = fallout = FP/(FP+TN)\n",
    "true_negative_rate = specificity = selectivity = TN/(TN+FP)\n",
    "false_negative_rate = miss_rate = FN/(FN+TP)\n",
    "precision = PPV = TP/(TP+FP)\n",
    "f1_score = 2*(precision*recall)/(precision+recall)\n",
    "support_pos = TP + FN\n",
    "support_neg = FP + TN\n",
    "\n",
    "print(f\"Accuracy: {accuracy}\", '\\n')\n",
    "print(f\"True Positive Rate/Sensitivity/Recall/Power: {true_positive_rate}\", '\\n')\n",
    "print(f\"False Positive Rate/False Alarm Ratio/Fall-out: {false_positive_rate}\", '\\n')\n",
    "print(f\"True Negative Rate/Specificity/Selectivity: {true_negative_rate}\", '\\n')\n",
    "print(f\"False Negative Rate/Miss Rate: {false_negative_rate}\", '\\n')\n",
    "print(f\"Precision/PPV: {precision}\", '\\n')\n",
    "print(f\"F1 Score: {f1_score}\", '\\n')\n",
    "print(f\"Support (0): {support_neg}\", '\\n')\n",
    "print(f\"Support (1): {support_pos}\")"
   ]
  },
  {
   "cell_type": "markdown",
   "id": "c72ffc2e",
   "metadata": {},
   "source": [
    "### What are the differences in the evaluation metrics? Which performs better on your in-sample data? Why?\n",
    "- **k = 2 is better because it only has to match with two neighbors.**"
   ]
  },
  {
   "cell_type": "markdown",
   "id": "b4cd84e5",
   "metadata": {},
   "source": [
    "### Which model performs best on our out-of-sample data from validate?"
   ]
  },
  {
   "cell_type": "code",
   "execution_count": 12,
   "id": "328f93bd",
   "metadata": {},
   "outputs": [
    {
     "data": {
      "image/png": "[encoded data removed]",
      "text/plain": [
       "<Figure size 432x288 with 1 Axes>"
      ]
     },
     "metadata": {
      "needs_background": "light"
     },
     "output_type": "display_data"
    }
   ],
   "source": [
    "k_range = range(1, 20)\n",
    "scores = []\n",
    "for k in k_range:\n",
    "    knn = KNeighborsClassifier(n_neighbors = k)\n",
    "    knn.fit(X_train, y_train)\n",
    "    scores.append(knn.score(X_validate, y_validate))\n",
    "plt.figure()\n",
    "plt.xlabel('k')\n",
    "plt.ylabel('accuracy')\n",
    "plt.scatter(k_range, scores)\n",
    "plt.xticks([0,5,10,15,20])\n",
    "plt.show()"
   ]
  },
  {
   "cell_type": "markdown",
   "id": "40708def",
   "metadata": {},
   "source": [
    "## Logistic Regression\n",
    "\n",
    "Create a model that includes age in addition to fare and class. Does this model perform better than your baseline?\n",
    "\n",
    "Include sex in your model as well. Note that you'll need to encode or create a dummy variable of this feature before including it in a model.\n",
    "\n",
    "Try out other combinations of features and models.\n",
    "\n",
    "Use you best 3 models to predict and evaluate on your validate sample.\n",
    "\n",
    "Choose you best model from the validation performation, and evaluate it on the test dataset. How do the performance metrics compare to validate? to train?"
   ]
  },
  {
   "cell_type": "code",
   "execution_count": null,
   "id": "3269b7d4",
   "metadata": {},
   "outputs": [],
   "source": []
  }
 ],
 "metadata": {
  "kernelspec": {
   "display_name": "Python 3 (ipykernel)",
   "language": "python",
   "name": "python3"
  },
  "language_info": {
   "codemirror_mode": {
    "name": "ipython",
    "version": 3
   },
   "file_extension": ".py",
   "mimetype": "text/x-python",
   "name": "python",
   "nbconvert_exporter": "python",
   "pygments_lexer": "ipython3",
   "version": "3.9.12"
  }
 },
 "nbformat": 4,
 "nbformat_minor": 5
}
