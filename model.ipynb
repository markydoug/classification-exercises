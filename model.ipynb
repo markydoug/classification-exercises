{
 "cells": [
  {
   "cell_type": "code",
   "execution_count": 1,
   "id": "99846ced",
   "metadata": {},
   "outputs": [],
   "source": [
    "import pandas as pd\n",
    "import numpy as np\n",
    "import matplotlib.pyplot as plt\n",
    "import seaborn as sns\n",
    "import scipy.stats as stats\n",
    "from sklearn.model_selection import train_test_split\n",
    "import sklearn.metrics as metrics\n",
    "from sklearn.tree import DecisionTreeClassifier, plot_tree\n",
    "\n",
    "import acquire\n",
    "import prepare"
   ]
  },
  {
   "cell_type": "markdown",
   "id": "e50b6eda",
   "metadata": {},
   "source": [
    "# Titanic"
   ]
  },
  {
   "cell_type": "markdown",
   "id": "fbf4e932",
   "metadata": {},
   "source": [
    "Using the titanic data, in your classification-exercises repository, create a notebook, model.ipynb where you will do the following:"
   ]
  },
  {
   "cell_type": "code",
   "execution_count": 49,
   "id": "755fd90b",
   "metadata": {},
   "outputs": [],
   "source": [
    "titanic_train, titanic_validate, titanic_test = prepare.train_validate_test_split(prepare.prep_titanic(acquire.get_titanic_data()), 'survived')"
   ]
  },
  {
   "cell_type": "markdown",
   "id": "a2ae28d3",
   "metadata": {},
   "source": [
    "What is your baseline prediction? "
   ]
  },
  {
   "cell_type": "code",
   "execution_count": 50,
   "id": "8704e764",
   "metadata": {
    "scrolled": true
   },
   "outputs": [],
   "source": [
    "#titanic_train.survived.value_counts()"
   ]
  },
  {
   "cell_type": "code",
   "execution_count": 51,
   "id": "fcb5c975",
   "metadata": {},
   "outputs": [],
   "source": [
    "#titanic_train['baseline_prediction'] = titanic_train.survived.value_counts().idxmax()\n",
    "\n",
    "#baseline_accuracy = metrics.accuracy_score(y_true=titanic_train.survived, y_pred=titanic_train.baseline_prediction)\n",
    "\n",
    "#print(f'Baseline accuracy: {baseline_accuracy:%}')"
   ]
  },
  {
   "cell_type": "code",
   "execution_count": 52,
   "id": "63651e95",
   "metadata": {},
   "outputs": [
    {
     "data": {
      "text/html": [
       "<div>\n",
       "<style scoped>\n",
       "    .dataframe tbody tr th:only-of-type {\n",
       "        vertical-align: middle;\n",
       "    }\n",
       "\n",
       "    .dataframe tbody tr th {\n",
       "        vertical-align: top;\n",
       "    }\n",
       "\n",
       "    .dataframe thead th {\n",
       "        text-align: right;\n",
       "    }\n",
       "</style>\n",
       "<table border=\"1\" class=\"dataframe\">\n",
       "  <thead>\n",
       "    <tr style=\"text-align: right;\">\n",
       "      <th></th>\n",
       "      <th>survived</th>\n",
       "      <th>sex</th>\n",
       "      <th>sibsp</th>\n",
       "      <th>parch</th>\n",
       "      <th>fare</th>\n",
       "      <th>class</th>\n",
       "      <th>embark_town</th>\n",
       "      <th>alone</th>\n",
       "      <th>sex_male</th>\n",
       "      <th>class_Second</th>\n",
       "      <th>class_Third</th>\n",
       "      <th>embark_town_Queenstown</th>\n",
       "      <th>embark_town_Southampton</th>\n",
       "    </tr>\n",
       "  </thead>\n",
       "  <tbody>\n",
       "    <tr>\n",
       "      <th>301</th>\n",
       "      <td>1</td>\n",
       "      <td>male</td>\n",
       "      <td>2</td>\n",
       "      <td>0</td>\n",
       "      <td>23.2500</td>\n",
       "      <td>Third</td>\n",
       "      <td>Queenstown</td>\n",
       "      <td>0</td>\n",
       "      <td>1</td>\n",
       "      <td>0</td>\n",
       "      <td>1</td>\n",
       "      <td>1</td>\n",
       "      <td>0</td>\n",
       "    </tr>\n",
       "    <tr>\n",
       "      <th>290</th>\n",
       "      <td>1</td>\n",
       "      <td>female</td>\n",
       "      <td>0</td>\n",
       "      <td>0</td>\n",
       "      <td>78.8500</td>\n",
       "      <td>First</td>\n",
       "      <td>Southampton</td>\n",
       "      <td>1</td>\n",
       "      <td>0</td>\n",
       "      <td>0</td>\n",
       "      <td>0</td>\n",
       "      <td>0</td>\n",
       "      <td>1</td>\n",
       "    </tr>\n",
       "    <tr>\n",
       "      <th>779</th>\n",
       "      <td>1</td>\n",
       "      <td>female</td>\n",
       "      <td>0</td>\n",
       "      <td>1</td>\n",
       "      <td>211.3375</td>\n",
       "      <td>First</td>\n",
       "      <td>Southampton</td>\n",
       "      <td>0</td>\n",
       "      <td>0</td>\n",
       "      <td>0</td>\n",
       "      <td>0</td>\n",
       "      <td>0</td>\n",
       "      <td>1</td>\n",
       "    </tr>\n",
       "    <tr>\n",
       "      <th>356</th>\n",
       "      <td>1</td>\n",
       "      <td>female</td>\n",
       "      <td>0</td>\n",
       "      <td>1</td>\n",
       "      <td>55.0000</td>\n",
       "      <td>First</td>\n",
       "      <td>Southampton</td>\n",
       "      <td>0</td>\n",
       "      <td>0</td>\n",
       "      <td>0</td>\n",
       "      <td>0</td>\n",
       "      <td>0</td>\n",
       "      <td>1</td>\n",
       "    </tr>\n",
       "    <tr>\n",
       "      <th>147</th>\n",
       "      <td>0</td>\n",
       "      <td>female</td>\n",
       "      <td>2</td>\n",
       "      <td>2</td>\n",
       "      <td>34.3750</td>\n",
       "      <td>Third</td>\n",
       "      <td>Southampton</td>\n",
       "      <td>0</td>\n",
       "      <td>0</td>\n",
       "      <td>0</td>\n",
       "      <td>1</td>\n",
       "      <td>0</td>\n",
       "      <td>1</td>\n",
       "    </tr>\n",
       "  </tbody>\n",
       "</table>\n",
       "</div>"
      ],
      "text/plain": [
       "     survived     sex  sibsp  parch      fare  class  embark_town  alone  \\\n",
       "301         1    male      2      0   23.2500  Third   Queenstown      0   \n",
       "290         1  female      0      0   78.8500  First  Southampton      1   \n",
       "779         1  female      0      1  211.3375  First  Southampton      0   \n",
       "356         1  female      0      1   55.0000  First  Southampton      0   \n",
       "147         0  female      2      2   34.3750  Third  Southampton      0   \n",
       "\n",
       "     sex_male  class_Second  class_Third  embark_town_Queenstown  \\\n",
       "301         1             0            1                       1   \n",
       "290         0             0            0                       0   \n",
       "779         0             0            0                       0   \n",
       "356         0             0            0                       0   \n",
       "147         0             0            1                       0   \n",
       "\n",
       "     embark_town_Southampton  \n",
       "301                        0  \n",
       "290                        1  \n",
       "779                        1  \n",
       "356                        1  \n",
       "147                        1  "
      ]
     },
     "execution_count": 52,
     "metadata": {},
     "output_type": "execute_result"
    }
   ],
   "source": [
    "titanic_train.head()"
   ]
  },
  {
   "cell_type": "markdown",
   "id": "e10e6787",
   "metadata": {},
   "source": [
    "What is your baseline accuracy? *remember: your baseline prediction for a classification problem is predicting the most prevelant class in the training dataset (the mode). When you make those predictions, what is your accuracy? This is your baseline accuracy.*"
   ]
  },
  {
   "cell_type": "code",
   "execution_count": 53,
   "id": "d7aa5572",
   "metadata": {},
   "outputs": [
    {
     "data": {
      "text/html": [
       "<div>\n",
       "<style scoped>\n",
       "    .dataframe tbody tr th:only-of-type {\n",
       "        vertical-align: middle;\n",
       "    }\n",
       "\n",
       "    .dataframe tbody tr th {\n",
       "        vertical-align: top;\n",
       "    }\n",
       "\n",
       "    .dataframe thead th {\n",
       "        text-align: right;\n",
       "    }\n",
       "</style>\n",
       "<table border=\"1\" class=\"dataframe\">\n",
       "  <thead>\n",
       "    <tr style=\"text-align: right;\">\n",
       "      <th></th>\n",
       "      <th>survived</th>\n",
       "      <th>sex</th>\n",
       "      <th>sibsp</th>\n",
       "      <th>parch</th>\n",
       "      <th>fare</th>\n",
       "      <th>class</th>\n",
       "      <th>embark_town</th>\n",
       "      <th>alone</th>\n",
       "      <th>sex_male</th>\n",
       "      <th>class_Second</th>\n",
       "      <th>class_Third</th>\n",
       "      <th>embark_town_Queenstown</th>\n",
       "      <th>embark_town_Southampton</th>\n",
       "    </tr>\n",
       "  </thead>\n",
       "  <tbody>\n",
       "    <tr>\n",
       "      <th>301</th>\n",
       "      <td>1</td>\n",
       "      <td>male</td>\n",
       "      <td>2</td>\n",
       "      <td>0</td>\n",
       "      <td>23.2500</td>\n",
       "      <td>Third</td>\n",
       "      <td>Queenstown</td>\n",
       "      <td>0</td>\n",
       "      <td>1</td>\n",
       "      <td>0</td>\n",
       "      <td>1</td>\n",
       "      <td>1</td>\n",
       "      <td>0</td>\n",
       "    </tr>\n",
       "    <tr>\n",
       "      <th>290</th>\n",
       "      <td>1</td>\n",
       "      <td>female</td>\n",
       "      <td>0</td>\n",
       "      <td>0</td>\n",
       "      <td>78.8500</td>\n",
       "      <td>First</td>\n",
       "      <td>Southampton</td>\n",
       "      <td>1</td>\n",
       "      <td>0</td>\n",
       "      <td>0</td>\n",
       "      <td>0</td>\n",
       "      <td>0</td>\n",
       "      <td>1</td>\n",
       "    </tr>\n",
       "    <tr>\n",
       "      <th>779</th>\n",
       "      <td>1</td>\n",
       "      <td>female</td>\n",
       "      <td>0</td>\n",
       "      <td>1</td>\n",
       "      <td>211.3375</td>\n",
       "      <td>First</td>\n",
       "      <td>Southampton</td>\n",
       "      <td>0</td>\n",
       "      <td>0</td>\n",
       "      <td>0</td>\n",
       "      <td>0</td>\n",
       "      <td>0</td>\n",
       "      <td>1</td>\n",
       "    </tr>\n",
       "    <tr>\n",
       "      <th>356</th>\n",
       "      <td>1</td>\n",
       "      <td>female</td>\n",
       "      <td>0</td>\n",
       "      <td>1</td>\n",
       "      <td>55.0000</td>\n",
       "      <td>First</td>\n",
       "      <td>Southampton</td>\n",
       "      <td>0</td>\n",
       "      <td>0</td>\n",
       "      <td>0</td>\n",
       "      <td>0</td>\n",
       "      <td>0</td>\n",
       "      <td>1</td>\n",
       "    </tr>\n",
       "    <tr>\n",
       "      <th>147</th>\n",
       "      <td>0</td>\n",
       "      <td>female</td>\n",
       "      <td>2</td>\n",
       "      <td>2</td>\n",
       "      <td>34.3750</td>\n",
       "      <td>Third</td>\n",
       "      <td>Southampton</td>\n",
       "      <td>0</td>\n",
       "      <td>0</td>\n",
       "      <td>0</td>\n",
       "      <td>1</td>\n",
       "      <td>0</td>\n",
       "      <td>1</td>\n",
       "    </tr>\n",
       "  </tbody>\n",
       "</table>\n",
       "</div>"
      ],
      "text/plain": [
       "     survived     sex  sibsp  parch      fare  class  embark_town  alone  \\\n",
       "301         1    male      2      0   23.2500  Third   Queenstown      0   \n",
       "290         1  female      0      0   78.8500  First  Southampton      1   \n",
       "779         1  female      0      1  211.3375  First  Southampton      0   \n",
       "356         1  female      0      1   55.0000  First  Southampton      0   \n",
       "147         0  female      2      2   34.3750  Third  Southampton      0   \n",
       "\n",
       "     sex_male  class_Second  class_Third  embark_town_Queenstown  \\\n",
       "301         1             0            1                       1   \n",
       "290         0             0            0                       0   \n",
       "779         0             0            0                       0   \n",
       "356         0             0            0                       0   \n",
       "147         0             0            1                       0   \n",
       "\n",
       "     embark_town_Southampton  \n",
       "301                        0  \n",
       "290                        1  \n",
       "779                        1  \n",
       "356                        1  \n",
       "147                        1  "
      ]
     },
     "execution_count": 53,
     "metadata": {},
     "output_type": "execute_result"
    }
   ],
   "source": [
    "titanic_train.head()"
   ]
  },
  {
   "cell_type": "code",
   "execution_count": 54,
   "id": "96c52cca",
   "metadata": {},
   "outputs": [],
   "source": [
    "#functions can't take strings so i dropped all columns that are strings\n",
    "drop_columns = list(titanic_train.select_dtypes(include='object').columns)\n",
    "\n",
    "titanic_train.drop(columns=drop_columns, inplace=True)"
   ]
  },
  {
   "cell_type": "code",
   "execution_count": 55,
   "id": "34f1fe18",
   "metadata": {},
   "outputs": [],
   "source": [
    "# create X & y version of train, where y is a series with just the target variable and X are all the features. \n",
    "\n",
    "X_train = titanic_train.drop(columns=['survived'])\n",
    "y_train = titanic_train.survived"
   ]
  },
  {
   "cell_type": "code",
   "execution_count": 56,
   "id": "75afa22f",
   "metadata": {},
   "outputs": [
    {
     "data": {
      "text/plain": [
       "0    307\n",
       "1    191\n",
       "Name: survived, dtype: int64"
      ]
     },
     "execution_count": 56,
     "metadata": {},
     "output_type": "execute_result"
    }
   ],
   "source": [
    "#figure out the mode of values in our target variable\n",
    "titanic_train.survived.value_counts()"
   ]
  },
  {
   "cell_type": "code",
   "execution_count": 57,
   "id": "113ce2b5",
   "metadata": {},
   "outputs": [
    {
     "name": "stdout",
     "output_type": "stream",
     "text": [
      "Baseline accuracy: 61.65%\n"
     ]
    }
   ],
   "source": [
    "#baseline is 0 so then see where y_train is equal to 0 and then the mean of that\n",
    "baseline_acc = (y_train == 0).mean()\n",
    "\n",
    "print(f'Baseline accuracy: {baseline_acc:.2%}')"
   ]
  },
  {
   "cell_type": "code",
   "execution_count": 58,
   "id": "5714bae9",
   "metadata": {},
   "outputs": [],
   "source": [
    "#create my tree with no depth constraints\n",
    "tree = DecisionTreeClassifier(max_depth = 3) # my algorithm\n",
    "\n",
    "#fit my tree\n",
    "tree = tree.fit(X_train, y_train) #my model"
   ]
  },
  {
   "cell_type": "code",
   "execution_count": 59,
   "id": "3844c65f",
   "metadata": {},
   "outputs": [
    {
     "data": {
      "text/plain": [
       "0.8052208835341366"
      ]
     },
     "execution_count": 59,
     "metadata": {},
     "output_type": "execute_result"
    }
   ],
   "source": [
    "#model score\n",
    "tree.score(X_train, y_train)"
   ]
  },
  {
   "cell_type": "code",
   "execution_count": 60,
   "id": "21faf6a0",
   "metadata": {},
   "outputs": [],
   "source": [
    "# make prediction on train obeservations\n",
    "y_pred = tree.predict(X_train)"
   ]
  },
  {
   "cell_type": "markdown",
   "id": "ce0d6674",
   "metadata": {},
   "source": [
    "Evaluate your in-sample results using the model score, confusion matrix, and classification report."
   ]
  },
  {
   "cell_type": "code",
   "execution_count": 61,
   "id": "a6e22265",
   "metadata": {
    "scrolled": false
   },
   "outputs": [
    {
     "data": {
      "text/plain": [
       "array([[268,  39],\n",
       "       [ 58, 133]])"
      ]
     },
     "execution_count": 61,
     "metadata": {},
     "output_type": "execute_result"
    }
   ],
   "source": [
    "#confusion matrix\n",
    "metrics.confusion_matrix(y_train, y_pred)"
   ]
  },
  {
   "cell_type": "code",
   "execution_count": 62,
   "id": "b5413f94",
   "metadata": {},
   "outputs": [
    {
     "data": {
      "text/html": [
       "<div>\n",
       "<style scoped>\n",
       "    .dataframe tbody tr th:only-of-type {\n",
       "        vertical-align: middle;\n",
       "    }\n",
       "\n",
       "    .dataframe tbody tr th {\n",
       "        vertical-align: top;\n",
       "    }\n",
       "\n",
       "    .dataframe thead th {\n",
       "        text-align: right;\n",
       "    }\n",
       "</style>\n",
       "<table border=\"1\" class=\"dataframe\">\n",
       "  <thead>\n",
       "    <tr style=\"text-align: right;\">\n",
       "      <th>col_0</th>\n",
       "      <th>0</th>\n",
       "      <th>1</th>\n",
       "    </tr>\n",
       "    <tr>\n",
       "      <th>survived</th>\n",
       "      <th></th>\n",
       "      <th></th>\n",
       "    </tr>\n",
       "  </thead>\n",
       "  <tbody>\n",
       "    <tr>\n",
       "      <th>0</th>\n",
       "      <td>268</td>\n",
       "      <td>39</td>\n",
       "    </tr>\n",
       "    <tr>\n",
       "      <th>1</th>\n",
       "      <td>58</td>\n",
       "      <td>133</td>\n",
       "    </tr>\n",
       "  </tbody>\n",
       "</table>\n",
       "</div>"
      ],
      "text/plain": [
       "col_0       0    1\n",
       "survived          \n",
       "0         268   39\n",
       "1          58  133"
      ]
     },
     "execution_count": 62,
     "metadata": {},
     "output_type": "execute_result"
    }
   ],
   "source": [
    "pd.crosstab(y_train, y_pred)"
   ]
  },
  {
   "cell_type": "code",
   "execution_count": 63,
   "id": "712e9b05",
   "metadata": {
    "scrolled": true
   },
   "outputs": [
    {
     "name": "stderr",
     "output_type": "stream",
     "text": [
      "/usr/local/anaconda3/lib/python3.9/site-packages/sklearn/utils/deprecation.py:87: FutureWarning: Function plot_confusion_matrix is deprecated; Function `plot_confusion_matrix` is deprecated in 1.0 and will be removed in 1.2. Use one of the class methods: ConfusionMatrixDisplay.from_predictions or ConfusionMatrixDisplay.from_estimator.\n",
      "  warnings.warn(msg, category=FutureWarning)\n"
     ]
    },
    {
     "data": {
      "text/plain": [
       "<sklearn.metrics._plot.confusion_matrix.ConfusionMatrixDisplay at 0x7f7ed545feb0>"
      ]
     },
     "execution_count": 63,
     "metadata": {},
     "output_type": "execute_result"
    },
    {
     "data": {
      "image/png": "[encoded data removed]",
      "text/plain": [
       "<Figure size 432x288 with 2 Axes>"
      ]
     },
     "metadata": {
      "needs_background": "light"
     },
     "output_type": "display_data"
    }
   ],
   "source": [
    "metrics.plot_confusion_matrix(tree, X_train, y_train, display_labels=[0, 1])"
   ]
  },
  {
   "cell_type": "code",
   "execution_count": 64,
   "id": "72a42783",
   "metadata": {
    "scrolled": true
   },
   "outputs": [
    {
     "name": "stdout",
     "output_type": "stream",
     "text": [
      "              precision    recall  f1-score   support\n",
      "\n",
      "           0       0.82      0.87      0.85       307\n",
      "           1       0.77      0.70      0.73       191\n",
      "\n",
      "    accuracy                           0.81       498\n",
      "   macro avg       0.80      0.78      0.79       498\n",
      "weighted avg       0.80      0.81      0.80       498\n",
      "\n"
     ]
    }
   ],
   "source": [
    "#classification report\n",
    "print(metrics.classification_report(y_train, y_pred))"
   ]
  },
  {
   "cell_type": "code",
   "execution_count": 65,
   "id": "4fec0dd4",
   "metadata": {},
   "outputs": [
    {
     "name": "stdout",
     "output_type": "stream",
     "text": [
      "true positive rate: 0.8900523560209425\n",
      "false positive rate: 0.03257328990228013\n",
      "true negative rate: 0.9674267100977199\n",
      "false negative rate: 0.1099476439790576\n"
     ]
    }
   ],
   "source": [
    "tn = 297\n",
    "tp = 170\n",
    "fp = 10\n",
    "fn = 21\n",
    "\n",
    "tpr = recall = tp/ (tp + fn)\n",
    "print(f'true positive rate: {tpr}')\n",
    "fpr = fp / (fp + tn)\n",
    "print(f'false positive rate: {fpr}')\n",
    "tnr = tn / (tn + fp)\n",
    "print(f'true negative rate: {tnr}')\n",
    "fnr = fn / (fn + tp)\n",
    "print(f'false negative rate: {fnr}')"
   ]
  },
  {
   "cell_type": "markdown",
   "id": "9ee87072",
   "metadata": {},
   "source": [
    "### Compute: \n",
    "- Accuracy: 0.94\n",
    "- precision: 0.94\n",
    "- recall: 0.89\n",
    "- f1-score:\n",
    "- support:"
   ]
  },
  {
   "cell_type": "code",
   "execution_count": 66,
   "id": "0eaafa47",
   "metadata": {},
   "outputs": [],
   "source": [
    "drop_columns = list(titanic_validate.select_dtypes(include='object').columns)\n",
    "\n",
    "titanic_validate.drop(columns=drop_columns, inplace=True)"
   ]
  },
  {
   "cell_type": "code",
   "execution_count": 67,
   "id": "18343d72",
   "metadata": {},
   "outputs": [],
   "source": [
    "X_validate = titanic_validate.drop(columns=['survived'])\n",
    "y_validate = titanic_validate.survived"
   ]
  },
  {
   "cell_type": "code",
   "execution_count": 68,
   "id": "794f6e3e",
   "metadata": {},
   "outputs": [],
   "source": [
    "val_pred = tree.predict(X_validate)"
   ]
  },
  {
   "cell_type": "code",
   "execution_count": 69,
   "id": "6d96fe3c",
   "metadata": {},
   "outputs": [
    {
     "data": {
      "text/plain": [
       "0.822429906542056"
      ]
     },
     "execution_count": 69,
     "metadata": {},
     "output_type": "execute_result"
    }
   ],
   "source": [
    "#model accuracy score\n",
    "tree.score(X_validate, y_validate)"
   ]
  },
  {
   "cell_type": "code",
   "execution_count": 70,
   "id": "86ce3892",
   "metadata": {
    "scrolled": false
   },
   "outputs": [
    {
     "data": {
      "text/plain": [
       "array([[123,   9],\n",
       "       [ 29,  53]])"
      ]
     },
     "execution_count": 70,
     "metadata": {},
     "output_type": "execute_result"
    }
   ],
   "source": [
    "#confusion matrix\n",
    "metrics.confusion_matrix(y_validate, val_pred)"
   ]
  },
  {
   "cell_type": "code",
   "execution_count": 71,
   "id": "960cc912",
   "metadata": {},
   "outputs": [
    {
     "name": "stdout",
     "output_type": "stream",
     "text": [
      "              precision    recall  f1-score   support\n",
      "\n",
      "           0       0.81      0.93      0.87       132\n",
      "           1       0.85      0.65      0.74        82\n",
      "\n",
      "    accuracy                           0.82       214\n",
      "   macro avg       0.83      0.79      0.80       214\n",
      "weighted avg       0.83      0.82      0.82       214\n",
      "\n"
     ]
    }
   ],
   "source": [
    "print(metrics.classification_report(y_validate, val_pred))"
   ]
  },
  {
   "cell_type": "markdown",
   "id": "fff8cd6e",
   "metadata": {},
   "source": [
    "## New\n",
    "\n",
    "Run through steps 2-4 using a different max_depth value."
   ]
  },
  {
   "cell_type": "code",
   "execution_count": null,
   "id": "c756bc9d",
   "metadata": {
    "scrolled": true
   },
   "outputs": [],
   "source": [
    "clf = DecisionTreeClassifier(max_depth = 6)\n",
    "\n",
    "clf.fit(X_train, y_train)"
   ]
  },
  {
   "cell_type": "code",
   "execution_count": null,
   "id": "eb29ed40",
   "metadata": {},
   "outputs": [],
   "source": [
    "y_pred = clf.predict(X_train)"
   ]
  },
  {
   "cell_type": "code",
   "execution_count": null,
   "id": "cdde4174",
   "metadata": {},
   "outputs": [],
   "source": [
    "#model score\n",
    "clf.score(X_train, y_train)"
   ]
  },
  {
   "cell_type": "code",
   "execution_count": null,
   "id": "210797b8",
   "metadata": {
    "scrolled": true
   },
   "outputs": [],
   "source": [
    "#confusion matrix\n",
    "metrics.confusion_matrix(y_train, y_pred)"
   ]
  },
  {
   "cell_type": "code",
   "execution_count": null,
   "id": "df1bc5d0",
   "metadata": {},
   "outputs": [],
   "source": [
    "#classification report\n",
    "print(metrics.classification_report(y_train, y_pred))"
   ]
  },
  {
   "cell_type": "code",
   "execution_count": null,
   "id": "12bee3ab",
   "metadata": {},
   "outputs": [],
   "source": [
    "tn = 285\n",
    "tp = 144\n",
    "fp = 22\n",
    "fn = 47\n",
    "\n",
    "tpr = recall = tp/ (tp + fn)\n",
    "print(f'true positive rate: {tpr}')\n",
    "fpr = fp / (fp + tn)\n",
    "print(f'false positive rate: {fpr}')\n",
    "tnr = tn / (tn + fp)\n",
    "print(f'true negative rate: {tnr}')\n",
    "fnr = fn / (fn + tp)\n",
    "print(f'false negative rate: {fnr}')"
   ]
  },
  {
   "cell_type": "markdown",
   "id": "9870975d",
   "metadata": {},
   "source": [
    "###### Compute: \n",
    "- Accuracy: 0.86\n",
    "- precision: 0.86\n",
    "- recall: 0.93\n",
    "- f1-score:\n",
    "- support:"
   ]
  },
  {
   "cell_type": "markdown",
   "id": "f541f290",
   "metadata": {},
   "source": [
    "Which model performs better on your in-sample data?\n",
    "\n",
    "Which model performs best on your out-of-sample data, the validate set?"
   ]
  },
  {
   "cell_type": "markdown",
   "id": "cc9b6abf",
   "metadata": {},
   "source": [
    "## Telco"
   ]
  },
  {
   "cell_type": "code",
   "execution_count": null,
   "id": "3d83d639",
   "metadata": {},
   "outputs": [],
   "source": [
    "telco_train, telco_validate, telco_test = prepare.train_validate_test_split(prepare.prep_telco(acquire.get_telco_data()), 'churn')"
   ]
  },
  {
   "cell_type": "code",
   "execution_count": null,
   "id": "2c9e0f57",
   "metadata": {},
   "outputs": [],
   "source": [
    "telco_train.churn_Yes.value_counts()"
   ]
  },
  {
   "cell_type": "code",
   "execution_count": null,
   "id": "5f0e57a3",
   "metadata": {},
   "outputs": [],
   "source": [
    "telco_train['baseline_prediction'] = telco_train.churn_Yes.value_counts().idxmax()"
   ]
  },
  {
   "cell_type": "code",
   "execution_count": null,
   "id": "da4ee069",
   "metadata": {},
   "outputs": [],
   "source": [
    "telco_train.head()"
   ]
  },
  {
   "cell_type": "code",
   "execution_count": null,
   "id": "574c100e",
   "metadata": {},
   "outputs": [],
   "source": [
    "drop_columns = list(telco_train.select_dtypes(include='object').columns)\n",
    "\n",
    "telco_train.drop(columns=drop_columns, inplace=True)"
   ]
  },
  {
   "cell_type": "code",
   "execution_count": null,
   "id": "0203bb7d",
   "metadata": {},
   "outputs": [],
   "source": [
    "telco_train.info()"
   ]
  },
  {
   "cell_type": "code",
   "execution_count": null,
   "id": "a4688823",
   "metadata": {},
   "outputs": [],
   "source": [
    "X_train = telco_train.drop(columns=['churn_Yes'])\n",
    "y_train = telco_train.churn_Yes"
   ]
  },
  {
   "cell_type": "code",
   "execution_count": null,
   "id": "e6f6a0d2",
   "metadata": {
    "scrolled": false
   },
   "outputs": [],
   "source": [
    "clf = DecisionTreeClassifier()\n",
    "\n",
    "clf.fit(X_train, y_train)"
   ]
  },
  {
   "cell_type": "code",
   "execution_count": null,
   "id": "f3d27f62",
   "metadata": {},
   "outputs": [],
   "source": [
    "y_pred = clf.predict(X_train)"
   ]
  },
  {
   "cell_type": "code",
   "execution_count": null,
   "id": "011ea1ad",
   "metadata": {},
   "outputs": [],
   "source": [
    "#model score\n",
    "clf.score(X_train, y_train)"
   ]
  },
  {
   "cell_type": "code",
   "execution_count": null,
   "id": "301a57a2",
   "metadata": {
    "scrolled": true
   },
   "outputs": [],
   "source": [
    "#confusion matrix\n",
    "metrics.confusion_matrix(y_train, y_pred)"
   ]
  },
  {
   "cell_type": "code",
   "execution_count": null,
   "id": "29358ef9",
   "metadata": {
    "scrolled": false
   },
   "outputs": [],
   "source": [
    "#classification report\n",
    "print(metrics.classification_report(y_train, y_pred))"
   ]
  },
  {
   "cell_type": "code",
   "execution_count": null,
   "id": "fafee8c5",
   "metadata": {},
   "outputs": [],
   "source": [
    "tn = 2891\n",
    "fn = 7\n",
    "fp = 0\n",
    "tp = 1039\n",
    "\n",
    "\n",
    "\n",
    "tpr = recall = tp/ (tp + fn)\n",
    "print(f'true positive rate: {tpr}')\n",
    "fpr = fp / (fp + tn)\n",
    "print(f'false positive rate: {fpr}')\n",
    "tnr = tn / (tn + fp)\n",
    "print(f'true negative rate: {tnr}')\n",
    "fnr = fn / (fn + tp)\n",
    "print(f'false negative rate: {fnr}')"
   ]
  },
  {
   "cell_type": "code",
   "execution_count": null,
   "id": "3f681753",
   "metadata": {
    "scrolled": false
   },
   "outputs": [],
   "source": [
    "clf = DecisionTreeClassifier(max_depth = 3)\n",
    "\n",
    "clf.fit(X_train, y_train)"
   ]
  },
  {
   "cell_type": "code",
   "execution_count": null,
   "id": "abf45639",
   "metadata": {},
   "outputs": [],
   "source": [
    "y_pred = clf.predict(X_train)"
   ]
  },
  {
   "cell_type": "code",
   "execution_count": null,
   "id": "52733681",
   "metadata": {},
   "outputs": [],
   "source": [
    "#model score\n",
    "clf.score(X_train, y_train)"
   ]
  },
  {
   "cell_type": "code",
   "execution_count": null,
   "id": "ddc31ef5",
   "metadata": {
    "scrolled": true
   },
   "outputs": [],
   "source": [
    "#confusion matrix\n",
    "metrics.confusion_matrix(y_train, y_pred)"
   ]
  },
  {
   "cell_type": "code",
   "execution_count": null,
   "id": "2176d39c",
   "metadata": {
    "scrolled": false
   },
   "outputs": [],
   "source": [
    "#classification report\n",
    "print(metrics.classification_report(y_train, y_pred))"
   ]
  },
  {
   "cell_type": "code",
   "execution_count": null,
   "id": "8ef62e15",
   "metadata": {},
   "outputs": [],
   "source": []
  },
  {
   "cell_type": "code",
   "execution_count": null,
   "id": "184ec450",
   "metadata": {},
   "outputs": [],
   "source": []
  }
 ],
 "metadata": {
  "kernelspec": {
   "display_name": "Python 3 (ipykernel)",
   "language": "python",
   "name": "python3"
  },
  "language_info": {
   "codemirror_mode": {
    "name": "ipython",
    "version": 3
   },
   "file_extension": ".py",
   "mimetype": "text/x-python",
   "name": "python",
   "nbconvert_exporter": "python",
   "pygments_lexer": "ipython3",
   "version": "3.9.12"
  }
 },
 "nbformat": 4,
 "nbformat_minor": 5
}
