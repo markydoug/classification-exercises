{
 "cells": [
  {
   "cell_type": "code",
   "execution_count": 49,
   "id": "99846ced",
   "metadata": {},
   "outputs": [],
   "source": [
    "import pandas as pd\n",
    "import numpy as np\n",
    "import matplotlib.pyplot as plt\n",
    "import seaborn as sns\n",
    "import scipy.stats as stats\n",
    "from sklearn.model_selection import train_test_split\n",
    "import sklearn.metrics as metrics\n",
    "from sklearn.tree import DecisionTreeClassifier, plot_tree\n",
    "from sklearn.ensemble import RandomForestClassifier\n",
    "\n",
    "import acquire\n",
    "import prepare\n",
    "\n",
    "# ignore warnings\n",
    "import warnings\n",
    "warnings.filterwarnings(\"ignore\")"
   ]
  },
  {
   "cell_type": "markdown",
   "id": "e50b6eda",
   "metadata": {},
   "source": [
    "# Titanic"
   ]
  },
  {
   "cell_type": "markdown",
   "id": "fbf4e932",
   "metadata": {},
   "source": [
    "Using the titanic data, in your classification-exercises repository, create a notebook, model.ipynb where you will do the following:"
   ]
  },
  {
   "cell_type": "code",
   "execution_count": 2,
   "id": "755fd90b",
   "metadata": {},
   "outputs": [],
   "source": [
    "titanic_train, titanic_validate, titanic_test = prepare.train_validate_test_split(prepare.prep_titanic(acquire.get_titanic_data()), 'survived')"
   ]
  },
  {
   "cell_type": "markdown",
   "id": "a2ae28d3",
   "metadata": {},
   "source": [
    "What is your baseline prediction? "
   ]
  },
  {
   "cell_type": "code",
   "execution_count": 3,
   "id": "8704e764",
   "metadata": {
    "scrolled": true
   },
   "outputs": [],
   "source": [
    "#titanic_train.survived.value_counts()"
   ]
  },
  {
   "cell_type": "code",
   "execution_count": 4,
   "id": "fcb5c975",
   "metadata": {},
   "outputs": [],
   "source": [
    "#titanic_train['baseline_prediction'] = titanic_train.survived.value_counts().idxmax()\n",
    "\n",
    "#baseline_accuracy = metrics.accuracy_score(y_true=titanic_train.survived, y_pred=titanic_train.baseline_prediction)\n",
    "\n",
    "#print(f'Baseline accuracy: {baseline_accuracy:%}')"
   ]
  },
  {
   "cell_type": "code",
   "execution_count": 5,
   "id": "63651e95",
   "metadata": {},
   "outputs": [
    {
     "data": {
      "text/html": [
       "<div>\n",
       "<style scoped>\n",
       "    .dataframe tbody tr th:only-of-type {\n",
       "        vertical-align: middle;\n",
       "    }\n",
       "\n",
       "    .dataframe tbody tr th {\n",
       "        vertical-align: top;\n",
       "    }\n",
       "\n",
       "    .dataframe thead th {\n",
       "        text-align: right;\n",
       "    }\n",
       "</style>\n",
       "<table border=\"1\" class=\"dataframe\">\n",
       "  <thead>\n",
       "    <tr style=\"text-align: right;\">\n",
       "      <th></th>\n",
       "      <th>survived</th>\n",
       "      <th>sex</th>\n",
       "      <th>sibsp</th>\n",
       "      <th>parch</th>\n",
       "      <th>fare</th>\n",
       "      <th>class</th>\n",
       "      <th>embark_town</th>\n",
       "      <th>alone</th>\n",
       "      <th>sex_male</th>\n",
       "      <th>class_Second</th>\n",
       "      <th>class_Third</th>\n",
       "      <th>embark_town_Queenstown</th>\n",
       "      <th>embark_town_Southampton</th>\n",
       "    </tr>\n",
       "  </thead>\n",
       "  <tbody>\n",
       "    <tr>\n",
       "      <th>301</th>\n",
       "      <td>1</td>\n",
       "      <td>male</td>\n",
       "      <td>2</td>\n",
       "      <td>0</td>\n",
       "      <td>23.2500</td>\n",
       "      <td>Third</td>\n",
       "      <td>Queenstown</td>\n",
       "      <td>0</td>\n",
       "      <td>1</td>\n",
       "      <td>0</td>\n",
       "      <td>1</td>\n",
       "      <td>1</td>\n",
       "      <td>0</td>\n",
       "    </tr>\n",
       "    <tr>\n",
       "      <th>290</th>\n",
       "      <td>1</td>\n",
       "      <td>female</td>\n",
       "      <td>0</td>\n",
       "      <td>0</td>\n",
       "      <td>78.8500</td>\n",
       "      <td>First</td>\n",
       "      <td>Southampton</td>\n",
       "      <td>1</td>\n",
       "      <td>0</td>\n",
       "      <td>0</td>\n",
       "      <td>0</td>\n",
       "      <td>0</td>\n",
       "      <td>1</td>\n",
       "    </tr>\n",
       "    <tr>\n",
       "      <th>779</th>\n",
       "      <td>1</td>\n",
       "      <td>female</td>\n",
       "      <td>0</td>\n",
       "      <td>1</td>\n",
       "      <td>211.3375</td>\n",
       "      <td>First</td>\n",
       "      <td>Southampton</td>\n",
       "      <td>0</td>\n",
       "      <td>0</td>\n",
       "      <td>0</td>\n",
       "      <td>0</td>\n",
       "      <td>0</td>\n",
       "      <td>1</td>\n",
       "    </tr>\n",
       "    <tr>\n",
       "      <th>356</th>\n",
       "      <td>1</td>\n",
       "      <td>female</td>\n",
       "      <td>0</td>\n",
       "      <td>1</td>\n",
       "      <td>55.0000</td>\n",
       "      <td>First</td>\n",
       "      <td>Southampton</td>\n",
       "      <td>0</td>\n",
       "      <td>0</td>\n",
       "      <td>0</td>\n",
       "      <td>0</td>\n",
       "      <td>0</td>\n",
       "      <td>1</td>\n",
       "    </tr>\n",
       "    <tr>\n",
       "      <th>147</th>\n",
       "      <td>0</td>\n",
       "      <td>female</td>\n",
       "      <td>2</td>\n",
       "      <td>2</td>\n",
       "      <td>34.3750</td>\n",
       "      <td>Third</td>\n",
       "      <td>Southampton</td>\n",
       "      <td>0</td>\n",
       "      <td>0</td>\n",
       "      <td>0</td>\n",
       "      <td>1</td>\n",
       "      <td>0</td>\n",
       "      <td>1</td>\n",
       "    </tr>\n",
       "  </tbody>\n",
       "</table>\n",
       "</div>"
      ],
      "text/plain": [
       "     survived     sex  sibsp  parch      fare  class  embark_town  alone  \\\n",
       "301         1    male      2      0   23.2500  Third   Queenstown      0   \n",
       "290         1  female      0      0   78.8500  First  Southampton      1   \n",
       "779         1  female      0      1  211.3375  First  Southampton      0   \n",
       "356         1  female      0      1   55.0000  First  Southampton      0   \n",
       "147         0  female      2      2   34.3750  Third  Southampton      0   \n",
       "\n",
       "     sex_male  class_Second  class_Third  embark_town_Queenstown  \\\n",
       "301         1             0            1                       1   \n",
       "290         0             0            0                       0   \n",
       "779         0             0            0                       0   \n",
       "356         0             0            0                       0   \n",
       "147         0             0            1                       0   \n",
       "\n",
       "     embark_town_Southampton  \n",
       "301                        0  \n",
       "290                        1  \n",
       "779                        1  \n",
       "356                        1  \n",
       "147                        1  "
      ]
     },
     "execution_count": 5,
     "metadata": {},
     "output_type": "execute_result"
    }
   ],
   "source": [
    "titanic_train.head()"
   ]
  },
  {
   "cell_type": "markdown",
   "id": "e10e6787",
   "metadata": {},
   "source": [
    "What is your baseline accuracy? *remember: your baseline prediction for a classification problem is predicting the most prevelant class in the training dataset (the mode). When you make those predictions, what is your accuracy? This is your baseline accuracy.*"
   ]
  },
  {
   "cell_type": "code",
   "execution_count": 6,
   "id": "d7aa5572",
   "metadata": {},
   "outputs": [
    {
     "data": {
      "text/html": [
       "<div>\n",
       "<style scoped>\n",
       "    .dataframe tbody tr th:only-of-type {\n",
       "        vertical-align: middle;\n",
       "    }\n",
       "\n",
       "    .dataframe tbody tr th {\n",
       "        vertical-align: top;\n",
       "    }\n",
       "\n",
       "    .dataframe thead th {\n",
       "        text-align: right;\n",
       "    }\n",
       "</style>\n",
       "<table border=\"1\" class=\"dataframe\">\n",
       "  <thead>\n",
       "    <tr style=\"text-align: right;\">\n",
       "      <th></th>\n",
       "      <th>survived</th>\n",
       "      <th>sex</th>\n",
       "      <th>sibsp</th>\n",
       "      <th>parch</th>\n",
       "      <th>fare</th>\n",
       "      <th>class</th>\n",
       "      <th>embark_town</th>\n",
       "      <th>alone</th>\n",
       "      <th>sex_male</th>\n",
       "      <th>class_Second</th>\n",
       "      <th>class_Third</th>\n",
       "      <th>embark_town_Queenstown</th>\n",
       "      <th>embark_town_Southampton</th>\n",
       "    </tr>\n",
       "  </thead>\n",
       "  <tbody>\n",
       "    <tr>\n",
       "      <th>301</th>\n",
       "      <td>1</td>\n",
       "      <td>male</td>\n",
       "      <td>2</td>\n",
       "      <td>0</td>\n",
       "      <td>23.2500</td>\n",
       "      <td>Third</td>\n",
       "      <td>Queenstown</td>\n",
       "      <td>0</td>\n",
       "      <td>1</td>\n",
       "      <td>0</td>\n",
       "      <td>1</td>\n",
       "      <td>1</td>\n",
       "      <td>0</td>\n",
       "    </tr>\n",
       "    <tr>\n",
       "      <th>290</th>\n",
       "      <td>1</td>\n",
       "      <td>female</td>\n",
       "      <td>0</td>\n",
       "      <td>0</td>\n",
       "      <td>78.8500</td>\n",
       "      <td>First</td>\n",
       "      <td>Southampton</td>\n",
       "      <td>1</td>\n",
       "      <td>0</td>\n",
       "      <td>0</td>\n",
       "      <td>0</td>\n",
       "      <td>0</td>\n",
       "      <td>1</td>\n",
       "    </tr>\n",
       "    <tr>\n",
       "      <th>779</th>\n",
       "      <td>1</td>\n",
       "      <td>female</td>\n",
       "      <td>0</td>\n",
       "      <td>1</td>\n",
       "      <td>211.3375</td>\n",
       "      <td>First</td>\n",
       "      <td>Southampton</td>\n",
       "      <td>0</td>\n",
       "      <td>0</td>\n",
       "      <td>0</td>\n",
       "      <td>0</td>\n",
       "      <td>0</td>\n",
       "      <td>1</td>\n",
       "    </tr>\n",
       "    <tr>\n",
       "      <th>356</th>\n",
       "      <td>1</td>\n",
       "      <td>female</td>\n",
       "      <td>0</td>\n",
       "      <td>1</td>\n",
       "      <td>55.0000</td>\n",
       "      <td>First</td>\n",
       "      <td>Southampton</td>\n",
       "      <td>0</td>\n",
       "      <td>0</td>\n",
       "      <td>0</td>\n",
       "      <td>0</td>\n",
       "      <td>0</td>\n",
       "      <td>1</td>\n",
       "    </tr>\n",
       "    <tr>\n",
       "      <th>147</th>\n",
       "      <td>0</td>\n",
       "      <td>female</td>\n",
       "      <td>2</td>\n",
       "      <td>2</td>\n",
       "      <td>34.3750</td>\n",
       "      <td>Third</td>\n",
       "      <td>Southampton</td>\n",
       "      <td>0</td>\n",
       "      <td>0</td>\n",
       "      <td>0</td>\n",
       "      <td>1</td>\n",
       "      <td>0</td>\n",
       "      <td>1</td>\n",
       "    </tr>\n",
       "  </tbody>\n",
       "</table>\n",
       "</div>"
      ],
      "text/plain": [
       "     survived     sex  sibsp  parch      fare  class  embark_town  alone  \\\n",
       "301         1    male      2      0   23.2500  Third   Queenstown      0   \n",
       "290         1  female      0      0   78.8500  First  Southampton      1   \n",
       "779         1  female      0      1  211.3375  First  Southampton      0   \n",
       "356         1  female      0      1   55.0000  First  Southampton      0   \n",
       "147         0  female      2      2   34.3750  Third  Southampton      0   \n",
       "\n",
       "     sex_male  class_Second  class_Third  embark_town_Queenstown  \\\n",
       "301         1             0            1                       1   \n",
       "290         0             0            0                       0   \n",
       "779         0             0            0                       0   \n",
       "356         0             0            0                       0   \n",
       "147         0             0            1                       0   \n",
       "\n",
       "     embark_town_Southampton  \n",
       "301                        0  \n",
       "290                        1  \n",
       "779                        1  \n",
       "356                        1  \n",
       "147                        1  "
      ]
     },
     "execution_count": 6,
     "metadata": {},
     "output_type": "execute_result"
    }
   ],
   "source": [
    "titanic_train.head()"
   ]
  },
  {
   "cell_type": "code",
   "execution_count": 7,
   "id": "96c52cca",
   "metadata": {},
   "outputs": [],
   "source": [
    "#functions can't take strings so i dropped all columns that are strings\n",
    "drop_columns = list(titanic_train.select_dtypes(include='object').columns)\n",
    "\n",
    "titanic_train.drop(columns=drop_columns, inplace=True)"
   ]
  },
  {
   "cell_type": "code",
   "execution_count": 8,
   "id": "34f1fe18",
   "metadata": {},
   "outputs": [],
   "source": [
    "# create X & y version of train, where y is a series with just the target variable and X are all the features. \n",
    "\n",
    "X_train = titanic_train.drop(columns=['survived'])\n",
    "y_train = titanic_train.survived"
   ]
  },
  {
   "cell_type": "code",
   "execution_count": 9,
   "id": "75afa22f",
   "metadata": {},
   "outputs": [
    {
     "data": {
      "text/plain": [
       "0    307\n",
       "1    191\n",
       "Name: survived, dtype: int64"
      ]
     },
     "execution_count": 9,
     "metadata": {},
     "output_type": "execute_result"
    }
   ],
   "source": [
    "\n",
    "#figure out the mode of values in our target variable\n",
    "titanic_train.survived.value_counts()"
   ]
  },
  {
   "cell_type": "code",
   "execution_count": 10,
   "id": "113ce2b5",
   "metadata": {},
   "outputs": [
    {
     "name": "stdout",
     "output_type": "stream",
     "text": [
      "Baseline accuracy: 61.65%\n"
     ]
    }
   ],
   "source": [
    "#baseline is 0 so then see where y_train is equal to 0 and then the mean of that\n",
    "baseline_acc = (y_train == 0).mean()\n",
    "\n",
    "print(f'Baseline accuracy: {baseline_acc:.2%}')"
   ]
  },
  {
   "cell_type": "code",
   "execution_count": 11,
   "id": "5714bae9",
   "metadata": {},
   "outputs": [],
   "source": [
    "#create my tree with no depth constraints\n",
    "tree = DecisionTreeClassifier(max_depth = 3) # my algorithm\n",
    "\n",
    "#fit my tree\n",
    "tree = tree.fit(X_train, y_train) #my model"
   ]
  },
  {
   "cell_type": "code",
   "execution_count": 12,
   "id": "3844c65f",
   "metadata": {},
   "outputs": [
    {
     "data": {
      "text/plain": [
       "0.8052208835341366"
      ]
     },
     "execution_count": 12,
     "metadata": {},
     "output_type": "execute_result"
    }
   ],
   "source": [
    "#model score\n",
    "tree.score(X_train, y_train)"
   ]
  },
  {
   "cell_type": "code",
   "execution_count": 13,
   "id": "21faf6a0",
   "metadata": {},
   "outputs": [],
   "source": [
    "# make prediction on train obeservations\n",
    "y_pred = tree.predict(X_train)"
   ]
  },
  {
   "cell_type": "markdown",
   "id": "ce0d6674",
   "metadata": {},
   "source": [
    "Evaluate your in-sample results using the model score, confusion matrix, and classification report."
   ]
  },
  {
   "cell_type": "code",
   "execution_count": 14,
   "id": "a6e22265",
   "metadata": {
    "scrolled": false
   },
   "outputs": [
    {
     "data": {
      "text/plain": [
       "array([[268,  39],\n",
       "       [ 58, 133]])"
      ]
     },
     "execution_count": 14,
     "metadata": {},
     "output_type": "execute_result"
    }
   ],
   "source": [
    "#confusion matrix\n",
    "metrics.confusion_matrix(y_train, y_pred)"
   ]
  },
  {
   "cell_type": "code",
   "execution_count": 15,
   "id": "b5413f94",
   "metadata": {},
   "outputs": [
    {
     "data": {
      "text/html": [
       "<div>\n",
       "<style scoped>\n",
       "    .dataframe tbody tr th:only-of-type {\n",
       "        vertical-align: middle;\n",
       "    }\n",
       "\n",
       "    .dataframe tbody tr th {\n",
       "        vertical-align: top;\n",
       "    }\n",
       "\n",
       "    .dataframe thead th {\n",
       "        text-align: right;\n",
       "    }\n",
       "</style>\n",
       "<table border=\"1\" class=\"dataframe\">\n",
       "  <thead>\n",
       "    <tr style=\"text-align: right;\">\n",
       "      <th>col_0</th>\n",
       "      <th>0</th>\n",
       "      <th>1</th>\n",
       "    </tr>\n",
       "    <tr>\n",
       "      <th>survived</th>\n",
       "      <th></th>\n",
       "      <th></th>\n",
       "    </tr>\n",
       "  </thead>\n",
       "  <tbody>\n",
       "    <tr>\n",
       "      <th>0</th>\n",
       "      <td>268</td>\n",
       "      <td>39</td>\n",
       "    </tr>\n",
       "    <tr>\n",
       "      <th>1</th>\n",
       "      <td>58</td>\n",
       "      <td>133</td>\n",
       "    </tr>\n",
       "  </tbody>\n",
       "</table>\n",
       "</div>"
      ],
      "text/plain": [
       "col_0       0    1\n",
       "survived          \n",
       "0         268   39\n",
       "1          58  133"
      ]
     },
     "execution_count": 15,
     "metadata": {},
     "output_type": "execute_result"
    }
   ],
   "source": [
    "pd.crosstab(y_train, y_pred)"
   ]
  },
  {
   "cell_type": "code",
   "execution_count": 16,
   "id": "712e9b05",
   "metadata": {
    "scrolled": true
   },
   "outputs": [
    {
     "name": "stderr",
     "output_type": "stream",
     "text": [
      "/usr/local/anaconda3/lib/python3.9/site-packages/sklearn/utils/deprecation.py:87: FutureWarning: Function plot_confusion_matrix is deprecated; Function `plot_confusion_matrix` is deprecated in 1.0 and will be removed in 1.2. Use one of the class methods: ConfusionMatrixDisplay.from_predictions or ConfusionMatrixDisplay.from_estimator.\n",
      "  warnings.warn(msg, category=FutureWarning)\n"
     ]
    },
    {
     "data": {
      "text/plain": [
       "<sklearn.metrics._plot.confusion_matrix.ConfusionMatrixDisplay at 0x7f96ec8cac10>"
      ]
     },
     "execution_count": 16,
     "metadata": {},
     "output_type": "execute_result"
    },
    {
     "data": {
      "image/png": "[encoded data removed]",
      "text/plain": [
       "<Figure size 432x288 with 2 Axes>"
      ]
     },
     "metadata": {
      "needs_background": "light"
     },
     "output_type": "display_data"
    }
   ],
   "source": [
    "metrics.plot_confusion_matrix(tree, X_train, y_train, display_labels=[0, 1])"
   ]
  },
  {
   "cell_type": "code",
   "execution_count": 17,
   "id": "72a42783",
   "metadata": {
    "scrolled": true
   },
   "outputs": [
    {
     "name": "stdout",
     "output_type": "stream",
     "text": [
      "              precision    recall  f1-score   support\n",
      "\n",
      "           0       0.82      0.87      0.85       307\n",
      "           1       0.77      0.70      0.73       191\n",
      "\n",
      "    accuracy                           0.81       498\n",
      "   macro avg       0.80      0.78      0.79       498\n",
      "weighted avg       0.80      0.81      0.80       498\n",
      "\n"
     ]
    }
   ],
   "source": [
    "#classification report\n",
    "print(metrics.classification_report(y_train, y_pred))"
   ]
  },
  {
   "cell_type": "code",
   "execution_count": 18,
   "id": "1e061fa4",
   "metadata": {},
   "outputs": [],
   "source": [
    "TN, FP, FN, TP = metrics.confusion_matrix(y_train, y_pred).ravel()"
   ]
  },
  {
   "cell_type": "code",
   "execution_count": 19,
   "id": "4fec0dd4",
   "metadata": {},
   "outputs": [
    {
     "name": "stdout",
     "output_type": "stream",
     "text": [
      "Accuracy: 0.8052208835341366 \n",
      "\n",
      "True Positive Rate/Sensitivity/Recall/Power: 0.6963350785340314 \n",
      "\n",
      "False Positive Rate/False Alarm Ratio/Fall-out: 0.1270358306188925 \n",
      "\n",
      "True Negative Rate/Specificity/Selectivity: 0.8729641693811075 \n",
      "\n",
      "False Negative Rate/Miss Rate: 0.3036649214659686 \n",
      "\n",
      "Precision/PPV: 0.7732558139534884 \n",
      "\n",
      "F1 Score: 0.7327823691460056 \n",
      "\n",
      "Support (0): 307 \n",
      "\n",
      "Support (1): 191\n"
     ]
    }
   ],
   "source": [
    "ALL = TP + FP + FN + TN\n",
    "\n",
    "accuracy = (TP + TN)/ALL\n",
    "true_positive_rate = sensitivity = recall = power = TP/(TP+FN)\n",
    "false_positive_rate = false_alarm_ratio = fallout = FP/(FP+TN)\n",
    "true_negative_rate = specificity = selectivity = TN/(TN+FP)\n",
    "false_negative_rate = miss_rate = FN/(FN+TP)\n",
    "precision = PPV = TP/(TP+FP)\n",
    "f1_score = 2*(precision*recall)/(precision+recall)\n",
    "support_pos = TP + FN\n",
    "support_neg = FP + TN\n",
    "\n",
    "print(f\"Accuracy: {accuracy}\", '\\n')\n",
    "print(f\"True Positive Rate/Sensitivity/Recall/Power: {true_positive_rate}\", '\\n')\n",
    "print(f\"False Positive Rate/False Alarm Ratio/Fall-out: {false_positive_rate}\", '\\n')\n",
    "print(f\"True Negative Rate/Specificity/Selectivity: {true_negative_rate}\", '\\n')\n",
    "print(f\"False Negative Rate/Miss Rate: {false_negative_rate}\", '\\n')\n",
    "print(f\"Precision/PPV: {precision}\", '\\n')\n",
    "print(f\"F1 Score: {f1_score}\", '\\n')\n",
    "print(f\"Support (0): {support_neg}\", '\\n')\n",
    "print(f\"Support (1): {support_pos}\")"
   ]
  },
  {
   "cell_type": "markdown",
   "id": "f0c5f1ad",
   "metadata": {},
   "source": [
    "### Find Optimal max_depth"
   ]
  },
  {
   "cell_type": "code",
   "execution_count": 20,
   "id": "371d0494",
   "metadata": {},
   "outputs": [
    {
     "name": "stdout",
     "output_type": "stream",
     "text": [
      "Tree with max depth of 1\n",
      "                    0           1  accuracy   macro avg  weighted avg\n",
      "precision    0.813505    0.711230    0.7751    0.762367      0.774279\n",
      "recall       0.824104    0.696335    0.7751    0.760220      0.775100\n",
      "f1-score     0.818770    0.703704    0.7751    0.761237      0.774638\n",
      "support    307.000000  191.000000    0.7751  498.000000    498.000000\n",
      "\n",
      "Tree with max depth of 2\n",
      "                    0           1  accuracy   macro avg  weighted avg\n",
      "precision    0.750623    0.938144  0.787149    0.844384      0.822544\n",
      "recall       0.980456    0.476440  0.787149    0.728448      0.787149\n",
      "f1-score     0.850282    0.631944  0.787149    0.741113      0.766542\n",
      "support    307.000000  191.000000  0.787149  498.000000    498.000000\n",
      "\n",
      "Tree with max depth of 3\n",
      "                    0           1  accuracy   macro avg  weighted avg\n",
      "precision    0.822086    0.773256  0.805221    0.797671      0.803358\n",
      "recall       0.872964    0.696335  0.805221    0.784650      0.805221\n",
      "f1-score     0.846761    0.732782  0.805221    0.789772      0.803047\n",
      "support    307.000000  191.000000  0.805221  498.000000    498.000000\n",
      "\n",
      "Tree with max depth of 4\n",
      "                    0           1  accuracy   macro avg  weighted avg\n",
      "precision    0.800554    0.868613  0.819277    0.834584      0.826657\n",
      "recall       0.941368    0.623037  0.819277    0.782202      0.819277\n",
      "f1-score     0.865269    0.725610  0.819277    0.795440      0.811705\n",
      "support    307.000000  191.000000  0.819277  498.000000    498.000000\n",
      "\n",
      "Tree with max depth of 5\n",
      "                    0           1  accuracy   macro avg  weighted avg\n",
      "precision    0.820513    0.870748  0.835341    0.845631      0.839780\n",
      "recall       0.938111    0.670157  0.835341    0.804134      0.835341\n",
      "f1-score     0.875380    0.757396  0.835341    0.816388      0.830129\n",
      "support    307.000000  191.000000  0.835341  498.000000    498.000000\n",
      "\n",
      "Tree with max depth of 6\n",
      "                    0           1  accuracy   macro avg  weighted avg\n",
      "precision    0.860606    0.863095  0.861446    0.861851      0.861561\n",
      "recall       0.925081    0.759162  0.861446    0.842122      0.861446\n",
      "f1-score     0.891680    0.807799  0.861446    0.849740      0.859509\n",
      "support    307.000000  191.000000  0.861446  498.000000    498.000000\n",
      "\n",
      "Tree with max depth of 7\n",
      "                    0           1  accuracy   macro avg  weighted avg\n",
      "precision    0.879518    0.909639  0.889558    0.894578      0.891070\n",
      "recall       0.951140    0.790576  0.889558    0.870858      0.889558\n",
      "f1-score     0.913928    0.845938  0.889558    0.879933      0.887852\n",
      "support    307.000000  191.000000  0.889558  498.000000    498.000000\n",
      "\n",
      "Tree with max depth of 8\n",
      "                    0           1  accuracy   macro avg  weighted avg\n",
      "precision    0.898148    0.908046  0.901606    0.903097      0.901944\n",
      "recall       0.947883    0.827225  0.901606    0.887554      0.901606\n",
      "f1-score     0.922345    0.865753  0.901606    0.894049      0.900640\n",
      "support    307.000000  191.000000  0.901606  498.000000    498.000000\n",
      "\n",
      "Tree with max depth of 9\n",
      "                    0           1  accuracy   macro avg  weighted avg\n",
      "precision    0.913043    0.926136  0.917671    0.919590      0.918065\n",
      "recall       0.957655    0.853403  0.917671    0.905529      0.917671\n",
      "f1-score     0.934817    0.888283  0.917671    0.911550      0.916970\n",
      "support    307.000000  191.000000  0.917671  498.000000    498.000000\n",
      "\n",
      "Tree with max depth of 10\n",
      "                    0           1  accuracy   macro avg  weighted avg\n",
      "precision    0.914110    0.947674  0.925703    0.930892      0.926983\n",
      "recall       0.970684    0.853403  0.925703    0.912044      0.925703\n",
      "f1-score     0.941548    0.898072  0.925703    0.919810      0.924873\n",
      "support    307.000000  191.000000  0.925703  498.000000    498.000000\n",
      "\n",
      "Tree with max depth of 11\n",
      "                    0           1  accuracy   macro avg  weighted avg\n",
      "precision    0.922601    0.948571  0.931727    0.935586      0.932561\n",
      "recall       0.970684    0.869110  0.931727    0.919897      0.931727\n",
      "f1-score     0.946032    0.907104  0.931727    0.926568      0.931102\n",
      "support    307.000000  191.000000  0.931727  498.000000    498.000000\n",
      "\n",
      "Tree with max depth of 12\n",
      "                    0           1  accuracy   macro avg  weighted avg\n",
      "precision    0.925466    0.948864  0.933735    0.937165      0.934440\n",
      "recall       0.970684    0.874346  0.933735    0.922515      0.933735\n",
      "f1-score     0.947536    0.910082  0.933735    0.928809      0.933171\n",
      "support    307.000000  191.000000  0.933735  498.000000    498.000000\n",
      "\n",
      "Tree with max depth of 13\n",
      "                    0           1  accuracy   macro avg  weighted avg\n",
      "precision    0.925466    0.948864  0.933735    0.937165      0.934440\n",
      "recall       0.970684    0.874346  0.933735    0.922515      0.933735\n",
      "f1-score     0.947536    0.910082  0.933735    0.928809      0.933171\n",
      "support    307.000000  191.000000  0.933735  498.000000    498.000000\n",
      "\n",
      "Tree with max depth of 14\n",
      "                    0           1  accuracy   macro avg  weighted avg\n",
      "precision    0.933962    0.944444  0.937751    0.939203      0.937983\n",
      "recall       0.967427    0.890052  0.937751    0.928740      0.937751\n",
      "f1-score     0.950400    0.916442  0.937751    0.933421      0.937376\n",
      "support    307.000000  191.000000  0.937751  498.000000    498.000000\n",
      "\n",
      "Tree with max depth of 15\n",
      "                    0           1  accuracy   macro avg  weighted avg\n",
      "precision    0.933962    0.944444  0.937751    0.939203      0.937983\n",
      "recall       0.967427    0.890052  0.937751    0.928740      0.937751\n",
      "f1-score     0.950400    0.916442  0.937751    0.933421      0.937376\n",
      "support    307.000000  191.000000  0.937751  498.000000    498.000000\n",
      "\n",
      "Tree with max depth of 16\n",
      "                    0           1  accuracy   macro avg  weighted avg\n",
      "precision    0.933962    0.944444  0.937751    0.939203      0.937983\n",
      "recall       0.967427    0.890052  0.937751    0.928740      0.937751\n",
      "f1-score     0.950400    0.916442  0.937751    0.933421      0.937376\n",
      "support    307.000000  191.000000  0.937751  498.000000    498.000000\n",
      "\n",
      "Tree with max depth of 17\n",
      "                    0           1  accuracy   macro avg  weighted avg\n",
      "precision    0.933962    0.944444  0.937751    0.939203      0.937983\n",
      "recall       0.967427    0.890052  0.937751    0.928740      0.937751\n",
      "f1-score     0.950400    0.916442  0.937751    0.933421      0.937376\n",
      "support    307.000000  191.000000  0.937751  498.000000    498.000000\n",
      "\n",
      "Tree with max depth of 18\n",
      "                    0           1  accuracy   macro avg  weighted avg\n",
      "precision    0.933962    0.944444  0.937751    0.939203      0.937983\n",
      "recall       0.967427    0.890052  0.937751    0.928740      0.937751\n",
      "f1-score     0.950400    0.916442  0.937751    0.933421      0.937376\n",
      "support    307.000000  191.000000  0.937751  498.000000    498.000000\n",
      "\n",
      "Tree with max depth of 19\n",
      "                    0           1  accuracy   macro avg  weighted avg\n",
      "precision    0.933962    0.944444  0.937751    0.939203      0.937983\n",
      "recall       0.967427    0.890052  0.937751    0.928740      0.937751\n",
      "f1-score     0.950400    0.916442  0.937751    0.933421      0.937376\n",
      "support    307.000000  191.000000  0.937751  498.000000    498.000000\n",
      "\n",
      "Tree with max depth of 20\n",
      "                    0           1  accuracy   macro avg  weighted avg\n",
      "precision    0.933962    0.944444  0.937751    0.939203      0.937983\n",
      "recall       0.967427    0.890052  0.937751    0.928740      0.937751\n",
      "f1-score     0.950400    0.916442  0.937751    0.933421      0.937376\n",
      "support    307.000000  191.000000  0.937751  498.000000    498.000000\n",
      "\n"
     ]
    }
   ],
   "source": [
    "for i in range(1, 21):\n",
    "    # Make the model\n",
    "    tree = DecisionTreeClassifier(max_depth=i)\n",
    "\n",
    "    # Fit the model (on train and only train)\n",
    "    tree = tree.fit(X_train, y_train)\n",
    "\n",
    "    # Use the model\n",
    "    # We'll evaluate the model's performance on train, first\n",
    "    y_predictions = tree.predict(X_train)\n",
    "\n",
    "    # Produce the classification report on the actual y values and this model's predicted y values\n",
    "    report = metrics.classification_report(y_train, y_predictions, output_dict=True)\n",
    "    print(f\"Tree with max depth of {i}\")\n",
    "    print(pd.DataFrame(report))\n",
    "    print()"
   ]
  },
  {
   "cell_type": "code",
   "execution_count": 21,
   "id": "0eaafa47",
   "metadata": {},
   "outputs": [],
   "source": [
    "drop_columns = list(titanic_validate.select_dtypes(include='object').columns)\n",
    "\n",
    "titanic_validate.drop(columns=drop_columns, inplace=True)"
   ]
  },
  {
   "cell_type": "code",
   "execution_count": 22,
   "id": "18343d72",
   "metadata": {},
   "outputs": [],
   "source": [
    "X_validate = titanic_validate.drop(columns=['survived'])\n",
    "y_validate = titanic_validate.survived"
   ]
  },
  {
   "cell_type": "code",
   "execution_count": 23,
   "id": "794f6e3e",
   "metadata": {},
   "outputs": [],
   "source": [
    "val_pred = tree.predict(X_validate)"
   ]
  },
  {
   "cell_type": "code",
   "execution_count": 24,
   "id": "6d96fe3c",
   "metadata": {},
   "outputs": [
    {
     "data": {
      "text/plain": [
       "0.7990654205607477"
      ]
     },
     "execution_count": 24,
     "metadata": {},
     "output_type": "execute_result"
    }
   ],
   "source": [
    "#model accuracy score\n",
    "tree.score(X_validate, y_validate)"
   ]
  },
  {
   "cell_type": "code",
   "execution_count": 25,
   "id": "86ce3892",
   "metadata": {
    "scrolled": false
   },
   "outputs": [
    {
     "data": {
      "text/plain": [
       "array([[117,  15],\n",
       "       [ 28,  54]])"
      ]
     },
     "execution_count": 25,
     "metadata": {},
     "output_type": "execute_result"
    }
   ],
   "source": [
    "#confusion matrix\n",
    "metrics.confusion_matrix(y_validate, val_pred)"
   ]
  },
  {
   "cell_type": "code",
   "execution_count": 26,
   "id": "960cc912",
   "metadata": {},
   "outputs": [
    {
     "name": "stdout",
     "output_type": "stream",
     "text": [
      "              precision    recall  f1-score   support\n",
      "\n",
      "           0       0.81      0.89      0.84       132\n",
      "           1       0.78      0.66      0.72        82\n",
      "\n",
      "    accuracy                           0.80       214\n",
      "   macro avg       0.79      0.77      0.78       214\n",
      "weighted avg       0.80      0.80      0.80       214\n",
      "\n"
     ]
    }
   ],
   "source": [
    "print(metrics.classification_report(y_validate, val_pred))"
   ]
  },
  {
   "cell_type": "code",
   "execution_count": 29,
   "id": "44a662fa",
   "metadata": {},
   "outputs": [
    {
     "data": {
      "text/html": [
       "<div>\n",
       "<style scoped>\n",
       "    .dataframe tbody tr th:only-of-type {\n",
       "        vertical-align: middle;\n",
       "    }\n",
       "\n",
       "    .dataframe tbody tr th {\n",
       "        vertical-align: top;\n",
       "    }\n",
       "\n",
       "    .dataframe thead th {\n",
       "        text-align: right;\n",
       "    }\n",
       "</style>\n",
       "<table border=\"1\" class=\"dataframe\">\n",
       "  <thead>\n",
       "    <tr style=\"text-align: right;\">\n",
       "      <th></th>\n",
       "      <th>max_depth</th>\n",
       "      <th>train_accuracy</th>\n",
       "      <th>validate_accuracy</th>\n",
       "      <th>difference</th>\n",
       "    </tr>\n",
       "  </thead>\n",
       "  <tbody>\n",
       "    <tr>\n",
       "      <th>0</th>\n",
       "      <td>1</td>\n",
       "      <td>0.775100</td>\n",
       "      <td>0.808411</td>\n",
       "      <td>-0.033311</td>\n",
       "    </tr>\n",
       "    <tr>\n",
       "      <th>1</th>\n",
       "      <td>2</td>\n",
       "      <td>0.787149</td>\n",
       "      <td>0.780374</td>\n",
       "      <td>0.006775</td>\n",
       "    </tr>\n",
       "    <tr>\n",
       "      <th>2</th>\n",
       "      <td>3</td>\n",
       "      <td>0.805221</td>\n",
       "      <td>0.822430</td>\n",
       "      <td>-0.017209</td>\n",
       "    </tr>\n",
       "    <tr>\n",
       "      <th>3</th>\n",
       "      <td>4</td>\n",
       "      <td>0.819277</td>\n",
       "      <td>0.808411</td>\n",
       "      <td>0.010866</td>\n",
       "    </tr>\n",
       "    <tr>\n",
       "      <th>4</th>\n",
       "      <td>5</td>\n",
       "      <td>0.835341</td>\n",
       "      <td>0.808411</td>\n",
       "      <td>0.026930</td>\n",
       "    </tr>\n",
       "    <tr>\n",
       "      <th>5</th>\n",
       "      <td>6</td>\n",
       "      <td>0.861446</td>\n",
       "      <td>0.799065</td>\n",
       "      <td>0.062380</td>\n",
       "    </tr>\n",
       "    <tr>\n",
       "      <th>6</th>\n",
       "      <td>7</td>\n",
       "      <td>0.889558</td>\n",
       "      <td>0.817757</td>\n",
       "      <td>0.071801</td>\n",
       "    </tr>\n",
       "    <tr>\n",
       "      <th>7</th>\n",
       "      <td>8</td>\n",
       "      <td>0.901606</td>\n",
       "      <td>0.808411</td>\n",
       "      <td>0.093195</td>\n",
       "    </tr>\n",
       "    <tr>\n",
       "      <th>8</th>\n",
       "      <td>9</td>\n",
       "      <td>0.917671</td>\n",
       "      <td>0.813084</td>\n",
       "      <td>0.104587</td>\n",
       "    </tr>\n",
       "    <tr>\n",
       "      <th>9</th>\n",
       "      <td>10</td>\n",
       "      <td>0.925703</td>\n",
       "      <td>0.799065</td>\n",
       "      <td>0.126637</td>\n",
       "    </tr>\n",
       "    <tr>\n",
       "      <th>10</th>\n",
       "      <td>11</td>\n",
       "      <td>0.931727</td>\n",
       "      <td>0.803738</td>\n",
       "      <td>0.127989</td>\n",
       "    </tr>\n",
       "    <tr>\n",
       "      <th>11</th>\n",
       "      <td>12</td>\n",
       "      <td>0.933735</td>\n",
       "      <td>0.808411</td>\n",
       "      <td>0.125324</td>\n",
       "    </tr>\n",
       "    <tr>\n",
       "      <th>12</th>\n",
       "      <td>13</td>\n",
       "      <td>0.933735</td>\n",
       "      <td>0.808411</td>\n",
       "      <td>0.125324</td>\n",
       "    </tr>\n",
       "    <tr>\n",
       "      <th>13</th>\n",
       "      <td>14</td>\n",
       "      <td>0.937751</td>\n",
       "      <td>0.799065</td>\n",
       "      <td>0.138686</td>\n",
       "    </tr>\n",
       "    <tr>\n",
       "      <th>14</th>\n",
       "      <td>15</td>\n",
       "      <td>0.937751</td>\n",
       "      <td>0.799065</td>\n",
       "      <td>0.138686</td>\n",
       "    </tr>\n",
       "    <tr>\n",
       "      <th>15</th>\n",
       "      <td>16</td>\n",
       "      <td>0.937751</td>\n",
       "      <td>0.799065</td>\n",
       "      <td>0.138686</td>\n",
       "    </tr>\n",
       "    <tr>\n",
       "      <th>16</th>\n",
       "      <td>17</td>\n",
       "      <td>0.937751</td>\n",
       "      <td>0.799065</td>\n",
       "      <td>0.138686</td>\n",
       "    </tr>\n",
       "    <tr>\n",
       "      <th>17</th>\n",
       "      <td>18</td>\n",
       "      <td>0.937751</td>\n",
       "      <td>0.799065</td>\n",
       "      <td>0.138686</td>\n",
       "    </tr>\n",
       "    <tr>\n",
       "      <th>18</th>\n",
       "      <td>19</td>\n",
       "      <td>0.937751</td>\n",
       "      <td>0.799065</td>\n",
       "      <td>0.138686</td>\n",
       "    </tr>\n",
       "    <tr>\n",
       "      <th>19</th>\n",
       "      <td>20</td>\n",
       "      <td>0.937751</td>\n",
       "      <td>0.799065</td>\n",
       "      <td>0.138686</td>\n",
       "    </tr>\n",
       "    <tr>\n",
       "      <th>20</th>\n",
       "      <td>21</td>\n",
       "      <td>0.937751</td>\n",
       "      <td>0.799065</td>\n",
       "      <td>0.138686</td>\n",
       "    </tr>\n",
       "    <tr>\n",
       "      <th>21</th>\n",
       "      <td>22</td>\n",
       "      <td>0.937751</td>\n",
       "      <td>0.799065</td>\n",
       "      <td>0.138686</td>\n",
       "    </tr>\n",
       "    <tr>\n",
       "      <th>22</th>\n",
       "      <td>23</td>\n",
       "      <td>0.937751</td>\n",
       "      <td>0.799065</td>\n",
       "      <td>0.138686</td>\n",
       "    </tr>\n",
       "    <tr>\n",
       "      <th>23</th>\n",
       "      <td>24</td>\n",
       "      <td>0.937751</td>\n",
       "      <td>0.799065</td>\n",
       "      <td>0.138686</td>\n",
       "    </tr>\n",
       "  </tbody>\n",
       "</table>\n",
       "</div>"
      ],
      "text/plain": [
       "    max_depth  train_accuracy  validate_accuracy  difference\n",
       "0           1        0.775100           0.808411   -0.033311\n",
       "1           2        0.787149           0.780374    0.006775\n",
       "2           3        0.805221           0.822430   -0.017209\n",
       "3           4        0.819277           0.808411    0.010866\n",
       "4           5        0.835341           0.808411    0.026930\n",
       "5           6        0.861446           0.799065    0.062380\n",
       "6           7        0.889558           0.817757    0.071801\n",
       "7           8        0.901606           0.808411    0.093195\n",
       "8           9        0.917671           0.813084    0.104587\n",
       "9          10        0.925703           0.799065    0.126637\n",
       "10         11        0.931727           0.803738    0.127989\n",
       "11         12        0.933735           0.808411    0.125324\n",
       "12         13        0.933735           0.808411    0.125324\n",
       "13         14        0.937751           0.799065    0.138686\n",
       "14         15        0.937751           0.799065    0.138686\n",
       "15         16        0.937751           0.799065    0.138686\n",
       "16         17        0.937751           0.799065    0.138686\n",
       "17         18        0.937751           0.799065    0.138686\n",
       "18         19        0.937751           0.799065    0.138686\n",
       "19         20        0.937751           0.799065    0.138686\n",
       "20         21        0.937751           0.799065    0.138686\n",
       "21         22        0.937751           0.799065    0.138686\n",
       "22         23        0.937751           0.799065    0.138686\n",
       "23         24        0.937751           0.799065    0.138686"
      ]
     },
     "execution_count": 29,
     "metadata": {},
     "output_type": "execute_result"
    }
   ],
   "source": [
    "# Let's continue getting loopy, so we can compare in-sample to out-of-sample\n",
    "metric = []\n",
    "\n",
    "for i in range(1, 25):\n",
    "    # Make the model\n",
    "    tree = DecisionTreeClassifier(max_depth=i, random_state=123)\n",
    "\n",
    "    # Fit the model (on train and only train)\n",
    "    tree = tree.fit(X_train, y_train)\n",
    "\n",
    "    # Use the model\n",
    "    # We'll evaluate the model's performance on train, first\n",
    "    in_sample_accuracy = tree.score(X_train, y_train)\n",
    "    \n",
    "    out_of_sample_accuracy = tree.score(X_validate, y_validate)\n",
    "\n",
    "    output = {\n",
    "        \"max_depth\": i,\n",
    "        \"train_accuracy\": in_sample_accuracy,\n",
    "        \"validate_accuracy\": out_of_sample_accuracy\n",
    "    }\n",
    "    \n",
    "    metric.append(output)\n",
    "    \n",
    "df = pd.DataFrame(metric)\n",
    "df[\"difference\"] = df.train_accuracy - df.validate_accuracy\n",
    "df"
   ]
  },
  {
   "cell_type": "code",
   "execution_count": 30,
   "id": "7414ac15",
   "metadata": {},
   "outputs": [
    {
     "data": {
      "image/png": "[encoded data removed]",
      "text/plain": [
       "<Figure size 864x432 with 1 Axes>"
      ]
     },
     "metadata": {
      "needs_background": "light"
     },
     "output_type": "display_data"
    }
   ],
   "source": [
    "plt.figure(figsize=(12, 6))\n",
    "plt.plot(df.max_depth, df.train_accuracy, marker = 'o', label = 'Train')\n",
    "plt.plot(df.max_depth, df.validate_accuracy, marker = 'o', label = 'Validate')\n",
    "plt.title('Overfitting Occurs at Higher Values for Max Depth')\n",
    "plt.xlabel('Max Depth')\n",
    "plt.ylabel('Accuracy')\n",
    "plt.legend()\n",
    "plt.show()"
   ]
  },
  {
   "cell_type": "code",
   "execution_count": 31,
   "id": "60df700a",
   "metadata": {
    "scrolled": true
   },
   "outputs": [
    {
     "data": {
      "text/html": [
       "<div>\n",
       "<style scoped>\n",
       "    .dataframe tbody tr th:only-of-type {\n",
       "        vertical-align: middle;\n",
       "    }\n",
       "\n",
       "    .dataframe tbody tr th {\n",
       "        vertical-align: top;\n",
       "    }\n",
       "\n",
       "    .dataframe thead th {\n",
       "        text-align: right;\n",
       "    }\n",
       "</style>\n",
       "<table border=\"1\" class=\"dataframe\">\n",
       "  <thead>\n",
       "    <tr style=\"text-align: right;\">\n",
       "      <th></th>\n",
       "      <th>max_depth</th>\n",
       "      <th>train_accuracy</th>\n",
       "      <th>validate_accuracy</th>\n",
       "      <th>difference</th>\n",
       "    </tr>\n",
       "  </thead>\n",
       "  <tbody>\n",
       "    <tr>\n",
       "      <th>2</th>\n",
       "      <td>3</td>\n",
       "      <td>0.805221</td>\n",
       "      <td>0.822430</td>\n",
       "      <td>-0.017209</td>\n",
       "    </tr>\n",
       "    <tr>\n",
       "      <th>6</th>\n",
       "      <td>7</td>\n",
       "      <td>0.889558</td>\n",
       "      <td>0.817757</td>\n",
       "      <td>0.071801</td>\n",
       "    </tr>\n",
       "    <tr>\n",
       "      <th>0</th>\n",
       "      <td>1</td>\n",
       "      <td>0.775100</td>\n",
       "      <td>0.808411</td>\n",
       "      <td>-0.033311</td>\n",
       "    </tr>\n",
       "    <tr>\n",
       "      <th>3</th>\n",
       "      <td>4</td>\n",
       "      <td>0.819277</td>\n",
       "      <td>0.808411</td>\n",
       "      <td>0.010866</td>\n",
       "    </tr>\n",
       "    <tr>\n",
       "      <th>4</th>\n",
       "      <td>5</td>\n",
       "      <td>0.835341</td>\n",
       "      <td>0.808411</td>\n",
       "      <td>0.026930</td>\n",
       "    </tr>\n",
       "    <tr>\n",
       "      <th>7</th>\n",
       "      <td>8</td>\n",
       "      <td>0.901606</td>\n",
       "      <td>0.808411</td>\n",
       "      <td>0.093195</td>\n",
       "    </tr>\n",
       "    <tr>\n",
       "      <th>5</th>\n",
       "      <td>6</td>\n",
       "      <td>0.861446</td>\n",
       "      <td>0.799065</td>\n",
       "      <td>0.062380</td>\n",
       "    </tr>\n",
       "    <tr>\n",
       "      <th>1</th>\n",
       "      <td>2</td>\n",
       "      <td>0.787149</td>\n",
       "      <td>0.780374</td>\n",
       "      <td>0.006775</td>\n",
       "    </tr>\n",
       "  </tbody>\n",
       "</table>\n",
       "</div>"
      ],
      "text/plain": [
       "   max_depth  train_accuracy  validate_accuracy  difference\n",
       "2          3        0.805221           0.822430   -0.017209\n",
       "6          7        0.889558           0.817757    0.071801\n",
       "0          1        0.775100           0.808411   -0.033311\n",
       "3          4        0.819277           0.808411    0.010866\n",
       "4          5        0.835341           0.808411    0.026930\n",
       "7          8        0.901606           0.808411    0.093195\n",
       "5          6        0.861446           0.799065    0.062380\n",
       "1          2        0.787149           0.780374    0.006775"
      ]
     },
     "execution_count": 31,
     "metadata": {},
     "output_type": "execute_result"
    }
   ],
   "source": [
    "df[df.difference <= 0.10].sort_values(by=['validate_accuracy', 'difference'], ascending = [False,True])"
   ]
  },
  {
   "cell_type": "markdown",
   "id": "cc9b6abf",
   "metadata": {},
   "source": [
    "## Telco"
   ]
  },
  {
   "cell_type": "code",
   "execution_count": 50,
   "id": "3d83d639",
   "metadata": {},
   "outputs": [],
   "source": [
    "telco_train, telco_validate, telco_test = prepare.train_validate_test_split(prepare.prep_telco(acquire.get_telco_data()), 'churn')"
   ]
  },
  {
   "cell_type": "code",
   "execution_count": 51,
   "id": "2c9e0f57",
   "metadata": {},
   "outputs": [
    {
     "data": {
      "text/plain": [
       "0    2891\n",
       "1    1046\n",
       "Name: churn_Yes, dtype: int64"
      ]
     },
     "execution_count": 51,
     "metadata": {},
     "output_type": "execute_result"
    }
   ],
   "source": [
    "telco_train.churn_Yes.value_counts()"
   ]
  },
  {
   "cell_type": "code",
   "execution_count": 52,
   "id": "d2040cba",
   "metadata": {},
   "outputs": [
    {
     "name": "stdout",
     "output_type": "stream",
     "text": [
      "Baseline accuracy: 73.43%\n"
     ]
    }
   ],
   "source": [
    "#baseline is 0 so then see where y_train is equal to 0 and then the mean of that\n",
    "baseline_acc = (y_train == 0).mean()\n",
    "\n",
    "print(f'Baseline accuracy: {baseline_acc:.2%}')"
   ]
  },
  {
   "cell_type": "code",
   "execution_count": 53,
   "id": "da4ee069",
   "metadata": {},
   "outputs": [
    {
     "data": {
      "text/html": [
       "<div>\n",
       "<style scoped>\n",
       "    .dataframe tbody tr th:only-of-type {\n",
       "        vertical-align: middle;\n",
       "    }\n",
       "\n",
       "    .dataframe tbody tr th {\n",
       "        vertical-align: top;\n",
       "    }\n",
       "\n",
       "    .dataframe thead th {\n",
       "        text-align: right;\n",
       "    }\n",
       "</style>\n",
       "<table border=\"1\" class=\"dataframe\">\n",
       "  <thead>\n",
       "    <tr style=\"text-align: right;\">\n",
       "      <th></th>\n",
       "      <th>gender</th>\n",
       "      <th>senior_citizen</th>\n",
       "      <th>partner</th>\n",
       "      <th>dependents</th>\n",
       "      <th>tenure</th>\n",
       "      <th>phone_service</th>\n",
       "      <th>multiple_lines</th>\n",
       "      <th>online_security</th>\n",
       "      <th>online_backup</th>\n",
       "      <th>device_protection</th>\n",
       "      <th>...</th>\n",
       "      <th>streaming_movies_Yes</th>\n",
       "      <th>paperless_billing_Yes</th>\n",
       "      <th>churn_Yes</th>\n",
       "      <th>contract_type_One year</th>\n",
       "      <th>contract_type_Two year</th>\n",
       "      <th>internet_service_type_Fiber optic</th>\n",
       "      <th>internet_service_type_None</th>\n",
       "      <th>payment_type_Credit card (automatic)</th>\n",
       "      <th>payment_type_Electronic check</th>\n",
       "      <th>payment_type_Mailed check</th>\n",
       "    </tr>\n",
       "  </thead>\n",
       "  <tbody>\n",
       "    <tr>\n",
       "      <th>4491</th>\n",
       "      <td>Male</td>\n",
       "      <td>0</td>\n",
       "      <td>No</td>\n",
       "      <td>No</td>\n",
       "      <td>48</td>\n",
       "      <td>Yes</td>\n",
       "      <td>No</td>\n",
       "      <td>No</td>\n",
       "      <td>Yes</td>\n",
       "      <td>Yes</td>\n",
       "      <td>...</td>\n",
       "      <td>1</td>\n",
       "      <td>0</td>\n",
       "      <td>0</td>\n",
       "      <td>0</td>\n",
       "      <td>1</td>\n",
       "      <td>0</td>\n",
       "      <td>0</td>\n",
       "      <td>1</td>\n",
       "      <td>0</td>\n",
       "      <td>0</td>\n",
       "    </tr>\n",
       "    <tr>\n",
       "      <th>2346</th>\n",
       "      <td>Female</td>\n",
       "      <td>0</td>\n",
       "      <td>Yes</td>\n",
       "      <td>Yes</td>\n",
       "      <td>58</td>\n",
       "      <td>Yes</td>\n",
       "      <td>No</td>\n",
       "      <td>No internet service</td>\n",
       "      <td>No internet service</td>\n",
       "      <td>No internet service</td>\n",
       "      <td>...</td>\n",
       "      <td>0</td>\n",
       "      <td>1</td>\n",
       "      <td>0</td>\n",
       "      <td>0</td>\n",
       "      <td>1</td>\n",
       "      <td>0</td>\n",
       "      <td>1</td>\n",
       "      <td>0</td>\n",
       "      <td>0</td>\n",
       "      <td>1</td>\n",
       "    </tr>\n",
       "    <tr>\n",
       "      <th>770</th>\n",
       "      <td>Female</td>\n",
       "      <td>0</td>\n",
       "      <td>No</td>\n",
       "      <td>Yes</td>\n",
       "      <td>44</td>\n",
       "      <td>Yes</td>\n",
       "      <td>Yes</td>\n",
       "      <td>No</td>\n",
       "      <td>Yes</td>\n",
       "      <td>No</td>\n",
       "      <td>...</td>\n",
       "      <td>1</td>\n",
       "      <td>1</td>\n",
       "      <td>0</td>\n",
       "      <td>1</td>\n",
       "      <td>0</td>\n",
       "      <td>0</td>\n",
       "      <td>0</td>\n",
       "      <td>0</td>\n",
       "      <td>0</td>\n",
       "      <td>1</td>\n",
       "    </tr>\n",
       "    <tr>\n",
       "      <th>5155</th>\n",
       "      <td>Male</td>\n",
       "      <td>0</td>\n",
       "      <td>Yes</td>\n",
       "      <td>No</td>\n",
       "      <td>10</td>\n",
       "      <td>Yes</td>\n",
       "      <td>Yes</td>\n",
       "      <td>No</td>\n",
       "      <td>No</td>\n",
       "      <td>No</td>\n",
       "      <td>...</td>\n",
       "      <td>0</td>\n",
       "      <td>1</td>\n",
       "      <td>1</td>\n",
       "      <td>0</td>\n",
       "      <td>0</td>\n",
       "      <td>1</td>\n",
       "      <td>0</td>\n",
       "      <td>0</td>\n",
       "      <td>1</td>\n",
       "      <td>0</td>\n",
       "    </tr>\n",
       "    <tr>\n",
       "      <th>189</th>\n",
       "      <td>Female</td>\n",
       "      <td>0</td>\n",
       "      <td>No</td>\n",
       "      <td>Yes</td>\n",
       "      <td>11</td>\n",
       "      <td>No</td>\n",
       "      <td>No phone service</td>\n",
       "      <td>Yes</td>\n",
       "      <td>No</td>\n",
       "      <td>No</td>\n",
       "      <td>...</td>\n",
       "      <td>0</td>\n",
       "      <td>1</td>\n",
       "      <td>0</td>\n",
       "      <td>1</td>\n",
       "      <td>0</td>\n",
       "      <td>0</td>\n",
       "      <td>0</td>\n",
       "      <td>0</td>\n",
       "      <td>0</td>\n",
       "      <td>1</td>\n",
       "    </tr>\n",
       "  </tbody>\n",
       "</table>\n",
       "<p>5 rows × 47 columns</p>\n",
       "</div>"
      ],
      "text/plain": [
       "      gender  senior_citizen partner dependents  tenure phone_service  \\\n",
       "4491    Male               0      No         No      48           Yes   \n",
       "2346  Female               0     Yes        Yes      58           Yes   \n",
       "770   Female               0      No        Yes      44           Yes   \n",
       "5155    Male               0     Yes         No      10           Yes   \n",
       "189   Female               0      No        Yes      11            No   \n",
       "\n",
       "        multiple_lines      online_security        online_backup  \\\n",
       "4491                No                   No                  Yes   \n",
       "2346                No  No internet service  No internet service   \n",
       "770                Yes                   No                  Yes   \n",
       "5155               Yes                   No                   No   \n",
       "189   No phone service                  Yes                   No   \n",
       "\n",
       "        device_protection  ... streaming_movies_Yes paperless_billing_Yes  \\\n",
       "4491                  Yes  ...                    1                     0   \n",
       "2346  No internet service  ...                    0                     1   \n",
       "770                    No  ...                    1                     1   \n",
       "5155                   No  ...                    0                     1   \n",
       "189                    No  ...                    0                     1   \n",
       "\n",
       "     churn_Yes contract_type_One year  contract_type_Two year  \\\n",
       "4491         0                      0                       1   \n",
       "2346         0                      0                       1   \n",
       "770          0                      1                       0   \n",
       "5155         1                      0                       0   \n",
       "189          0                      1                       0   \n",
       "\n",
       "      internet_service_type_Fiber optic internet_service_type_None  \\\n",
       "4491                                  0                          0   \n",
       "2346                                  0                          1   \n",
       "770                                   0                          0   \n",
       "5155                                  1                          0   \n",
       "189                                   0                          0   \n",
       "\n",
       "     payment_type_Credit card (automatic) payment_type_Electronic check  \\\n",
       "4491                                    1                             0   \n",
       "2346                                    0                             0   \n",
       "770                                     0                             0   \n",
       "5155                                    0                             1   \n",
       "189                                     0                             0   \n",
       "\n",
       "     payment_type_Mailed check  \n",
       "4491                         0  \n",
       "2346                         1  \n",
       "770                          1  \n",
       "5155                         0  \n",
       "189                          1  \n",
       "\n",
       "[5 rows x 47 columns]"
      ]
     },
     "execution_count": 53,
     "metadata": {},
     "output_type": "execute_result"
    }
   ],
   "source": [
    "telco_train.head()"
   ]
  },
  {
   "cell_type": "code",
   "execution_count": 54,
   "id": "574c100e",
   "metadata": {},
   "outputs": [],
   "source": [
    "drop_columns = list(telco_train.select_dtypes(include='object').columns)\n",
    "\n",
    "telco_train.drop(columns=drop_columns, inplace=True)"
   ]
  },
  {
   "cell_type": "code",
   "execution_count": 55,
   "id": "0203bb7d",
   "metadata": {},
   "outputs": [
    {
     "name": "stdout",
     "output_type": "stream",
     "text": [
      "<class 'pandas.core.frame.DataFrame'>\n",
      "Int64Index: 3937 entries, 4491 to 3781\n",
      "Data columns (total 31 columns):\n",
      " #   Column                                 Non-Null Count  Dtype  \n",
      "---  ------                                 --------------  -----  \n",
      " 0   senior_citizen                         3937 non-null   int64  \n",
      " 1   tenure                                 3937 non-null   int64  \n",
      " 2   monthly_charges                        3937 non-null   float64\n",
      " 3   total_charges                          3937 non-null   float64\n",
      " 4   gender_Male                            3937 non-null   uint8  \n",
      " 5   partner_Yes                            3937 non-null   uint8  \n",
      " 6   dependents_Yes                         3937 non-null   uint8  \n",
      " 7   phone_service_Yes                      3937 non-null   uint8  \n",
      " 8   multiple_lines_No phone service        3937 non-null   uint8  \n",
      " 9   multiple_lines_Yes                     3937 non-null   uint8  \n",
      " 10  online_security_No internet service    3937 non-null   uint8  \n",
      " 11  online_security_Yes                    3937 non-null   uint8  \n",
      " 12  online_backup_No internet service      3937 non-null   uint8  \n",
      " 13  online_backup_Yes                      3937 non-null   uint8  \n",
      " 14  device_protection_No internet service  3937 non-null   uint8  \n",
      " 15  device_protection_Yes                  3937 non-null   uint8  \n",
      " 16  tech_support_No internet service       3937 non-null   uint8  \n",
      " 17  tech_support_Yes                       3937 non-null   uint8  \n",
      " 18  streaming_tv_No internet service       3937 non-null   uint8  \n",
      " 19  streaming_tv_Yes                       3937 non-null   uint8  \n",
      " 20  streaming_movies_No internet service   3937 non-null   uint8  \n",
      " 21  streaming_movies_Yes                   3937 non-null   uint8  \n",
      " 22  paperless_billing_Yes                  3937 non-null   uint8  \n",
      " 23  churn_Yes                              3937 non-null   uint8  \n",
      " 24  contract_type_One year                 3937 non-null   uint8  \n",
      " 25  contract_type_Two year                 3937 non-null   uint8  \n",
      " 26  internet_service_type_Fiber optic      3937 non-null   uint8  \n",
      " 27  internet_service_type_None             3937 non-null   uint8  \n",
      " 28  payment_type_Credit card (automatic)   3937 non-null   uint8  \n",
      " 29  payment_type_Electronic check          3937 non-null   uint8  \n",
      " 30  payment_type_Mailed check              3937 non-null   uint8  \n",
      "dtypes: float64(2), int64(2), uint8(27)\n",
      "memory usage: 257.6 KB\n"
     ]
    }
   ],
   "source": [
    "telco_train.info()"
   ]
  },
  {
   "cell_type": "code",
   "execution_count": 56,
   "id": "a4688823",
   "metadata": {},
   "outputs": [],
   "source": [
    "X_train = telco_train.drop(columns=['churn_Yes'])\n",
    "y_train = telco_train.churn_Yes"
   ]
  },
  {
   "cell_type": "code",
   "execution_count": 57,
   "id": "e6f6a0d2",
   "metadata": {
    "scrolled": false
   },
   "outputs": [
    {
     "data": {
      "text/plain": [
       "DecisionTreeClassifier()"
      ]
     },
     "execution_count": 57,
     "metadata": {},
     "output_type": "execute_result"
    }
   ],
   "source": [
    "telco_tree = DecisionTreeClassifier()\n",
    "\n",
    "telco_tree.fit(X_train, y_train)"
   ]
  },
  {
   "cell_type": "code",
   "execution_count": 58,
   "id": "f3d27f62",
   "metadata": {},
   "outputs": [],
   "source": [
    "y_pred = telco_tree.predict(X_train)"
   ]
  },
  {
   "cell_type": "code",
   "execution_count": 59,
   "id": "011ea1ad",
   "metadata": {},
   "outputs": [
    {
     "data": {
      "text/plain": [
       "0.9982219964439929"
      ]
     },
     "execution_count": 59,
     "metadata": {},
     "output_type": "execute_result"
    }
   ],
   "source": [
    "#model score\n",
    "telco_tree.score(X_train, y_train)"
   ]
  },
  {
   "cell_type": "code",
   "execution_count": 60,
   "id": "301a57a2",
   "metadata": {
    "scrolled": true
   },
   "outputs": [
    {
     "data": {
      "text/plain": [
       "array([[2891,    0],\n",
       "       [   7, 1039]])"
      ]
     },
     "execution_count": 60,
     "metadata": {},
     "output_type": "execute_result"
    }
   ],
   "source": [
    "#confusion matrix\n",
    "metrics.confusion_matrix(y_train, y_pred)"
   ]
  },
  {
   "cell_type": "code",
   "execution_count": 61,
   "id": "29358ef9",
   "metadata": {
    "scrolled": false
   },
   "outputs": [
    {
     "name": "stdout",
     "output_type": "stream",
     "text": [
      "              precision    recall  f1-score   support\n",
      "\n",
      "           0       1.00      1.00      1.00      2891\n",
      "           1       1.00      0.99      1.00      1046\n",
      "\n",
      "    accuracy                           1.00      3937\n",
      "   macro avg       1.00      1.00      1.00      3937\n",
      "weighted avg       1.00      1.00      1.00      3937\n",
      "\n"
     ]
    }
   ],
   "source": [
    "#classification report\n",
    "print(metrics.classification_report(y_train, y_pred))"
   ]
  },
  {
   "cell_type": "code",
   "execution_count": 62,
   "id": "05df6461",
   "metadata": {},
   "outputs": [],
   "source": [
    "TN, FP, FN, TP = metrics.confusion_matrix(y_train, y_pred).ravel()"
   ]
  },
  {
   "cell_type": "code",
   "execution_count": 63,
   "id": "1816e653",
   "metadata": {},
   "outputs": [
    {
     "name": "stdout",
     "output_type": "stream",
     "text": [
      "Accuracy: 0.9982219964439929 \n",
      "\n",
      "True Positive Rate/Sensitivity/Recall/Power: 0.9933078393881453 \n",
      "\n",
      "False Positive Rate/False Alarm Ratio/Fall-out: 0.0 \n",
      "\n",
      "True Negative Rate/Specificity/Selectivity: 1.0 \n",
      "\n",
      "False Negative Rate/Miss Rate: 0.006692160611854685 \n",
      "\n",
      "Precision/PPV: 1.0 \n",
      "\n",
      "F1 Score: 0.9966426858513189 \n",
      "\n",
      "Support (0): 2891 \n",
      "\n",
      "Support (1): 1046\n"
     ]
    }
   ],
   "source": [
    "ALL = TP + FP + FN + TN\n",
    "\n",
    "accuracy = (TP + TN)/ALL\n",
    "true_positive_rate = sensitivity = recall = power = TP/(TP+FN)\n",
    "false_positive_rate = false_alarm_ratio = fallout = FP/(FP+TN)\n",
    "true_negative_rate = specificity = selectivity = TN/(TN+FP)\n",
    "false_negative_rate = miss_rate = FN/(FN+TP)\n",
    "precision = PPV = TP/(TP+FP)\n",
    "f1_score = 2*(precision*recall)/(precision+recall)\n",
    "support_pos = TP + FN\n",
    "support_neg = FP + TN\n",
    "\n",
    "print(f\"Accuracy: {accuracy}\", '\\n')\n",
    "print(f\"True Positive Rate/Sensitivity/Recall/Power: {true_positive_rate}\", '\\n')\n",
    "print(f\"False Positive Rate/False Alarm Ratio/Fall-out: {false_positive_rate}\", '\\n')\n",
    "print(f\"True Negative Rate/Specificity/Selectivity: {true_negative_rate}\", '\\n')\n",
    "print(f\"False Negative Rate/Miss Rate: {false_negative_rate}\", '\\n')\n",
    "print(f\"Precision/PPV: {precision}\", '\\n')\n",
    "print(f\"F1 Score: {f1_score}\", '\\n')\n",
    "print(f\"Support (0): {support_neg}\", '\\n')\n",
    "print(f\"Support (1): {support_pos}\")"
   ]
  },
  {
   "cell_type": "markdown",
   "id": "c8596e6f",
   "metadata": {},
   "source": [
    "### Find Optimal max_depth"
   ]
  },
  {
   "cell_type": "code",
   "execution_count": 64,
   "id": "a3bd8b33",
   "metadata": {},
   "outputs": [
    {
     "name": "stdout",
     "output_type": "stream",
     "text": [
      "Tree with max depth of 1\n",
      "                     0       1  accuracy    macro avg  weighted avg\n",
      "precision     0.734315     0.0  0.734315     0.367158      0.539219\n",
      "recall        1.000000     0.0  0.734315     0.500000      0.734315\n",
      "f1-score      0.846807     0.0  0.734315     0.423404      0.621824\n",
      "support    2891.000000  1046.0  0.734315  3937.000000   3937.000000\n",
      "\n",
      "Tree with max depth of 2\n",
      "                     0            1  accuracy    macro avg  weighted avg\n",
      "precision     0.800474     0.665474  0.781306     0.732974      0.764606\n",
      "recall        0.935316     0.355641  0.781306     0.645479      0.781306\n",
      "f1-score      0.862658     0.463551  0.781306     0.663104      0.756621\n",
      "support    2891.000000  1046.000000  0.781306  3937.000000   3937.000000\n",
      "\n",
      "Tree with max depth of 3\n",
      "                     0            1  accuracy    macro avg  weighted avg\n",
      "precision     0.800474     0.665474  0.781306     0.732974      0.764606\n",
      "recall        0.935316     0.355641  0.781306     0.645479      0.781306\n",
      "f1-score      0.862658     0.463551  0.781306     0.663104      0.756621\n",
      "support    2891.000000  1046.000000  0.781306  3937.000000   3937.000000\n",
      "\n",
      "Tree with max depth of 4\n",
      "                     0            1  accuracy    macro avg  weighted avg\n",
      "precision     0.823828     0.627401  0.784862     0.725614      0.771640\n",
      "recall        0.899343     0.468451  0.784862     0.683897      0.784862\n",
      "f1-score      0.859931     0.536398  0.784862     0.698165      0.773973\n",
      "support    2891.000000  1046.000000  0.784862  3937.000000   3937.000000\n",
      "\n",
      "Tree with max depth of 5\n",
      "                     0            1  accuracy    macro avg  weighted avg\n",
      "precision     0.828689     0.648267   0.79299     0.738478      0.780754\n",
      "recall        0.905223     0.482792   0.79299     0.694007      0.792990\n",
      "f1-score      0.865267     0.553425   0.79299     0.709346      0.782415\n",
      "support    2891.000000  1046.000000   0.79299  3937.000000   3937.000000\n",
      "\n",
      "Tree with max depth of 6\n",
      "                     0            1  accuracy    macro avg  weighted avg\n",
      "precision     0.847663     0.660592  0.805944     0.754127      0.797961\n",
      "recall        0.896921     0.554493  0.805944     0.725707      0.805944\n",
      "f1-score      0.871597     0.602911  0.805944     0.737254      0.800211\n",
      "support    2891.000000  1046.000000  0.805944  3937.000000   3937.000000\n",
      "\n",
      "Tree with max depth of 7\n",
      "                     0            1  accuracy    macro avg  weighted avg\n",
      "precision     0.852780     0.711864  0.823216     0.782322      0.815341\n",
      "recall        0.917676     0.562141  0.823216     0.739909      0.823216\n",
      "f1-score      0.884039     0.628205  0.823216     0.756122      0.816068\n",
      "support    2891.000000  1046.000000  0.823216  3937.000000   3937.000000\n",
      "\n",
      "Tree with max depth of 8\n",
      "                     0            1  accuracy    macro avg  weighted avg\n",
      "precision     0.867618     0.746199   0.84125     0.806909      0.835359\n",
      "recall        0.924939     0.609943   0.84125     0.767441      0.841250\n",
      "f1-score      0.895362     0.671226   0.84125     0.783294      0.835813\n",
      "support    2891.000000  1046.000000   0.84125  3937.000000   3937.000000\n",
      "\n",
      "Tree with max depth of 9\n",
      "                     0            1  accuracy    macro avg  weighted avg\n",
      "precision     0.892028     0.752075   0.85776     0.822051      0.854845\n",
      "recall        0.917330     0.693117   0.85776     0.805223      0.857760\n",
      "f1-score      0.904502     0.721393   0.85776     0.812948      0.855853\n",
      "support    2891.000000  1046.000000   0.85776  3937.000000   3937.000000\n",
      "\n",
      "Tree with max depth of 10\n",
      "                     0            1  accuracy    macro avg  weighted avg\n",
      "precision     0.909152     0.804145  0.883414     0.856649      0.881253\n",
      "recall        0.934625     0.741874  0.883414     0.838249      0.883414\n",
      "f1-score      0.921712     0.771755  0.883414     0.846734      0.881871\n",
      "support    2891.000000  1046.000000  0.883414  3937.000000   3937.000000\n",
      "\n",
      "Tree with max depth of 11\n",
      "                     0            1  accuracy    macro avg  weighted avg\n",
      "precision     0.923258     0.846791  0.904496     0.885025      0.902942\n",
      "recall        0.948807     0.782027  0.904496     0.865417      0.904496\n",
      "f1-score      0.935858     0.813121  0.904496     0.874490      0.903249\n",
      "support    2891.000000  1046.000000  0.904496  3937.000000   3937.000000\n",
      "\n",
      "Tree with max depth of 12\n",
      "                     0            1  accuracy    macro avg  weighted avg\n",
      "precision     0.940014     0.867398  0.921514     0.903706      0.920721\n",
      "recall        0.953995     0.831740  0.921514     0.892868      0.921514\n",
      "f1-score      0.946953     0.849195  0.921514     0.898074      0.920980\n",
      "support    2891.000000  1046.000000  0.921514  3937.000000   3937.000000\n",
      "\n",
      "Tree with max depth of 13\n",
      "                     0            1  accuracy    macro avg  weighted avg\n",
      "precision     0.947564     0.908257   0.93777     0.927911      0.937121\n",
      "recall        0.968869     0.851816   0.93777     0.910343      0.937770\n",
      "f1-score      0.958098     0.879132   0.93777     0.918615      0.937118\n",
      "support    2891.000000  1046.000000   0.93777  3937.000000   3937.000000\n",
      "\n",
      "Tree with max depth of 14\n",
      "                     0            1  accuracy    macro avg  weighted avg\n",
      "precision     0.955390     0.934560  0.950216     0.944975      0.949856\n",
      "recall        0.977862     0.873805  0.950216     0.925834      0.950216\n",
      "f1-score      0.966496     0.903162  0.950216     0.934829      0.949669\n",
      "support    2891.000000  1046.000000  0.950216  3937.000000   3937.000000\n",
      "\n",
      "Tree with max depth of 15\n",
      "                     0            1  accuracy    macro avg  weighted avg\n",
      "precision     0.972280     0.919125   0.95809     0.945702      0.958157\n",
      "recall        0.970598     0.923518   0.95809     0.947058      0.958090\n",
      "f1-score      0.971438     0.921316   0.95809     0.946377      0.958122\n",
      "support    2891.000000  1046.000000   0.95809  3937.000000   3937.000000\n",
      "\n",
      "Tree with max depth of 16\n",
      "                     0            1  accuracy    macro avg  weighted avg\n",
      "precision     0.972715     0.961194  0.969774     0.966954      0.969654\n",
      "recall        0.986510     0.923518  0.969774     0.955014      0.969774\n",
      "f1-score      0.979564     0.941980  0.969774     0.960772      0.969578\n",
      "support    2891.000000  1046.000000  0.969774  3937.000000   3937.000000\n",
      "\n",
      "Tree with max depth of 17\n",
      "                     0            1  accuracy    macro avg  weighted avg\n",
      "precision     0.987166     0.957306  0.979172     0.972236      0.979233\n",
      "recall        0.984434     0.964627  0.979172     0.974531      0.979172\n",
      "f1-score      0.985798     0.960952  0.979172     0.973375      0.979197\n",
      "support    2891.000000  1046.000000  0.979172  3937.000000   3937.000000\n",
      "\n",
      "Tree with max depth of 18\n",
      "                     0            1  accuracy    macro avg  weighted avg\n",
      "precision     0.986964     0.986301  0.986792     0.986633      0.986788\n",
      "recall        0.995157     0.963671  0.986792     0.979414      0.986792\n",
      "f1-score      0.991044     0.974855  0.986792     0.982949      0.986743\n",
      "support    2891.000000  1046.000000  0.986792  3937.000000   3937.000000\n",
      "\n",
      "Tree with max depth of 19\n",
      "                     0            1  accuracy    macro avg  weighted avg\n",
      "precision     0.990041     0.992195  0.990602     0.991118      0.990613\n",
      "recall        0.997233     0.972275  0.990602     0.984754      0.990602\n",
      "f1-score      0.993624     0.982134  0.990602     0.987879      0.990571\n",
      "support    2891.000000  1046.000000  0.990602  3937.000000   3937.000000\n",
      "\n",
      "Tree with max depth of 20\n",
      "                     0            1  accuracy    macro avg  weighted avg\n",
      "precision     0.994826     0.993256  0.994412     0.994041      0.994409\n",
      "recall        0.997579     0.985660  0.994412     0.991619      0.994412\n",
      "f1-score      0.996200     0.989443  0.994412     0.992822      0.994405\n",
      "support    2891.000000  1046.000000  0.994412  3937.000000   3937.000000\n",
      "\n"
     ]
    }
   ],
   "source": [
    "for i in range(1, 21):\n",
    "    # Make the model\n",
    "    tree = DecisionTreeClassifier(max_depth=i)\n",
    "\n",
    "    # Fit the model (on train and only train)\n",
    "    tree = tree.fit(X_train, y_train)\n",
    "\n",
    "    # Use the model\n",
    "    # We'll evaluate the model's performance on train, first\n",
    "    y_predictions = tree.predict(X_train)\n",
    "\n",
    "    # Produce the classification report on the actual y values and this model's predicted y values\n",
    "    report = metrics.classification_report(y_train, y_predictions, output_dict=True)\n",
    "    print(f\"Tree with max depth of {i}\")\n",
    "    print(pd.DataFrame(report))\n",
    "    print()"
   ]
  },
  {
   "cell_type": "markdown",
   "id": "1cc005df",
   "metadata": {},
   "source": [
    "**max_depth = 19+ is giving us the best accuracy**"
   ]
  },
  {
   "cell_type": "code",
   "execution_count": 70,
   "id": "99756402",
   "metadata": {},
   "outputs": [],
   "source": [
    "drop_columns = list(telco_validate.select_dtypes(include='object').columns)\n",
    "\n",
    "telco_validate.drop(columns=drop_columns, inplace=True)"
   ]
  },
  {
   "cell_type": "code",
   "execution_count": 71,
   "id": "55abd569",
   "metadata": {},
   "outputs": [],
   "source": [
    "X_validate = telco_validate.drop(columns=['churn_Yes'])\n",
    "y_validate = telco_validate.churn_Yes"
   ]
  },
  {
   "cell_type": "code",
   "execution_count": 72,
   "id": "945ca378",
   "metadata": {},
   "outputs": [],
   "source": [
    "val_pred = telco_tree.predict(X_validate)"
   ]
  },
  {
   "cell_type": "code",
   "execution_count": 80,
   "id": "906e7fd5",
   "metadata": {},
   "outputs": [
    {
     "data": {
      "text/plain": [
       "0.7322274881516587"
      ]
     },
     "execution_count": 80,
     "metadata": {},
     "output_type": "execute_result"
    }
   ],
   "source": [
    "#model accuracy score\n",
    "telco_tree.score(X_validate, y_validate)"
   ]
  },
  {
   "cell_type": "code",
   "execution_count": 74,
   "id": "ad1d80cf",
   "metadata": {
    "scrolled": false
   },
   "outputs": [
    {
     "data": {
      "text/plain": [
       "array([[1008,  231],\n",
       "       [ 221,  228]])"
      ]
     },
     "execution_count": 74,
     "metadata": {},
     "output_type": "execute_result"
    }
   ],
   "source": [
    "#confusion matrix\n",
    "metrics.confusion_matrix(y_validate, val_pred)"
   ]
  },
  {
   "cell_type": "code",
   "execution_count": 75,
   "id": "0f626030",
   "metadata": {},
   "outputs": [
    {
     "name": "stdout",
     "output_type": "stream",
     "text": [
      "              precision    recall  f1-score   support\n",
      "\n",
      "           0       0.82      0.81      0.82      1239\n",
      "           1       0.50      0.51      0.50       449\n",
      "\n",
      "    accuracy                           0.73      1688\n",
      "   macro avg       0.66      0.66      0.66      1688\n",
      "weighted avg       0.73      0.73      0.73      1688\n",
      "\n"
     ]
    }
   ],
   "source": [
    "print(metrics.classification_report(y_validate, val_pred))"
   ]
  },
  {
   "cell_type": "code",
   "execution_count": 76,
   "id": "c512462a",
   "metadata": {},
   "outputs": [
    {
     "data": {
      "text/html": [
       "<div>\n",
       "<style scoped>\n",
       "    .dataframe tbody tr th:only-of-type {\n",
       "        vertical-align: middle;\n",
       "    }\n",
       "\n",
       "    .dataframe tbody tr th {\n",
       "        vertical-align: top;\n",
       "    }\n",
       "\n",
       "    .dataframe thead th {\n",
       "        text-align: right;\n",
       "    }\n",
       "</style>\n",
       "<table border=\"1\" class=\"dataframe\">\n",
       "  <thead>\n",
       "    <tr style=\"text-align: right;\">\n",
       "      <th></th>\n",
       "      <th>max_depth</th>\n",
       "      <th>train_accuracy</th>\n",
       "      <th>validate_accuracy</th>\n",
       "      <th>difference</th>\n",
       "    </tr>\n",
       "  </thead>\n",
       "  <tbody>\n",
       "    <tr>\n",
       "      <th>0</th>\n",
       "      <td>1</td>\n",
       "      <td>0.734315</td>\n",
       "      <td>0.734005</td>\n",
       "      <td>0.000311</td>\n",
       "    </tr>\n",
       "    <tr>\n",
       "      <th>1</th>\n",
       "      <td>2</td>\n",
       "      <td>0.781306</td>\n",
       "      <td>0.795024</td>\n",
       "      <td>-0.013718</td>\n",
       "    </tr>\n",
       "    <tr>\n",
       "      <th>2</th>\n",
       "      <td>3</td>\n",
       "      <td>0.781306</td>\n",
       "      <td>0.795024</td>\n",
       "      <td>-0.013718</td>\n",
       "    </tr>\n",
       "    <tr>\n",
       "      <th>3</th>\n",
       "      <td>4</td>\n",
       "      <td>0.784862</td>\n",
       "      <td>0.799763</td>\n",
       "      <td>-0.014901</td>\n",
       "    </tr>\n",
       "    <tr>\n",
       "      <th>4</th>\n",
       "      <td>5</td>\n",
       "      <td>0.792990</td>\n",
       "      <td>0.808057</td>\n",
       "      <td>-0.015067</td>\n",
       "    </tr>\n",
       "    <tr>\n",
       "      <th>5</th>\n",
       "      <td>6</td>\n",
       "      <td>0.805944</td>\n",
       "      <td>0.802133</td>\n",
       "      <td>0.003811</td>\n",
       "    </tr>\n",
       "    <tr>\n",
       "      <th>6</th>\n",
       "      <td>7</td>\n",
       "      <td>0.823470</td>\n",
       "      <td>0.789692</td>\n",
       "      <td>0.033778</td>\n",
       "    </tr>\n",
       "    <tr>\n",
       "      <th>7</th>\n",
       "      <td>8</td>\n",
       "      <td>0.841250</td>\n",
       "      <td>0.783175</td>\n",
       "      <td>0.058074</td>\n",
       "    </tr>\n",
       "    <tr>\n",
       "      <th>8</th>\n",
       "      <td>9</td>\n",
       "      <td>0.856998</td>\n",
       "      <td>0.785545</td>\n",
       "      <td>0.071453</td>\n",
       "    </tr>\n",
       "    <tr>\n",
       "      <th>9</th>\n",
       "      <td>10</td>\n",
       "      <td>0.882652</td>\n",
       "      <td>0.762441</td>\n",
       "      <td>0.120211</td>\n",
       "    </tr>\n",
       "    <tr>\n",
       "      <th>10</th>\n",
       "      <td>11</td>\n",
       "      <td>0.904496</td>\n",
       "      <td>0.747630</td>\n",
       "      <td>0.156865</td>\n",
       "    </tr>\n",
       "    <tr>\n",
       "      <th>11</th>\n",
       "      <td>12</td>\n",
       "      <td>0.923038</td>\n",
       "      <td>0.738744</td>\n",
       "      <td>0.184294</td>\n",
       "    </tr>\n",
       "    <tr>\n",
       "      <th>12</th>\n",
       "      <td>13</td>\n",
       "      <td>0.934468</td>\n",
       "      <td>0.739929</td>\n",
       "      <td>0.194539</td>\n",
       "    </tr>\n",
       "    <tr>\n",
       "      <th>13</th>\n",
       "      <td>14</td>\n",
       "      <td>0.947930</td>\n",
       "      <td>0.729858</td>\n",
       "      <td>0.218072</td>\n",
       "    </tr>\n",
       "    <tr>\n",
       "      <th>14</th>\n",
       "      <td>15</td>\n",
       "      <td>0.958852</td>\n",
       "      <td>0.734597</td>\n",
       "      <td>0.224255</td>\n",
       "    </tr>\n",
       "    <tr>\n",
       "      <th>15</th>\n",
       "      <td>16</td>\n",
       "      <td>0.971044</td>\n",
       "      <td>0.734005</td>\n",
       "      <td>0.237039</td>\n",
       "    </tr>\n",
       "    <tr>\n",
       "      <th>16</th>\n",
       "      <td>17</td>\n",
       "      <td>0.978156</td>\n",
       "      <td>0.731635</td>\n",
       "      <td>0.246521</td>\n",
       "    </tr>\n",
       "    <tr>\n",
       "      <th>17</th>\n",
       "      <td>18</td>\n",
       "      <td>0.986792</td>\n",
       "      <td>0.736967</td>\n",
       "      <td>0.249825</td>\n",
       "    </tr>\n",
       "    <tr>\n",
       "      <th>18</th>\n",
       "      <td>19</td>\n",
       "      <td>0.991110</td>\n",
       "      <td>0.731635</td>\n",
       "      <td>0.259475</td>\n",
       "    </tr>\n",
       "    <tr>\n",
       "      <th>19</th>\n",
       "      <td>20</td>\n",
       "      <td>0.994666</td>\n",
       "      <td>0.727488</td>\n",
       "      <td>0.267178</td>\n",
       "    </tr>\n",
       "    <tr>\n",
       "      <th>20</th>\n",
       "      <td>21</td>\n",
       "      <td>0.996698</td>\n",
       "      <td>0.731635</td>\n",
       "      <td>0.265063</td>\n",
       "    </tr>\n",
       "    <tr>\n",
       "      <th>21</th>\n",
       "      <td>22</td>\n",
       "      <td>0.997714</td>\n",
       "      <td>0.728673</td>\n",
       "      <td>0.269041</td>\n",
       "    </tr>\n",
       "    <tr>\n",
       "      <th>22</th>\n",
       "      <td>23</td>\n",
       "      <td>0.998222</td>\n",
       "      <td>0.725118</td>\n",
       "      <td>0.273104</td>\n",
       "    </tr>\n",
       "    <tr>\n",
       "      <th>23</th>\n",
       "      <td>24</td>\n",
       "      <td>0.998222</td>\n",
       "      <td>0.726896</td>\n",
       "      <td>0.271326</td>\n",
       "    </tr>\n",
       "  </tbody>\n",
       "</table>\n",
       "</div>"
      ],
      "text/plain": [
       "    max_depth  train_accuracy  validate_accuracy  difference\n",
       "0           1        0.734315           0.734005    0.000311\n",
       "1           2        0.781306           0.795024   -0.013718\n",
       "2           3        0.781306           0.795024   -0.013718\n",
       "3           4        0.784862           0.799763   -0.014901\n",
       "4           5        0.792990           0.808057   -0.015067\n",
       "5           6        0.805944           0.802133    0.003811\n",
       "6           7        0.823470           0.789692    0.033778\n",
       "7           8        0.841250           0.783175    0.058074\n",
       "8           9        0.856998           0.785545    0.071453\n",
       "9          10        0.882652           0.762441    0.120211\n",
       "10         11        0.904496           0.747630    0.156865\n",
       "11         12        0.923038           0.738744    0.184294\n",
       "12         13        0.934468           0.739929    0.194539\n",
       "13         14        0.947930           0.729858    0.218072\n",
       "14         15        0.958852           0.734597    0.224255\n",
       "15         16        0.971044           0.734005    0.237039\n",
       "16         17        0.978156           0.731635    0.246521\n",
       "17         18        0.986792           0.736967    0.249825\n",
       "18         19        0.991110           0.731635    0.259475\n",
       "19         20        0.994666           0.727488    0.267178\n",
       "20         21        0.996698           0.731635    0.265063\n",
       "21         22        0.997714           0.728673    0.269041\n",
       "22         23        0.998222           0.725118    0.273104\n",
       "23         24        0.998222           0.726896    0.271326"
      ]
     },
     "execution_count": 76,
     "metadata": {},
     "output_type": "execute_result"
    }
   ],
   "source": [
    "# Let's continue getting loopy, so we can compare in-sample to out-of-sample\n",
    "metric = []\n",
    "\n",
    "for i in range(1, 25):\n",
    "    # Make the model\n",
    "    tree = DecisionTreeClassifier(max_depth=i, random_state=123)\n",
    "\n",
    "    # Fit the model (on train and only train)\n",
    "    tree = tree.fit(X_train, y_train)\n",
    "\n",
    "    # Use the model\n",
    "    # We'll evaluate the model's performance on train, first\n",
    "    in_sample_accuracy = tree.score(X_train, y_train)\n",
    "    \n",
    "    out_of_sample_accuracy = tree.score(X_validate, y_validate)\n",
    "\n",
    "    output = {\n",
    "        \"max_depth\": i,\n",
    "        \"train_accuracy\": in_sample_accuracy,\n",
    "        \"validate_accuracy\": out_of_sample_accuracy\n",
    "    }\n",
    "    \n",
    "    metric.append(output)\n",
    "    \n",
    "df = pd.DataFrame(metric)\n",
    "df[\"difference\"] = df.train_accuracy - df.validate_accuracy\n",
    "df"
   ]
  },
  {
   "cell_type": "code",
   "execution_count": 79,
   "id": "fde3de24",
   "metadata": {
    "scrolled": true
   },
   "outputs": [
    {
     "data": {
      "image/png": "[encoded data removed]",
      "text/plain": [
       "<Figure size 864x432 with 1 Axes>"
      ]
     },
     "metadata": {
      "needs_background": "light"
     },
     "output_type": "display_data"
    }
   ],
   "source": [
    "plt.figure(figsize=(12, 6))\n",
    "plt.plot(df.max_depth, df.train_accuracy, marker = 'o', label = 'Train')\n",
    "plt.plot(df.max_depth, df.validate_accuracy, marker = 'o', label = 'Validate')\n",
    "plt.title('TELCO Best fit???')\n",
    "plt.xlabel('Max Depth')\n",
    "plt.ylabel('Accuracy')\n",
    "plt.legend()\n",
    "plt.show()"
   ]
  },
  {
   "cell_type": "code",
   "execution_count": 78,
   "id": "8941088d",
   "metadata": {
    "scrolled": false
   },
   "outputs": [
    {
     "data": {
      "text/html": [
       "<div>\n",
       "<style scoped>\n",
       "    .dataframe tbody tr th:only-of-type {\n",
       "        vertical-align: middle;\n",
       "    }\n",
       "\n",
       "    .dataframe tbody tr th {\n",
       "        vertical-align: top;\n",
       "    }\n",
       "\n",
       "    .dataframe thead th {\n",
       "        text-align: right;\n",
       "    }\n",
       "</style>\n",
       "<table border=\"1\" class=\"dataframe\">\n",
       "  <thead>\n",
       "    <tr style=\"text-align: right;\">\n",
       "      <th></th>\n",
       "      <th>max_depth</th>\n",
       "      <th>train_accuracy</th>\n",
       "      <th>validate_accuracy</th>\n",
       "      <th>difference</th>\n",
       "    </tr>\n",
       "  </thead>\n",
       "  <tbody>\n",
       "    <tr>\n",
       "      <th>4</th>\n",
       "      <td>5</td>\n",
       "      <td>0.792990</td>\n",
       "      <td>0.808057</td>\n",
       "      <td>-0.015067</td>\n",
       "    </tr>\n",
       "    <tr>\n",
       "      <th>5</th>\n",
       "      <td>6</td>\n",
       "      <td>0.805944</td>\n",
       "      <td>0.802133</td>\n",
       "      <td>0.003811</td>\n",
       "    </tr>\n",
       "    <tr>\n",
       "      <th>3</th>\n",
       "      <td>4</td>\n",
       "      <td>0.784862</td>\n",
       "      <td>0.799763</td>\n",
       "      <td>-0.014901</td>\n",
       "    </tr>\n",
       "    <tr>\n",
       "      <th>1</th>\n",
       "      <td>2</td>\n",
       "      <td>0.781306</td>\n",
       "      <td>0.795024</td>\n",
       "      <td>-0.013718</td>\n",
       "    </tr>\n",
       "    <tr>\n",
       "      <th>2</th>\n",
       "      <td>3</td>\n",
       "      <td>0.781306</td>\n",
       "      <td>0.795024</td>\n",
       "      <td>-0.013718</td>\n",
       "    </tr>\n",
       "    <tr>\n",
       "      <th>6</th>\n",
       "      <td>7</td>\n",
       "      <td>0.823470</td>\n",
       "      <td>0.789692</td>\n",
       "      <td>0.033778</td>\n",
       "    </tr>\n",
       "    <tr>\n",
       "      <th>8</th>\n",
       "      <td>9</td>\n",
       "      <td>0.856998</td>\n",
       "      <td>0.785545</td>\n",
       "      <td>0.071453</td>\n",
       "    </tr>\n",
       "    <tr>\n",
       "      <th>7</th>\n",
       "      <td>8</td>\n",
       "      <td>0.841250</td>\n",
       "      <td>0.783175</td>\n",
       "      <td>0.058074</td>\n",
       "    </tr>\n",
       "    <tr>\n",
       "      <th>0</th>\n",
       "      <td>1</td>\n",
       "      <td>0.734315</td>\n",
       "      <td>0.734005</td>\n",
       "      <td>0.000311</td>\n",
       "    </tr>\n",
       "  </tbody>\n",
       "</table>\n",
       "</div>"
      ],
      "text/plain": [
       "   max_depth  train_accuracy  validate_accuracy  difference\n",
       "4          5        0.792990           0.808057   -0.015067\n",
       "5          6        0.805944           0.802133    0.003811\n",
       "3          4        0.784862           0.799763   -0.014901\n",
       "1          2        0.781306           0.795024   -0.013718\n",
       "2          3        0.781306           0.795024   -0.013718\n",
       "6          7        0.823470           0.789692    0.033778\n",
       "8          9        0.856998           0.785545    0.071453\n",
       "7          8        0.841250           0.783175    0.058074\n",
       "0          1        0.734315           0.734005    0.000311"
      ]
     },
     "execution_count": 78,
     "metadata": {},
     "output_type": "execute_result"
    }
   ],
   "source": [
    "df[df.difference <= 0.10].sort_values(by=['validate_accuracy', 'difference'], ascending = [False,True])"
   ]
  },
  {
   "cell_type": "markdown",
   "id": "d2c9831b",
   "metadata": {},
   "source": [
    "## Random Forest\n",
    "Fit the Random Forest classifier to your training sample and transform (i.e. make predictions on the training sample) setting the random_state accordingly and setting min_samples_leaf = 1 and max_depth = 10.\n",
    "\n",
    "Evaluate your results using the model score, confusion matrix, and classification report.\n",
    "\n",
    "Print and clearly label the following: Accuracy, true positive rate, false positive rate, true negative rate, false negative rate, precision, recall, f1-score, and support.\n",
    "\n",
    "Run through steps increasing your min_samples_leaf and decreasing your max_depth.\n",
    "\n",
    "What are the differences in the evaluation metrics? Which performs better on your in-sample data? Why?\n",
    "\n",
    "After making a few models, which one has the best performance (or closest metrics) on both train and validate?"
   ]
  },
  {
   "cell_type": "code",
   "execution_count": 4,
   "id": "81d4f686",
   "metadata": {},
   "outputs": [],
   "source": [
    "import pandas as pd\n",
    "import numpy as np\n",
    "import matplotlib.pyplot as plt\n",
    "import seaborn as sns\n",
    "import scipy.stats as stats\n",
    "from sklearn.model_selection import train_test_split\n",
    "import sklearn.metrics as metrics\n",
    "from sklearn.tree import DecisionTreeClassifier, plot_tree\n",
    "from sklearn.ensemble import RandomForestClassifier\n",
    "\n",
    "import acquire\n",
    "import prepare\n",
    "\n",
    "# ignore warnings\n",
    "import warnings\n",
    "warnings.filterwarnings(\"ignore\")"
   ]
  },
  {
   "cell_type": "code",
   "execution_count": 5,
   "id": "c88b28a1",
   "metadata": {},
   "outputs": [
    {
     "data": {
      "text/plain": [
       "((667, 13), (134, 13), (90, 13))"
      ]
     },
     "execution_count": 5,
     "metadata": {},
     "output_type": "execute_result"
    }
   ],
   "source": [
    "titanic_train, titanic_validate, titanic_test = prepare.train_validate_test_split(prepare.prep_titanic(acquire.get_titanic_data()),'survived')\n",
    "                                                                                  \n",
    "titanic_train.shape, titanic_validate.shape, titanic_test.shape  "
   ]
  },
  {
   "cell_type": "code",
   "execution_count": 6,
   "id": "03584c07",
   "metadata": {},
   "outputs": [],
   "source": [
    "#functions can't take strings so i dropped all columns that are strings\n",
    "drop_columns = list(titanic_train.select_dtypes(include='object').columns) + ['survived']\n",
    "\n",
    "# create X & y version of train, where y is a series with just the target variable and X are all the features. \n",
    "\n",
    "X_train = titanic_train.drop(columns=drop_columns)\n",
    "y_train = titanic_train.survived\n",
    "\n",
    "X_validate = titanic_validate.drop(columns=drop_columns)\n",
    "y_validate = titanic_validate.survived\n",
    "\n"
   ]
  },
  {
   "cell_type": "code",
   "execution_count": 7,
   "id": "005ed01b",
   "metadata": {},
   "outputs": [],
   "source": [
    "rf = RandomForestClassifier(max_depth=10, random_state=123, min_samples_leaf=1)"
   ]
  },
  {
   "cell_type": "code",
   "execution_count": 8,
   "id": "5ff92abe",
   "metadata": {},
   "outputs": [
    {
     "data": {
      "text/plain": [
       "RandomForestClassifier(max_depth=10, random_state=123)"
      ]
     },
     "execution_count": 8,
     "metadata": {},
     "output_type": "execute_result"
    }
   ],
   "source": [
    "rf.fit(X_train, y_train)"
   ]
  },
  {
   "cell_type": "code",
   "execution_count": 10,
   "id": "db61dabc",
   "metadata": {},
   "outputs": [
    {
     "data": {
      "text/plain": [
       "0.9250374812593704"
      ]
     },
     "execution_count": 10,
     "metadata": {},
     "output_type": "execute_result"
    }
   ],
   "source": [
    "rf.score(X_train, y_train)"
   ]
  },
  {
   "cell_type": "code",
   "execution_count": 11,
   "id": "a57b91c4",
   "metadata": {},
   "outputs": [
    {
     "name": "stdout",
     "output_type": "stream",
     "text": [
      "[0.05872251 0.0613704  0.40341613 0.02235967 0.30397158 0.02519896\n",
      " 0.07346358 0.01740994 0.03408722]\n"
     ]
    }
   ],
   "source": [
    "print(rf.feature_importances_)"
   ]
  },
  {
   "cell_type": "code",
   "execution_count": 12,
   "id": "f6722b6b",
   "metadata": {},
   "outputs": [
    {
     "data": {
      "image/png": "[encoded data removed]",
      "text/plain": [
       "<Figure size 432x288 with 1 Axes>"
      ]
     },
     "metadata": {
      "needs_background": "light"
     },
     "output_type": "display_data"
    }
   ],
   "source": [
    "plt.bar(X_train.columns, rf.feature_importances_)\n",
    "plt.show()"
   ]
  },
  {
   "cell_type": "code",
   "execution_count": 14,
   "id": "df427db4",
   "metadata": {},
   "outputs": [],
   "source": [
    "y_pred = rf.predict(X_train)"
   ]
  },
  {
   "cell_type": "code",
   "execution_count": 15,
   "id": "34eb1e3e",
   "metadata": {},
   "outputs": [
    {
     "name": "stdout",
     "output_type": "stream",
     "text": [
      "Accuracy of random forest classifier on training set: 0.93\n"
     ]
    }
   ],
   "source": [
    "print('Accuracy of random forest classifier on training set: {:.2f}'\n",
    "     .format(rf.score(X_train, y_train)))"
   ]
  },
  {
   "cell_type": "code",
   "execution_count": 17,
   "id": "f469592e",
   "metadata": {},
   "outputs": [
    {
     "name": "stdout",
     "output_type": "stream",
     "text": [
      "[[395  16]\n",
      " [ 34 222]]\n"
     ]
    }
   ],
   "source": [
    "cm = metrics.confusion_matrix(y_train, y_pred)\n",
    "print(cm)"
   ]
  },
  {
   "cell_type": "code",
   "execution_count": 18,
   "id": "433d78ef",
   "metadata": {
    "scrolled": false
   },
   "outputs": [
    {
     "name": "stdout",
     "output_type": "stream",
     "text": [
      "              precision    recall  f1-score   support\n",
      "\n",
      "           0       0.92      0.96      0.94       411\n",
      "           1       0.93      0.87      0.90       256\n",
      "\n",
      "    accuracy                           0.93       667\n",
      "   macro avg       0.93      0.91      0.92       667\n",
      "weighted avg       0.93      0.93      0.92       667\n",
      "\n"
     ]
    }
   ],
   "source": [
    "#classification report\n",
    "print(metrics.classification_report(y_train, y_pred))"
   ]
  },
  {
   "cell_type": "code",
   "execution_count": 19,
   "id": "c99ffb5c",
   "metadata": {},
   "outputs": [],
   "source": [
    "TN, FP, FN, TP = metrics.confusion_matrix(y_train, y_pred).ravel()"
   ]
  },
  {
   "cell_type": "code",
   "execution_count": 20,
   "id": "4c537797",
   "metadata": {},
   "outputs": [
    {
     "name": "stdout",
     "output_type": "stream",
     "text": [
      "Accuracy: 0.9250374812593704 \n",
      "\n",
      "True Positive Rate/Sensitivity/Recall/Power: 0.8671875 \n",
      "\n",
      "False Positive Rate/False Alarm Ratio/Fall-out: 0.038929440389294405 \n",
      "\n",
      "True Negative Rate/Specificity/Selectivity: 0.9610705596107056 \n",
      "\n",
      "False Negative Rate/Miss Rate: 0.1328125 \n",
      "\n",
      "Precision/PPV: 0.9327731092436975 \n",
      "\n",
      "F1 Score: 0.8987854251012145 \n",
      "\n",
      "Support (0): 411 \n",
      "\n",
      "Support (1): 256\n"
     ]
    }
   ],
   "source": [
    "ALL = TP + FP + FN + TN\n",
    "\n",
    "accuracy = (TP + TN)/ALL\n",
    "true_positive_rate = sensitivity = recall = power = TP/(TP+FN)\n",
    "false_positive_rate = false_alarm_ratio = fallout = FP/(FP+TN)\n",
    "true_negative_rate = specificity = selectivity = TN/(TN+FP)\n",
    "false_negative_rate = miss_rate = FN/(FN+TP)\n",
    "precision = PPV = TP/(TP+FP)\n",
    "f1_score = 2*(precision*recall)/(precision+recall)\n",
    "support_pos = TP + FN\n",
    "support_neg = FP + TN\n",
    "\n",
    "print(f\"Accuracy: {accuracy}\", '\\n')\n",
    "print(f\"True Positive Rate/Sensitivity/Recall/Power: {true_positive_rate}\", '\\n')\n",
    "print(f\"False Positive Rate/False Alarm Ratio/Fall-out: {false_positive_rate}\", '\\n')\n",
    "print(f\"True Negative Rate/Specificity/Selectivity: {true_negative_rate}\", '\\n')\n",
    "print(f\"False Negative Rate/Miss Rate: {false_negative_rate}\", '\\n')\n",
    "print(f\"Precision/PPV: {precision}\", '\\n')\n",
    "print(f\"F1 Score: {f1_score}\", '\\n')\n",
    "print(f\"Support (0): {support_neg}\", '\\n')\n",
    "print(f\"Support (1): {support_pos}\")"
   ]
  },
  {
   "cell_type": "code",
   "execution_count": 24,
   "id": "71ee688a",
   "metadata": {},
   "outputs": [
    {
     "name": "stdout",
     "output_type": "stream",
     "text": [
      "Tree with max depth of 20 and min_samples_leaf 1\n",
      "                    0           1  accuracy   macro avg  weighted avg\n",
      "precision    0.933962    0.938272  0.935532    0.936117      0.935616\n",
      "recall       0.963504    0.890625  0.935532    0.927064      0.935532\n",
      "f1-score     0.948503    0.913828  0.935532    0.931165      0.935194\n",
      "support    411.000000  256.000000  0.935532  667.000000    667.000000 \n",
      "\n",
      "Tree with max depth of 19 and min_samples_leaf 2\n",
      "                    0           1  accuracy   macro avg  weighted avg\n",
      "precision    0.894860    0.882845  0.890555    0.888853      0.890249\n",
      "recall       0.931873    0.824219  0.890555    0.878046      0.890555\n",
      "f1-score     0.912992    0.852525  0.890555    0.882758      0.889784\n",
      "support    411.000000  256.000000  0.890555  667.000000    667.000000 \n",
      "\n",
      "Tree with max depth of 18 and min_samples_leaf 3\n",
      "                    0           1  accuracy   macro avg  weighted avg\n",
      "precision    0.864989    0.856522  0.862069    0.860755      0.861739\n",
      "recall       0.919708    0.769531  0.862069    0.844620      0.862069\n",
      "f1-score     0.891509    0.810700  0.862069    0.851105      0.860494\n",
      "support    411.000000  256.000000  0.862069  667.000000    667.000000 \n",
      "\n",
      "Tree with max depth of 17 and min_samples_leaf 4\n",
      "                    0           1  accuracy   macro avg  weighted avg\n",
      "precision    0.856180    0.864865   0.85907    0.860522      0.859513\n",
      "recall       0.927007    0.750000   0.85907    0.838504      0.859070\n",
      "f1-score     0.890187    0.803347   0.85907    0.846767      0.856857\n",
      "support    411.000000  256.000000   0.85907  667.000000    667.000000 \n",
      "\n",
      "Tree with max depth of 16 and min_samples_leaf 5\n",
      "                    0           1  accuracy   macro avg  weighted avg\n",
      "precision    0.848552    0.862385  0.853073    0.855469      0.853862\n",
      "recall       0.927007    0.734375  0.853073    0.830691      0.853073\n",
      "f1-score     0.886047    0.793249  0.853073    0.839648      0.850430\n",
      "support    411.000000  256.000000  0.853073  667.000000    667.000000 \n",
      "\n",
      "Tree with max depth of 15 and min_samples_leaf 6\n",
      "                    0           1  accuracy   macro avg  weighted avg\n",
      "precision    0.843400    0.845455  0.844078    0.844427      0.844189\n",
      "recall       0.917275    0.726562  0.844078    0.821919      0.844078\n",
      "f1-score     0.878788    0.781513  0.844078    0.830150      0.841453\n",
      "support    411.000000  256.000000  0.844078  667.000000    667.000000 \n",
      "\n",
      "Tree with max depth of 14 and min_samples_leaf 7\n",
      "                    0           1  accuracy   macro avg  weighted avg\n",
      "precision    0.823656    0.861386  0.835082    0.842521      0.838137\n",
      "recall       0.931873    0.679688  0.835082    0.805780      0.835082\n",
      "f1-score     0.874429    0.759825  0.835082    0.817127      0.830443\n",
      "support    411.000000  256.000000  0.835082  667.000000    667.000000 \n",
      "\n",
      "Tree with max depth of 13 and min_samples_leaf 8\n",
      "                    0           1  accuracy   macro avg  weighted avg\n",
      "precision    0.815846    0.850000  0.826087    0.832923      0.828954\n",
      "recall       0.927007    0.664062  0.826087    0.795535      0.826087\n",
      "f1-score     0.867882    0.745614  0.826087    0.806748      0.820954\n",
      "support    411.000000  256.000000  0.826087  667.000000    667.000000 \n",
      "\n",
      "Tree with max depth of 12 and min_samples_leaf 9\n",
      "                    0           1  accuracy   macro avg  weighted avg\n",
      "precision    0.817987    0.855000  0.829085    0.836494      0.832193\n",
      "recall       0.929440    0.667969  0.829085    0.798705      0.829085\n",
      "f1-score     0.870159    0.750000  0.829085    0.810080      0.824041\n",
      "support    411.000000  256.000000  0.829085  667.000000    667.000000 \n",
      "\n",
      "Tree with max depth of 11 and min_samples_leaf 10\n",
      "                    0           1  accuracy   macro avg  weighted avg\n",
      "precision    0.812632    0.869792  0.829085    0.841212      0.834570\n",
      "recall       0.939173    0.652344  0.829085    0.795758      0.829085\n",
      "f1-score     0.871332    0.745536  0.829085    0.808434      0.823050\n",
      "support    411.000000  256.000000  0.829085  667.000000    667.000000 \n",
      "\n",
      "Tree with max depth of 10 and min_samples_leaf 11\n",
      "                    0           1  accuracy   macro avg  weighted avg\n",
      "precision    0.817787    0.834951  0.823088    0.826369      0.824375\n",
      "recall       0.917275    0.671875  0.823088    0.794575      0.823088\n",
      "f1-score     0.864679    0.744589  0.823088    0.804634      0.818587\n",
      "support    411.000000  256.000000  0.823088  667.000000    667.000000 \n",
      "\n",
      "Tree with max depth of 9 and min_samples_leaf 12\n",
      "                    0           1  accuracy   macro avg  weighted avg\n",
      "precision    0.816017    0.834146  0.821589    0.825082      0.822975\n",
      "recall       0.917275    0.667969  0.821589    0.792622      0.821589\n",
      "f1-score     0.863688    0.741866  0.821589    0.802777      0.816932\n",
      "support    411.000000  256.000000  0.821589  667.000000    667.000000 \n",
      "\n",
      "Tree with max depth of 8 and min_samples_leaf 13\n",
      "                    0           1  accuracy   macro avg  weighted avg\n",
      "precision    0.812095    0.828431  0.817091    0.820263      0.818365\n",
      "recall       0.914842    0.660156  0.817091    0.787499      0.817091\n",
      "f1-score     0.860412    0.734783  0.817091    0.797597      0.812194\n",
      "support    411.000000  256.000000  0.817091  667.000000    667.000000 \n",
      "\n",
      "Tree with max depth of 7 and min_samples_leaf 14\n",
      "                    0           1  accuracy   macro avg  weighted avg\n",
      "precision    0.812095    0.828431  0.817091    0.820263      0.818365\n",
      "recall       0.914842    0.660156  0.817091    0.787499      0.817091\n",
      "f1-score     0.860412    0.734783  0.817091    0.797597      0.812194\n",
      "support    411.000000  256.000000  0.817091  667.000000    667.000000 \n",
      "\n",
      "Tree with max depth of 6 and min_samples_leaf 15\n",
      "                    0           1  accuracy   macro avg  weighted avg\n",
      "precision    0.814410    0.818182  0.815592    0.816296      0.815858\n",
      "recall       0.907543    0.667969  0.815592    0.787756      0.815592\n",
      "f1-score     0.858458    0.735484  0.815592    0.796971      0.811260\n",
      "support    411.000000  256.000000  0.815592  667.000000    667.000000 \n",
      "\n",
      "Tree with max depth of 5 and min_samples_leaf 16\n",
      "                    0           1  accuracy   macro avg  weighted avg\n",
      "precision    0.786448    0.844444  0.802099    0.815446      0.808707\n",
      "recall       0.931873    0.593750  0.802099    0.762812      0.802099\n",
      "f1-score     0.853007    0.697248  0.802099    0.775127      0.793225\n",
      "support    411.000000  256.000000  0.802099  667.000000    667.000000 \n",
      "\n",
      "Tree with max depth of 4 and min_samples_leaf 17\n",
      "                    0           1  accuracy   macro avg  weighted avg\n",
      "precision    0.796258    0.849462  0.811094    0.822860      0.816678\n",
      "recall       0.931873    0.617188  0.811094    0.774530      0.811094\n",
      "f1-score     0.858744    0.714932  0.811094    0.786838      0.803548\n",
      "support    411.000000  256.000000  0.811094  667.000000    667.000000 \n",
      "\n",
      "Tree with max depth of 3 and min_samples_leaf 18\n",
      "                    0           1  accuracy   macro avg  weighted avg\n",
      "precision    0.786749    0.831522    0.7991    0.809136      0.803933\n",
      "recall       0.924574    0.597656    0.7991    0.761115      0.799100\n",
      "f1-score     0.850112    0.695455    0.7991    0.772783      0.790753\n",
      "support    411.000000  256.000000    0.7991  667.000000    667.000000 \n",
      "\n",
      "Tree with max depth of 2 and min_samples_leaf 19\n",
      "                    0           1  accuracy   macro avg  weighted avg\n",
      "precision    0.807606    0.772727  0.796102    0.790167      0.794219\n",
      "recall       0.878345    0.664062  0.796102    0.771204      0.796102\n",
      "f1-score     0.841492    0.714286  0.796102    0.777889      0.792669\n",
      "support    411.000000  256.000000  0.796102  667.000000    667.000000 \n",
      "\n",
      "Tree with max depth of 1 and min_samples_leaf 20\n",
      "                    0           1  accuracy   macro avg  weighted avg\n",
      "precision    0.729583    0.922414  0.763118    0.825998      0.803593\n",
      "recall       0.978102    0.417969  0.763118    0.698035      0.763118\n",
      "f1-score     0.835759    0.575269  0.763118    0.705514      0.735781\n",
      "support    411.000000  256.000000  0.763118  667.000000    667.000000 \n",
      "\n"
     ]
    }
   ],
   "source": [
    "p=20\n",
    "for i in range(1,21):\n",
    "    # Make the model\n",
    "    tree = RandomForestClassifier(max_depth=p, min_samples_leaf=i)\n",
    "\n",
    "    # Fit the model (on train and only train)\n",
    "    tree = tree.fit(X_train, y_train)\n",
    "\n",
    "    # Use the model\n",
    "    # We'll evaluate the model's performance on train, first\n",
    "    y_predictions = tree.predict(X_train)\n",
    "\n",
    "    # Produce the classification report on the actual y values and this model's predicted y values\n",
    "    report = metrics.classification_report(y_train, y_predictions, output_dict=True)\n",
    "    print(f\"Tree with max depth of {p} and min_samples_leaf {i}\")\n",
    "    print(pd.DataFrame(report),'\\n')\n",
    "    p-=1"
   ]
  },
  {
   "cell_type": "markdown",
   "id": "3fcc9d7b",
   "metadata": {},
   "source": [
    "**Looks like max_depth=20 and min_samples_leaf=1 is the best**"
   ]
  },
  {
   "cell_type": "code",
   "execution_count": null,
   "id": "ec2ca471",
   "metadata": {},
   "outputs": [],
   "source": []
  },
  {
   "cell_type": "code",
   "execution_count": null,
   "id": "23eaf692",
   "metadata": {},
   "outputs": [],
   "source": []
  }
 ],
 "metadata": {
  "kernelspec": {
   "display_name": "Python 3 (ipykernel)",
   "language": "python",
   "name": "python3"
  },
  "language_info": {
   "codemirror_mode": {
    "name": "ipython",
    "version": 3
   },
   "file_extension": ".py",
   "mimetype": "text/x-python",
   "name": "python",
   "nbconvert_exporter": "python",
   "pygments_lexer": "ipython3",
   "version": "3.9.12"
  }
 },
 "nbformat": 4,
 "nbformat_minor": 5
}
