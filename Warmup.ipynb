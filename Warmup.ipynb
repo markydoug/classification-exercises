{
 "cells": [
  {
   "cell_type": "markdown",
   "id": "45adae4d",
   "metadata": {},
   "source": [
    "Warmup:\n",
    "- A ball is dropped and bounces. At each rebound, the ball reaches half the height of the previous rebound.\n",
    "- How high must the ball be dropped so it reaches exactly the height h after the sixth rebound?\n",
    "- Write a .py script that accepts an integer from the user that represents the height of the ball after the sixth rebound.\n",
    "- Your .py script should print out the height that the ball must be dropped to reach the given height at the sixth rebound."
   ]
  },
  {
   "cell_type": "code",
   "execution_count": 36,
   "id": "cafe542c",
   "metadata": {},
   "outputs": [],
   "source": [
    "def rebound(h):\n",
    "    h = 64\n",
    "    x = 1\n",
    "    i=0\n",
    "    while h > x:\n",
    "        h*=.5\n",
    "        i += 1\n",
    "    return i"
   ]
  },
  {
   "cell_type": "code",
   "execution_count": 37,
   "id": "77a09b64",
   "metadata": {},
   "outputs": [
    {
     "data": {
      "text/plain": [
       "6"
      ]
     },
     "execution_count": 37,
     "metadata": {},
     "output_type": "execute_result"
    }
   ],
   "source": [
    "rebound(64)"
   ]
  },
  {
   "cell_type": "code",
   "execution_count": 35,
   "id": "245e137f",
   "metadata": {},
   "outputs": [
    {
     "name": "stdout",
     "output_type": "stream",
     "text": [
      "6\n"
     ]
    }
   ],
   "source": [
    "h = 64\n",
    "x = 1\n",
    "i=0\n",
    "while h > x:\n",
    "    h*=.5\n",
    "    i += 1\n",
    "print(i)"
   ]
  },
  {
   "cell_type": "code",
   "execution_count": 33,
   "id": "dd432b3d",
   "metadata": {},
   "outputs": [
    {
     "data": {
      "text/plain": [
       "1.5"
      ]
     },
     "execution_count": 33,
     "metadata": {},
     "output_type": "execute_result"
    }
   ],
   "source": [
    "3*.5"
   ]
  },
  {
   "cell_type": "markdown",
   "id": "d209a76e",
   "metadata": {},
   "source": [
    "## Ryan's notes"
   ]
  },
  {
   "cell_type": "code",
   "execution_count": 42,
   "id": "a4b98ede",
   "metadata": {},
   "outputs": [
    {
     "name": "stdout",
     "output_type": "stream",
     "text": [
      "After the 6th rebound, the ball is currently at what height?5\n",
      "The ball started at the height of 320.\n"
     ]
    }
   ],
   "source": [
    "height = int(input(\"After the 6th rebound, the ball is currently at what height? \"))\n",
    "\n",
    "starting_height = height * 2**6\n",
    "\n",
    "print(f'The ball started at the height of {starting_height}.')"
   ]
  },
  {
   "cell_type": "code",
   "execution_count": null,
   "id": "388ce0ab",
   "metadata": {},
   "outputs": [],
   "source": []
  }
 ],
 "metadata": {
  "kernelspec": {
   "display_name": "Python 3 (ipykernel)",
   "language": "python",
   "name": "python3"
  },
  "language_info": {
   "codemirror_mode": {
    "name": "ipython",
    "version": 3
   },
   "file_extension": ".py",
   "mimetype": "text/x-python",
   "name": "python",
   "nbconvert_exporter": "python",
   "pygments_lexer": "ipython3",
   "version": "3.9.12"
  }
 },
 "nbformat": 4,
 "nbformat_minor": 5
}
